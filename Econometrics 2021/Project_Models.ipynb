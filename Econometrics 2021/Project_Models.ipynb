{
 "cells": [
  {
   "cell_type": "markdown",
   "metadata": {},
   "source": [
    "# Часть 1\n",
    "### Cоздание массива данных"
   ]
  },
  {
   "cell_type": "code",
   "execution_count": 1,
   "metadata": {},
   "outputs": [
    {
     "name": "stdout",
     "output_type": "stream",
     "text": [
      "Populating the interactive namespace from numpy and matplotlib\n"
     ]
    }
   ],
   "source": [
    "import pandas as pd\n",
    "import numpy as np\n",
    "pd.set_option('display.max_colwidth',None)\n",
    "pd.set_option('display.max_columns',None)\n",
    "from matplotlib import pyplot as plt\n",
    "import seaborn as sns\n",
    "from sklearn.model_selection import train_test_split\n",
    "%pylab inline\n",
    "np.random.seed(123)"
   ]
  },
  {
   "cell_type": "code",
   "execution_count": 2,
   "metadata": {},
   "outputs": [],
   "source": [
    "import warnings\n",
    "warnings.filterwarnings(\"ignore\")"
   ]
  },
  {
   "cell_type": "code",
   "execution_count": 3,
   "metadata": {},
   "outputs": [
    {
     "data": {
      "text/html": [
       "<div>\n",
       "<style scoped>\n",
       "    .dataframe tbody tr th:only-of-type {\n",
       "        vertical-align: middle;\n",
       "    }\n",
       "\n",
       "    .dataframe tbody tr th {\n",
       "        vertical-align: top;\n",
       "    }\n",
       "\n",
       "    .dataframe thead th {\n",
       "        text-align: right;\n",
       "    }\n",
       "</style>\n",
       "<table border=\"1\" class=\"dataframe\">\n",
       "  <thead>\n",
       "    <tr style=\"text-align: right;\">\n",
       "      <th></th>\n",
       "      <th>№</th>\n",
       "      <th>Name</th>\n",
       "      <th>Year</th>\n",
       "      <th>Age</th>\n",
       "      <th>Status</th>\n",
       "      <th>Legal Form</th>\n",
       "      <th>Ownership Form</th>\n",
       "      <th>Current Assets</th>\n",
       "      <th>Total Asstes</th>\n",
       "      <th>Retained Earnings</th>\n",
       "      <th>LT liabilities</th>\n",
       "      <th>ST liabilities</th>\n",
       "      <th>Total Liabilities</th>\n",
       "      <th>Revenue</th>\n",
       "      <th>TA turnover</th>\n",
       "      <th>Current Assets/TA</th>\n",
       "      <th>Retained Earnings/TA</th>\n",
       "      <th>LT liabilities/TA</th>\n",
       "      <th>ST liabilities/TA</th>\n",
       "      <th>Total liabilities/TA</th>\n",
       "      <th>Revenue/RA</th>\n",
       "      <th>StateOwnership</th>\n",
       "      <th>Partial</th>\n",
       "      <th>Private</th>\n",
       "      <th>SC</th>\n",
       "      <th>StateLegal</th>\n",
       "      <th>Agricultural</th>\n",
       "      <th>NonCom</th>\n",
       "      <th>Cooperative</th>\n",
       "      <th>LLC</th>\n",
       "    </tr>\n",
       "  </thead>\n",
       "  <tbody>\n",
       "    <tr>\n",
       "      <th>0</th>\n",
       "      <td>1</td>\n",
       "      <td>(ТУЛАТЕХМАШ), АО</td>\n",
       "      <td>19</td>\n",
       "      <td>29.0</td>\n",
       "      <td>1</td>\n",
       "      <td>0</td>\n",
       "      <td>0</td>\n",
       "      <td>192345000</td>\n",
       "      <td>228294000</td>\n",
       "      <td>-32949000</td>\n",
       "      <td>93533000</td>\n",
       "      <td>158381000</td>\n",
       "      <td>251914000</td>\n",
       "      <td>36594000</td>\n",
       "      <td>0.1425</td>\n",
       "      <td>0.842532</td>\n",
       "      <td>-0.144327</td>\n",
       "      <td>0.409704</td>\n",
       "      <td>0.693759</td>\n",
       "      <td>1.103463</td>\n",
       "      <td>0.160293</td>\n",
       "      <td>0</td>\n",
       "      <td>0</td>\n",
       "      <td>1</td>\n",
       "      <td>1</td>\n",
       "      <td>0</td>\n",
       "      <td>0</td>\n",
       "      <td>0</td>\n",
       "      <td>0</td>\n",
       "      <td>0</td>\n",
       "    </tr>\n",
       "    <tr>\n",
       "      <th>1</th>\n",
       "      <td>2</td>\n",
       "      <td>18 ЦАРЗ, АО</td>\n",
       "      <td>19</td>\n",
       "      <td>11.5</td>\n",
       "      <td>1</td>\n",
       "      <td>0</td>\n",
       "      <td>2</td>\n",
       "      <td>79057000</td>\n",
       "      <td>507607000</td>\n",
       "      <td>-375469000</td>\n",
       "      <td>9007000</td>\n",
       "      <td>466916000</td>\n",
       "      <td>475923000</td>\n",
       "      <td>2173000</td>\n",
       "      <td>0.0041</td>\n",
       "      <td>0.346295</td>\n",
       "      <td>-1.644673</td>\n",
       "      <td>0.039454</td>\n",
       "      <td>2.045240</td>\n",
       "      <td>2.084693</td>\n",
       "      <td>0.009518</td>\n",
       "      <td>0</td>\n",
       "      <td>1</td>\n",
       "      <td>0</td>\n",
       "      <td>1</td>\n",
       "      <td>0</td>\n",
       "      <td>0</td>\n",
       "      <td>0</td>\n",
       "      <td>0</td>\n",
       "      <td>0</td>\n",
       "    </tr>\n",
       "    <tr>\n",
       "      <th>2</th>\n",
       "      <td>3</td>\n",
       "      <td>39 АРСЕНАЛ, АО</td>\n",
       "      <td>19</td>\n",
       "      <td>26.5</td>\n",
       "      <td>1</td>\n",
       "      <td>0</td>\n",
       "      <td>1</td>\n",
       "      <td>209931000</td>\n",
       "      <td>286396000</td>\n",
       "      <td>-199177000</td>\n",
       "      <td>168000</td>\n",
       "      <td>456867000</td>\n",
       "      <td>457035000</td>\n",
       "      <td>44035000</td>\n",
       "      <td>0.1531</td>\n",
       "      <td>0.919564</td>\n",
       "      <td>-0.872458</td>\n",
       "      <td>0.000736</td>\n",
       "      <td>2.001222</td>\n",
       "      <td>2.001958</td>\n",
       "      <td>0.192887</td>\n",
       "      <td>1</td>\n",
       "      <td>0</td>\n",
       "      <td>0</td>\n",
       "      <td>1</td>\n",
       "      <td>0</td>\n",
       "      <td>0</td>\n",
       "      <td>0</td>\n",
       "      <td>0</td>\n",
       "      <td>0</td>\n",
       "    </tr>\n",
       "    <tr>\n",
       "      <th>3</th>\n",
       "      <td>4</td>\n",
       "      <td>94 АРЗ, АО</td>\n",
       "      <td>19</td>\n",
       "      <td>25.5</td>\n",
       "      <td>1</td>\n",
       "      <td>0</td>\n",
       "      <td>1</td>\n",
       "      <td>10463000</td>\n",
       "      <td>233053000</td>\n",
       "      <td>-175760000</td>\n",
       "      <td>1195000</td>\n",
       "      <td>218191000</td>\n",
       "      <td>219386000</td>\n",
       "      <td>3757000</td>\n",
       "      <td>0.0166</td>\n",
       "      <td>0.045831</td>\n",
       "      <td>-0.769884</td>\n",
       "      <td>0.005234</td>\n",
       "      <td>0.955746</td>\n",
       "      <td>0.960980</td>\n",
       "      <td>0.016457</td>\n",
       "      <td>1</td>\n",
       "      <td>0</td>\n",
       "      <td>0</td>\n",
       "      <td>1</td>\n",
       "      <td>0</td>\n",
       "      <td>0</td>\n",
       "      <td>0</td>\n",
       "      <td>0</td>\n",
       "      <td>0</td>\n",
       "    </tr>\n",
       "    <tr>\n",
       "      <th>4</th>\n",
       "      <td>5</td>\n",
       "      <td>АБСОЛЮТ, ООО</td>\n",
       "      <td>19</td>\n",
       "      <td>27.0</td>\n",
       "      <td>1</td>\n",
       "      <td>5</td>\n",
       "      <td>0</td>\n",
       "      <td>63009000</td>\n",
       "      <td>160632000</td>\n",
       "      <td>-78300000</td>\n",
       "      <td>6471000</td>\n",
       "      <td>206861000</td>\n",
       "      <td>213332000</td>\n",
       "      <td>2461000</td>\n",
       "      <td>0.0129</td>\n",
       "      <td>0.275999</td>\n",
       "      <td>-0.342979</td>\n",
       "      <td>0.028345</td>\n",
       "      <td>0.906117</td>\n",
       "      <td>0.934462</td>\n",
       "      <td>0.010780</td>\n",
       "      <td>0</td>\n",
       "      <td>0</td>\n",
       "      <td>1</td>\n",
       "      <td>0</td>\n",
       "      <td>0</td>\n",
       "      <td>0</td>\n",
       "      <td>0</td>\n",
       "      <td>0</td>\n",
       "      <td>1</td>\n",
       "    </tr>\n",
       "    <tr>\n",
       "      <th>...</th>\n",
       "      <td>...</td>\n",
       "      <td>...</td>\n",
       "      <td>...</td>\n",
       "      <td>...</td>\n",
       "      <td>...</td>\n",
       "      <td>...</td>\n",
       "      <td>...</td>\n",
       "      <td>...</td>\n",
       "      <td>...</td>\n",
       "      <td>...</td>\n",
       "      <td>...</td>\n",
       "      <td>...</td>\n",
       "      <td>...</td>\n",
       "      <td>...</td>\n",
       "      <td>...</td>\n",
       "      <td>...</td>\n",
       "      <td>...</td>\n",
       "      <td>...</td>\n",
       "      <td>...</td>\n",
       "      <td>...</td>\n",
       "      <td>...</td>\n",
       "      <td>...</td>\n",
       "      <td>...</td>\n",
       "      <td>...</td>\n",
       "      <td>...</td>\n",
       "      <td>...</td>\n",
       "      <td>...</td>\n",
       "      <td>...</td>\n",
       "      <td>...</td>\n",
       "      <td>...</td>\n",
       "    </tr>\n",
       "    <tr>\n",
       "      <th>19661</th>\n",
       "      <td>19662</td>\n",
       "      <td>4ФРЭШ, ООО</td>\n",
       "      <td>20</td>\n",
       "      <td>1.5</td>\n",
       "      <td>0</td>\n",
       "      <td>5</td>\n",
       "      <td>0</td>\n",
       "      <td>151849000</td>\n",
       "      <td>166295000</td>\n",
       "      <td>14723000</td>\n",
       "      <td>144000</td>\n",
       "      <td>151378000</td>\n",
       "      <td>151522000</td>\n",
       "      <td>771586000</td>\n",
       "      <td>5.3344</td>\n",
       "      <td>0.665147</td>\n",
       "      <td>0.064491</td>\n",
       "      <td>0.000631</td>\n",
       "      <td>0.663084</td>\n",
       "      <td>0.663714</td>\n",
       "      <td>3.379791</td>\n",
       "      <td>0</td>\n",
       "      <td>0</td>\n",
       "      <td>1</td>\n",
       "      <td>0</td>\n",
       "      <td>0</td>\n",
       "      <td>0</td>\n",
       "      <td>0</td>\n",
       "      <td>0</td>\n",
       "      <td>1</td>\n",
       "    </tr>\n",
       "    <tr>\n",
       "      <th>19662</th>\n",
       "      <td>19663</td>\n",
       "      <td>(КОЛХОЗ) ИМЕНИ ШЕВЧЕНКО, СПК</td>\n",
       "      <td>20</td>\n",
       "      <td>28.0</td>\n",
       "      <td>0</td>\n",
       "      <td>2</td>\n",
       "      <td>0</td>\n",
       "      <td>222633000</td>\n",
       "      <td>472009000</td>\n",
       "      <td>363265000</td>\n",
       "      <td>75981000</td>\n",
       "      <td>8769000</td>\n",
       "      <td>84750000</td>\n",
       "      <td>311983000</td>\n",
       "      <td>0.7227</td>\n",
       "      <td>0.975203</td>\n",
       "      <td>1.591216</td>\n",
       "      <td>0.332821</td>\n",
       "      <td>0.038411</td>\n",
       "      <td>0.371232</td>\n",
       "      <td>1.366584</td>\n",
       "      <td>0</td>\n",
       "      <td>0</td>\n",
       "      <td>1</td>\n",
       "      <td>0</td>\n",
       "      <td>0</td>\n",
       "      <td>1</td>\n",
       "      <td>0</td>\n",
       "      <td>0</td>\n",
       "      <td>0</td>\n",
       "    </tr>\n",
       "    <tr>\n",
       "      <th>19663</th>\n",
       "      <td>19664</td>\n",
       "      <td>ТЭС, АО</td>\n",
       "      <td>20</td>\n",
       "      <td>10.5</td>\n",
       "      <td>1</td>\n",
       "      <td>0</td>\n",
       "      <td>0</td>\n",
       "      <td>79877000</td>\n",
       "      <td>87991000</td>\n",
       "      <td>-21156000</td>\n",
       "      <td>1000</td>\n",
       "      <td>108074000</td>\n",
       "      <td>108075000</td>\n",
       "      <td>17238000</td>\n",
       "      <td>0.1468</td>\n",
       "      <td>0.349887</td>\n",
       "      <td>-0.092670</td>\n",
       "      <td>0.000004</td>\n",
       "      <td>0.473398</td>\n",
       "      <td>0.473403</td>\n",
       "      <td>0.075508</td>\n",
       "      <td>0</td>\n",
       "      <td>0</td>\n",
       "      <td>1</td>\n",
       "      <td>1</td>\n",
       "      <td>0</td>\n",
       "      <td>0</td>\n",
       "      <td>0</td>\n",
       "      <td>0</td>\n",
       "      <td>0</td>\n",
       "    </tr>\n",
       "    <tr>\n",
       "      <th>19664</th>\n",
       "      <td>19665</td>\n",
       "      <td>СФЕРА УПАКОВКИ, ООО</td>\n",
       "      <td>20</td>\n",
       "      <td>5.0</td>\n",
       "      <td>1</td>\n",
       "      <td>5</td>\n",
       "      <td>0</td>\n",
       "      <td>168824000</td>\n",
       "      <td>168824000</td>\n",
       "      <td>4711000</td>\n",
       "      <td>2059000</td>\n",
       "      <td>161944000</td>\n",
       "      <td>164003000</td>\n",
       "      <td>121213000</td>\n",
       "      <td>0.6894</td>\n",
       "      <td>0.739503</td>\n",
       "      <td>0.020636</td>\n",
       "      <td>0.009019</td>\n",
       "      <td>0.709366</td>\n",
       "      <td>0.718385</td>\n",
       "      <td>0.530951</td>\n",
       "      <td>0</td>\n",
       "      <td>0</td>\n",
       "      <td>1</td>\n",
       "      <td>0</td>\n",
       "      <td>0</td>\n",
       "      <td>0</td>\n",
       "      <td>0</td>\n",
       "      <td>0</td>\n",
       "      <td>1</td>\n",
       "    </tr>\n",
       "    <tr>\n",
       "      <th>19665</th>\n",
       "      <td>19666</td>\n",
       "      <td>СИНДИКАТ-С, ООО</td>\n",
       "      <td>20</td>\n",
       "      <td>12.0</td>\n",
       "      <td>1</td>\n",
       "      <td>5</td>\n",
       "      <td>0</td>\n",
       "      <td>413000</td>\n",
       "      <td>413000</td>\n",
       "      <td>-26249000</td>\n",
       "      <td>24121000</td>\n",
       "      <td>2530000</td>\n",
       "      <td>26651000</td>\n",
       "      <td>9970000</td>\n",
       "      <td>3.0963</td>\n",
       "      <td>0.001809</td>\n",
       "      <td>-0.114979</td>\n",
       "      <td>0.105658</td>\n",
       "      <td>0.011082</td>\n",
       "      <td>0.116740</td>\n",
       "      <td>0.043672</td>\n",
       "      <td>0</td>\n",
       "      <td>0</td>\n",
       "      <td>1</td>\n",
       "      <td>0</td>\n",
       "      <td>0</td>\n",
       "      <td>0</td>\n",
       "      <td>0</td>\n",
       "      <td>0</td>\n",
       "      <td>1</td>\n",
       "    </tr>\n",
       "  </tbody>\n",
       "</table>\n",
       "<p>19666 rows × 30 columns</p>\n",
       "</div>"
      ],
      "text/plain": [
       "           №                          Name  Year   Age  Status  Legal Form  \\\n",
       "0          1              (ТУЛАТЕХМАШ), АО    19  29.0       1           0   \n",
       "1          2                   18 ЦАРЗ, АО    19  11.5       1           0   \n",
       "2          3                39 АРСЕНАЛ, АО    19  26.5       1           0   \n",
       "3          4                    94 АРЗ, АО    19  25.5       1           0   \n",
       "4          5                  АБСОЛЮТ, ООО    19  27.0       1           5   \n",
       "...      ...                           ...   ...   ...     ...         ...   \n",
       "19661  19662                    4ФРЭШ, ООО    20   1.5       0           5   \n",
       "19662  19663  (КОЛХОЗ) ИМЕНИ ШЕВЧЕНКО, СПК    20  28.0       0           2   \n",
       "19663  19664                       ТЭС, АО    20  10.5       1           0   \n",
       "19664  19665           СФЕРА УПАКОВКИ, ООО    20   5.0       1           5   \n",
       "19665  19666               СИНДИКАТ-С, ООО    20  12.0       1           5   \n",
       "\n",
       "       Ownership Form  Current Assets  Total Asstes  Retained Earnings  \\\n",
       "0                   0       192345000     228294000          -32949000   \n",
       "1                   2        79057000     507607000         -375469000   \n",
       "2                   1       209931000     286396000         -199177000   \n",
       "3                   1        10463000     233053000         -175760000   \n",
       "4                   0        63009000     160632000          -78300000   \n",
       "...               ...             ...           ...                ...   \n",
       "19661               0       151849000     166295000           14723000   \n",
       "19662               0       222633000     472009000          363265000   \n",
       "19663               0        79877000      87991000          -21156000   \n",
       "19664               0       168824000     168824000            4711000   \n",
       "19665               0          413000        413000          -26249000   \n",
       "\n",
       "       LT liabilities  ST liabilities  Total Liabilities    Revenue  \\\n",
       "0            93533000       158381000          251914000   36594000   \n",
       "1             9007000       466916000          475923000    2173000   \n",
       "2              168000       456867000          457035000   44035000   \n",
       "3             1195000       218191000          219386000    3757000   \n",
       "4             6471000       206861000          213332000    2461000   \n",
       "...               ...             ...                ...        ...   \n",
       "19661          144000       151378000          151522000  771586000   \n",
       "19662        75981000         8769000           84750000  311983000   \n",
       "19663            1000       108074000          108075000   17238000   \n",
       "19664         2059000       161944000          164003000  121213000   \n",
       "19665        24121000         2530000           26651000    9970000   \n",
       "\n",
       "       TA turnover  Current Assets/TA  Retained Earnings/TA  \\\n",
       "0           0.1425           0.842532             -0.144327   \n",
       "1           0.0041           0.346295             -1.644673   \n",
       "2           0.1531           0.919564             -0.872458   \n",
       "3           0.0166           0.045831             -0.769884   \n",
       "4           0.0129           0.275999             -0.342979   \n",
       "...            ...                ...                   ...   \n",
       "19661       5.3344           0.665147              0.064491   \n",
       "19662       0.7227           0.975203              1.591216   \n",
       "19663       0.1468           0.349887             -0.092670   \n",
       "19664       0.6894           0.739503              0.020636   \n",
       "19665       3.0963           0.001809             -0.114979   \n",
       "\n",
       "       LT liabilities/TA  ST liabilities/TA  Total liabilities/TA  Revenue/RA  \\\n",
       "0               0.409704           0.693759              1.103463    0.160293   \n",
       "1               0.039454           2.045240              2.084693    0.009518   \n",
       "2               0.000736           2.001222              2.001958    0.192887   \n",
       "3               0.005234           0.955746              0.960980    0.016457   \n",
       "4               0.028345           0.906117              0.934462    0.010780   \n",
       "...                  ...                ...                   ...         ...   \n",
       "19661           0.000631           0.663084              0.663714    3.379791   \n",
       "19662           0.332821           0.038411              0.371232    1.366584   \n",
       "19663           0.000004           0.473398              0.473403    0.075508   \n",
       "19664           0.009019           0.709366              0.718385    0.530951   \n",
       "19665           0.105658           0.011082              0.116740    0.043672   \n",
       "\n",
       "       StateOwnership  Partial  Private  SC  StateLegal  Agricultural  NonCom  \\\n",
       "0                   0        0        1   1           0             0       0   \n",
       "1                   0        1        0   1           0             0       0   \n",
       "2                   1        0        0   1           0             0       0   \n",
       "3                   1        0        0   1           0             0       0   \n",
       "4                   0        0        1   0           0             0       0   \n",
       "...               ...      ...      ...  ..         ...           ...     ...   \n",
       "19661               0        0        1   0           0             0       0   \n",
       "19662               0        0        1   0           0             1       0   \n",
       "19663               0        0        1   1           0             0       0   \n",
       "19664               0        0        1   0           0             0       0   \n",
       "19665               0        0        1   0           0             0       0   \n",
       "\n",
       "       Cooperative  LLC  \n",
       "0                0    0  \n",
       "1                0    0  \n",
       "2                0    0  \n",
       "3                0    0  \n",
       "4                0    1  \n",
       "...            ...  ...  \n",
       "19661            0    1  \n",
       "19662            0    0  \n",
       "19663            0    0  \n",
       "19664            0    1  \n",
       "19665            0    1  \n",
       "\n",
       "[19666 rows x 30 columns]"
      ]
     },
     "execution_count": 3,
     "metadata": {},
     "output_type": "execute_result"
    }
   ],
   "source": [
    "df=pd.read_excel('dataset_4.xlsx')\n",
    "df"
   ]
  },
  {
   "cell_type": "markdown",
   "metadata": {},
   "source": [
    "Удаляем пустые значения"
   ]
  },
  {
   "cell_type": "code",
   "execution_count": 4,
   "metadata": {},
   "outputs": [],
   "source": [
    "df = df.dropna()"
   ]
  },
  {
   "cell_type": "markdown",
   "metadata": {},
   "source": [
    "Удаляем целевую переменную из датасета"
   ]
  },
  {
   "cell_type": "code",
   "execution_count": 6,
   "metadata": {},
   "outputs": [],
   "source": [
    "data = df.copy()\n",
    "Y = data['Status']\n",
    "data = data.drop(['Status'], axis=1)"
   ]
  },
  {
   "cell_type": "code",
   "execution_count": 7,
   "metadata": {},
   "outputs": [
    {
     "data": {
      "text/plain": [
       "0    18234\n",
       "1     1432\n",
       "Name: Status, dtype: int64"
      ]
     },
     "execution_count": 7,
     "metadata": {},
     "output_type": "execute_result"
    }
   ],
   "source": [
    "Y.value_counts()"
   ]
  },
  {
   "cell_type": "markdown",
   "metadata": {},
   "source": [
    "Создаем числовой массив данных. Убираем текстовые и категориальные переменные."
   ]
  },
  {
   "cell_type": "code",
   "execution_count": 8,
   "metadata": {},
   "outputs": [],
   "source": [
    "data_num = data.copy()\n",
    "data_num = data_num.drop(['№','Name', 'Legal Form', 'Ownership Form'], axis = 1)"
   ]
  },
  {
   "cell_type": "markdown",
   "metadata": {},
   "source": [
    "Еще у нас в данных год закодирован двумя значениями: 19 и 20. Закодируем 0, если год 2019 и 1, если 2020"
   ]
  },
  {
   "cell_type": "code",
   "execution_count": 10,
   "metadata": {},
   "outputs": [
    {
     "data": {
      "text/plain": [
       "0    18294\n",
       "1     1372\n",
       "Name: Year, dtype: int64"
      ]
     },
     "execution_count": 10,
     "metadata": {},
     "output_type": "execute_result"
    }
   ],
   "source": [
    "data_num['Year']= pd.get_dummies(data_num['Year'], prefix='Year')\n",
    "data_num['Year'].value_counts()"
   ]
  },
  {
   "cell_type": "markdown",
   "metadata": {},
   "source": [
    "Создаем таблицу корреляций регрессоров с зависимой"
   ]
  },
  {
   "cell_type": "code",
   "execution_count": 11,
   "metadata": {},
   "outputs": [],
   "source": [
    "corr_matr = data_num.corrwith(Y)"
   ]
  },
  {
   "cell_type": "code",
   "execution_count": 12,
   "metadata": {},
   "outputs": [],
   "source": [
    "corr_matr = corr_matr.to_dict()\n",
    "tab = {'indicator': list(corr_matr.keys()) , 'value': list(corr_matr.values())}\n",
    "tabl = pd.DataFrame(tab, columns = ['indicator','value'])\n",
    "tabl = tabl.sort_values(by=['value'])"
   ]
  },
  {
   "cell_type": "markdown",
   "metadata": {},
   "source": [
    "Переменные, которые коррелируют с зависимой переменной с коэффом > 0.05"
   ]
  },
  {
   "cell_type": "code",
   "execution_count": 13,
   "metadata": {},
   "outputs": [
    {
     "data": {
      "text/html": [
       "<div>\n",
       "<style scoped>\n",
       "    .dataframe tbody tr th:only-of-type {\n",
       "        vertical-align: middle;\n",
       "    }\n",
       "\n",
       "    .dataframe tbody tr th {\n",
       "        vertical-align: top;\n",
       "    }\n",
       "\n",
       "    .dataframe thead th {\n",
       "        text-align: right;\n",
       "    }\n",
       "</style>\n",
       "<table border=\"1\" class=\"dataframe\">\n",
       "  <thead>\n",
       "    <tr style=\"text-align: right;\">\n",
       "      <th></th>\n",
       "      <th>indicator</th>\n",
       "      <th>value</th>\n",
       "    </tr>\n",
       "  </thead>\n",
       "  <tbody>\n",
       "    <tr>\n",
       "      <th>11</th>\n",
       "      <td>Retained Earnings/TA</td>\n",
       "      <td>-0.269905</td>\n",
       "    </tr>\n",
       "    <tr>\n",
       "      <th>4</th>\n",
       "      <td>Retained Earnings</td>\n",
       "      <td>-0.269905</td>\n",
       "    </tr>\n",
       "    <tr>\n",
       "      <th>18</th>\n",
       "      <td>Private</td>\n",
       "      <td>-0.109416</td>\n",
       "    </tr>\n",
       "    <tr>\n",
       "      <th>19</th>\n",
       "      <td>SC</td>\n",
       "      <td>0.119759</td>\n",
       "    </tr>\n",
       "    <tr>\n",
       "      <th>2</th>\n",
       "      <td>Current Assets</td>\n",
       "      <td>0.203612</td>\n",
       "    </tr>\n",
       "    <tr>\n",
       "      <th>10</th>\n",
       "      <td>Current Assets/TA</td>\n",
       "      <td>0.203612</td>\n",
       "    </tr>\n",
       "    <tr>\n",
       "      <th>5</th>\n",
       "      <td>LT liabilities</td>\n",
       "      <td>0.223799</td>\n",
       "    </tr>\n",
       "    <tr>\n",
       "      <th>12</th>\n",
       "      <td>LT liabilities/TA</td>\n",
       "      <td>0.223799</td>\n",
       "    </tr>\n",
       "    <tr>\n",
       "      <th>3</th>\n",
       "      <td>Total Asstes</td>\n",
       "      <td>0.230376</td>\n",
       "    </tr>\n",
       "    <tr>\n",
       "      <th>6</th>\n",
       "      <td>ST liabilities</td>\n",
       "      <td>0.290329</td>\n",
       "    </tr>\n",
       "    <tr>\n",
       "      <th>13</th>\n",
       "      <td>ST liabilities/TA</td>\n",
       "      <td>0.290329</td>\n",
       "    </tr>\n",
       "    <tr>\n",
       "      <th>14</th>\n",
       "      <td>Total liabilities/TA</td>\n",
       "      <td>0.319646</td>\n",
       "    </tr>\n",
       "    <tr>\n",
       "      <th>7</th>\n",
       "      <td>Total Liabilities</td>\n",
       "      <td>0.319646</td>\n",
       "    </tr>\n",
       "  </tbody>\n",
       "</table>\n",
       "</div>"
      ],
      "text/plain": [
       "               indicator     value\n",
       "11  Retained Earnings/TA -0.269905\n",
       "4      Retained Earnings -0.269905\n",
       "18               Private -0.109416\n",
       "19                    SC  0.119759\n",
       "2         Current Assets  0.203612\n",
       "10     Current Assets/TA  0.203612\n",
       "5         LT liabilities  0.223799\n",
       "12     LT liabilities/TA  0.223799\n",
       "3           Total Asstes  0.230376\n",
       "6         ST liabilities  0.290329\n",
       "13     ST liabilities/TA  0.290329\n",
       "14  Total liabilities/TA  0.319646\n",
       "7      Total Liabilities  0.319646"
      ]
     },
     "execution_count": 13,
     "metadata": {},
     "output_type": "execute_result"
    }
   ],
   "source": [
    "tabl[abs(tabl['value']) > 0.1]"
   ]
  },
  {
   "cell_type": "markdown",
   "metadata": {},
   "source": [
    "Создаем массив коэффициентов. Cols - весь массив данных за исключением неотнормированных на TA переменных и за исключением некоторых dummy (чтобы исключить мультиколлинеарность) "
   ]
  },
  {
   "cell_type": "code",
   "execution_count": 14,
   "metadata": {},
   "outputs": [
    {
     "data": {
      "text/html": [
       "<div>\n",
       "<style scoped>\n",
       "    .dataframe tbody tr th:only-of-type {\n",
       "        vertical-align: middle;\n",
       "    }\n",
       "\n",
       "    .dataframe tbody tr th {\n",
       "        vertical-align: top;\n",
       "    }\n",
       "\n",
       "    .dataframe thead th {\n",
       "        text-align: right;\n",
       "    }\n",
       "</style>\n",
       "<table border=\"1\" class=\"dataframe\">\n",
       "  <thead>\n",
       "    <tr style=\"text-align: right;\">\n",
       "      <th></th>\n",
       "      <th>0</th>\n",
       "    </tr>\n",
       "  </thead>\n",
       "  <tbody>\n",
       "    <tr>\n",
       "      <th>0</th>\n",
       "      <td>Retained Earnings/TA</td>\n",
       "    </tr>\n",
       "    <tr>\n",
       "      <th>1</th>\n",
       "      <td>Retained Earnings</td>\n",
       "    </tr>\n",
       "    <tr>\n",
       "      <th>2</th>\n",
       "      <td>Private</td>\n",
       "    </tr>\n",
       "    <tr>\n",
       "      <th>3</th>\n",
       "      <td>Agricultural</td>\n",
       "    </tr>\n",
       "    <tr>\n",
       "      <th>4</th>\n",
       "      <td>Year</td>\n",
       "    </tr>\n",
       "    <tr>\n",
       "      <th>5</th>\n",
       "      <td>LLC</td>\n",
       "    </tr>\n",
       "    <tr>\n",
       "      <th>6</th>\n",
       "      <td>NonCom</td>\n",
       "    </tr>\n",
       "    <tr>\n",
       "      <th>7</th>\n",
       "      <td>Cooperative</td>\n",
       "    </tr>\n",
       "    <tr>\n",
       "      <th>8</th>\n",
       "      <td>TA turnover</td>\n",
       "    </tr>\n",
       "    <tr>\n",
       "      <th>9</th>\n",
       "      <td>Age</td>\n",
       "    </tr>\n",
       "    <tr>\n",
       "      <th>10</th>\n",
       "      <td>Revenue/RA</td>\n",
       "    </tr>\n",
       "    <tr>\n",
       "      <th>11</th>\n",
       "      <td>Revenue</td>\n",
       "    </tr>\n",
       "    <tr>\n",
       "      <th>12</th>\n",
       "      <td>StateOwnership</td>\n",
       "    </tr>\n",
       "    <tr>\n",
       "      <th>13</th>\n",
       "      <td>StateLegal</td>\n",
       "    </tr>\n",
       "    <tr>\n",
       "      <th>14</th>\n",
       "      <td>Partial</td>\n",
       "    </tr>\n",
       "    <tr>\n",
       "      <th>15</th>\n",
       "      <td>SC</td>\n",
       "    </tr>\n",
       "    <tr>\n",
       "      <th>16</th>\n",
       "      <td>Current Assets</td>\n",
       "    </tr>\n",
       "    <tr>\n",
       "      <th>17</th>\n",
       "      <td>Current Assets/TA</td>\n",
       "    </tr>\n",
       "    <tr>\n",
       "      <th>18</th>\n",
       "      <td>LT liabilities</td>\n",
       "    </tr>\n",
       "    <tr>\n",
       "      <th>19</th>\n",
       "      <td>LT liabilities/TA</td>\n",
       "    </tr>\n",
       "    <tr>\n",
       "      <th>20</th>\n",
       "      <td>Total Asstes</td>\n",
       "    </tr>\n",
       "    <tr>\n",
       "      <th>21</th>\n",
       "      <td>ST liabilities</td>\n",
       "    </tr>\n",
       "    <tr>\n",
       "      <th>22</th>\n",
       "      <td>ST liabilities/TA</td>\n",
       "    </tr>\n",
       "    <tr>\n",
       "      <th>23</th>\n",
       "      <td>Total liabilities/TA</td>\n",
       "    </tr>\n",
       "    <tr>\n",
       "      <th>24</th>\n",
       "      <td>Total Liabilities</td>\n",
       "    </tr>\n",
       "  </tbody>\n",
       "</table>\n",
       "</div>"
      ],
      "text/plain": [
       "                       0\n",
       "0   Retained Earnings/TA\n",
       "1      Retained Earnings\n",
       "2                Private\n",
       "3           Agricultural\n",
       "4                   Year\n",
       "5                    LLC\n",
       "6                 NonCom\n",
       "7            Cooperative\n",
       "8            TA turnover\n",
       "9                    Age\n",
       "10            Revenue/RA\n",
       "11               Revenue\n",
       "12        StateOwnership\n",
       "13            StateLegal\n",
       "14               Partial\n",
       "15                    SC\n",
       "16        Current Assets\n",
       "17     Current Assets/TA\n",
       "18        LT liabilities\n",
       "19     LT liabilities/TA\n",
       "20          Total Asstes\n",
       "21        ST liabilities\n",
       "22     ST liabilities/TA\n",
       "23  Total liabilities/TA\n",
       "24     Total Liabilities"
      ]
     },
     "execution_count": 14,
     "metadata": {},
     "output_type": "execute_result"
    }
   ],
   "source": [
    "cols = np.array(tabl.indicator)\n",
    "cols_tabl = pd.DataFrame(cols)\n",
    "cols_tabl"
   ]
  },
  {
   "cell_type": "code",
   "execution_count": 15,
   "metadata": {},
   "outputs": [
    {
     "data": {
      "text/plain": [
       "array(['Retained Earnings/TA', 'Agricultural', 'Year', 'LLC', 'NonCom',\n",
       "       'Cooperative', 'TA turnover', 'Age', 'Revenue/RA',\n",
       "       'StateOwnership', 'Partial', 'SC', 'Current Assets/TA',\n",
       "       'LT liabilities/TA'], dtype=object)"
      ]
     },
     "execution_count": 15,
     "metadata": {},
     "output_type": "execute_result"
    }
   ],
   "source": [
    "cols = np.delete(cols, [1, 2, 11, 13, 16, 18, 20, 21, 22, 23, 24])   \n",
    "cols"
   ]
  },
  {
   "cell_type": "markdown",
   "metadata": {},
   "source": [
    "Корреляционная матрица коэффициентов:"
   ]
  },
  {
   "cell_type": "code",
   "execution_count": 16,
   "metadata": {},
   "outputs": [
    {
     "data": {
      "text/plain": [
       "<AxesSubplot:title={'center':'Pearson Correlation of Indicators'}>"
      ]
     },
     "execution_count": 16,
     "metadata": {},
     "output_type": "execute_result"
    },
    {
     "data": {
      "image/png": "[encoded data removed]",
      "text/plain": [
       "<Figure size 1008x864 with 2 Axes>"
      ]
     },
     "metadata": {
      "needs_background": "light"
     },
     "output_type": "display_data"
    }
   ],
   "source": [
    "colormap = plt.cm.RdBu\n",
    "plt.figure(figsize=(14,12))\n",
    "\n",
    "plt.title('Pearson Correlation of Indicators', y=1.05, size=12)\n",
    "sns.heatmap(data[cols].corr(),\n",
    "            linewidths=0.1, vmax=1.0, \n",
    "            square=True, cmap=colormap, linecolor='white', annot=True)"
   ]
  },
  {
   "cell_type": "markdown",
   "metadata": {},
   "source": [
    "Создаем датасет из списка, содержащего вышеперечисленные переменные"
   ]
  },
  {
   "cell_type": "code",
   "execution_count": 17,
   "metadata": {},
   "outputs": [],
   "source": [
    "data_final = pd.DataFrame(data_num[cols], columns = cols)"
   ]
  },
  {
   "cell_type": "markdown",
   "metadata": {},
   "source": [
    "# Часть 2\n",
    "### Эконометрические модели"
   ]
  },
  {
   "cell_type": "code",
   "execution_count": 18,
   "metadata": {},
   "outputs": [],
   "source": [
    "from statsmodels.stats.outliers_influence import variance_inflation_factor"
   ]
  },
  {
   "cell_type": "markdown",
   "metadata": {},
   "source": [
    "Проведем тест VIF"
   ]
  },
  {
   "cell_type": "markdown",
   "metadata": {},
   "source": [
    "Начнем с линейно-вероятностной модели. Прогоним на наших данных OLS"
   ]
  },
  {
   "cell_type": "code",
   "execution_count": 19,
   "metadata": {},
   "outputs": [],
   "source": [
    "X = data_final.copy()"
   ]
  },
  {
   "cell_type": "code",
   "execution_count": 20,
   "metadata": {},
   "outputs": [
    {
     "data": {
      "text/plain": [
       "Retained Earnings/TA    1.302277\n",
       "Agricultural            2.167627\n",
       "Year                    1.079558\n",
       "LLC                     3.440485\n",
       "NonCom                  1.117938\n",
       "Cooperative             1.024061\n",
       "TA turnover             1.015214\n",
       "Age                     5.654016\n",
       "Revenue/RA              1.410992\n",
       "StateOwnership          1.040321\n",
       "Partial                 1.038421\n",
       "SC                      1.995446\n",
       "Current Assets/TA       1.620268\n",
       "LT liabilities/TA       1.373669\n",
       "dtype: float64"
      ]
     },
     "execution_count": 20,
     "metadata": {},
     "output_type": "execute_result"
    }
   ],
   "source": [
    "pd.Series([variance_inflation_factor(X.values, i) \n",
    "               for i in range(X.shape[1])], \n",
    "              index=X.columns)\n"
   ]
  },
  {
   "cell_type": "markdown",
   "metadata": {},
   "source": [
    "Тест гласит, что если VIF коэфф > 5, то данный регрессор значитеньно коррелирует с остальными регрессорами.\n",
    "Такая проблема возникает только у возраста компании"
   ]
  },
  {
   "cell_type": "code",
   "execution_count": 21,
   "metadata": {},
   "outputs": [
    {
     "name": "stdout",
     "output_type": "stream",
     "text": [
      "                        Results: Ordinary least squares\n",
      "================================================================================\n",
      "Model:                  OLS              Adj. R-squared (uncentered): 0.237     \n",
      "Dependent Variable:     Status           AIC:                         -1021.5395\n",
      "Date:                   2021-03-26 14:20 BIC:                         -911.1265 \n",
      "No. Observations:       19666            Log-Likelihood:              524.77    \n",
      "Df Model:               14               F-statistic:                 437.7     \n",
      "Df Residuals:           19652            Prob (F-statistic):          0.00      \n",
      "R-squared (uncentered): 0.238            Scale:                       0.055547  \n",
      "----------------------------------------------------------------------------------\n",
      "                         Coef.    Std.Err.      t       P>|t|     [0.025    0.975]\n",
      "----------------------------------------------------------------------------------\n",
      "Retained Earnings/TA    -0.1474     0.0032   -46.3031   0.0000   -0.1536   -0.1411\n",
      "Agricultural             0.0130     0.0076     1.7016   0.0888   -0.0020    0.0279\n",
      "Year                    -0.0346     0.0066    -5.2265   0.0000   -0.0475   -0.0216\n",
      "LLC                      0.0577     0.0035    16.3652   0.0000    0.0508    0.0646\n",
      "NonCom                   0.0070     0.0156     0.4521   0.6512   -0.0235    0.0376\n",
      "Cooperative              0.0165     0.0356     0.4650   0.6419   -0.0532    0.0862\n",
      "TA turnover             -0.0000     0.0000    -0.4822   0.6297   -0.0000    0.0000\n",
      "Age                      0.0015     0.0002     6.2801   0.0000    0.0010    0.0019\n",
      "Revenue/RA              -0.0012     0.0010    -1.1286   0.2591   -0.0032    0.0009\n",
      "StateOwnership           0.1311     0.0201     6.5228   0.0000    0.0917    0.1705\n",
      "Partial                  0.2054     0.0193    10.6459   0.0000    0.1676    0.2432\n",
      "SC                       0.1428     0.0078    18.2163   0.0000    0.1274    0.1582\n",
      "Current Assets/TA        0.0348     0.0015    23.5920   0.0000    0.0319    0.0377\n",
      "LT liabilities/TA        0.0575     0.0033    17.6073   0.0000    0.0511    0.0639\n",
      "--------------------------------------------------------------------------------\n",
      "Omnibus:                11988.808          Durbin-Watson:             0.343     \n",
      "Prob(Omnibus):          0.000              Jarque-Bera (JB):          126761.112\n",
      "Skew:                   2.827              Prob(JB):                  0.000     \n",
      "Kurtosis:               14.078             Condition No.:             4943      \n",
      "================================================================================\n",
      "* The condition number is large (5e+03). This might indicate             strong\n",
      "multicollinearity or other numerical problems.\n"
     ]
    }
   ],
   "source": [
    "import statsmodels.api as sm\n",
    "import statsmodels\n",
    "OLS_model = sm.OLS(Y,X, M=sm.robust.norms.HuberT())\n",
    "result = OLS_model.fit()\n",
    "print(result.summary2())"
   ]
  },
  {
   "cell_type": "markdown",
   "metadata": {},
   "source": [
    "Тест Рамсея"
   ]
  },
  {
   "cell_type": "code",
   "execution_count": 22,
   "metadata": {},
   "outputs": [
    {
     "name": "stdout",
     "output_type": "stream",
     "text": [
      "<Wald test (chi2): statistic=[[767.30574049]], p-value=2.408105372203045e-167, df_denom=2>\n"
     ]
    }
   ],
   "source": [
    "print(statsmodels.stats.diagnostic.linear_reset(result))"
   ]
  },
  {
   "cell_type": "markdown",
   "metadata": {},
   "source": [
    "Прогоняем логит на данных cols"
   ]
  },
  {
   "cell_type": "code",
   "execution_count": 23,
   "metadata": {},
   "outputs": [
    {
     "name": "stdout",
     "output_type": "stream",
     "text": [
      "Optimization terminated successfully.\n",
      "         Current function value: 0.161720\n",
      "         Iterations 11\n",
      "                           Results: Logit\n",
      "=====================================================================\n",
      "Model:                 Logit             Pseudo R-squared:  0.380    \n",
      "Dependent Variable:    Status            AIC:               6388.7631\n",
      "Date:                  2021-03-26 14:21  BIC:               6499.1762\n",
      "No. Observations:      19666             Log-Likelihood:    -3180.4  \n",
      "Df Model:              13                LL-Null:           -5130.1  \n",
      "Df Residuals:          19652             LLR p-value:       0.0000   \n",
      "Converged:             1.0000            Scale:             1.0000   \n",
      "No. Iterations:        11.0000                                       \n",
      "---------------------------------------------------------------------\n",
      "                      Coef.  Std.Err.    z     P>|z|   [0.025  0.975]\n",
      "---------------------------------------------------------------------\n",
      "Retained Earnings/TA -5.0237   0.1892 -26.5488 0.0000 -5.3946 -4.6528\n",
      "Agricultural         -3.5037   0.2296 -15.2575 0.0000 -3.9538 -3.0537\n",
      "Year                 -0.9568   0.2088  -4.5835 0.0000 -1.3659 -0.5477\n",
      "LLC                  -2.1169   0.0858 -24.6867 0.0000 -2.2850 -1.9488\n",
      "NonCom               -2.2312   0.3816  -5.8468 0.0000 -2.9791 -1.4833\n",
      "Cooperative          -3.1026   1.0571  -2.9351 0.0033 -5.1744 -1.0308\n",
      "TA turnover          -0.4527   0.0352 -12.8460 0.0000 -0.5218 -0.3837\n",
      "Age                  -0.0008   0.0048  -0.1606 0.8724 -0.0101  0.0086\n",
      "Revenue/RA           -0.1360   0.0357  -3.8037 0.0001 -0.2060 -0.0659\n",
      "StateOwnership       -0.1229   0.2909  -0.4223 0.6728 -0.6931  0.4474\n",
      "Partial               0.2543   0.2557   0.9946 0.3199 -0.2469  0.7556\n",
      "SC                   -1.1823   0.1469  -8.0482 0.0000 -1.4702 -0.8944\n",
      "Current Assets/TA     1.2889   0.0718  17.9556 0.0000  1.1482  1.4295\n",
      "LT liabilities/TA     0.1416   0.0731   1.9380 0.0526 -0.0016  0.2848\n",
      "=====================================================================\n",
      "\n"
     ]
    }
   ],
   "source": [
    "\n",
    "Logit_model=sm.Logit(Y,X, M=sm.robust.norms.HuberT())\n",
    "result_log=Logit_model.fit()\n",
    "print(result_log.summary2())"
   ]
  },
  {
   "cell_type": "markdown",
   "metadata": {},
   "source": [
    "Точность логит модели (доля правильных ответов):"
   ]
  },
  {
   "cell_type": "code",
   "execution_count": 24,
   "metadata": {},
   "outputs": [
    {
     "name": "stdout",
     "output_type": "stream",
     "text": [
      "0.9524051662768229\n"
     ]
    }
   ],
   "source": [
    "predictions_log = result_log.predict()\n",
    "Y_pred_log =[]\n",
    "for i in predictions_log:    \n",
    "    if i < 0.5:         \n",
    "        Y_pred_log.append(0)     \n",
    "    else:         \n",
    "        Y_pred_log.append(1)\n",
    "score_log = np.mean(Y==Y_pred_log)\n",
    "print(score_log)"
   ]
  },
  {
   "cell_type": "markdown",
   "metadata": {},
   "source": [
    "Корреляция Статуса и Предсказания для логит модели:"
   ]
  },
  {
   "cell_type": "code",
   "execution_count": 25,
   "metadata": {},
   "outputs": [],
   "source": [
    "y = pd.DataFrame(Y)\n",
    "y_pred_log = pd.DataFrame(Y_pred_log, columns = ['Prediction'])\n",
    "logit = pd.concat([y, y_pred_log], axis = 1)"
   ]
  },
  {
   "cell_type": "code",
   "execution_count": 26,
   "metadata": {},
   "outputs": [
    {
     "data": {
      "text/html": [
       "<div>\n",
       "<style scoped>\n",
       "    .dataframe tbody tr th:only-of-type {\n",
       "        vertical-align: middle;\n",
       "    }\n",
       "\n",
       "    .dataframe tbody tr th {\n",
       "        vertical-align: top;\n",
       "    }\n",
       "\n",
       "    .dataframe thead th {\n",
       "        text-align: right;\n",
       "    }\n",
       "</style>\n",
       "<table border=\"1\" class=\"dataframe\">\n",
       "  <thead>\n",
       "    <tr style=\"text-align: right;\">\n",
       "      <th></th>\n",
       "      <th>Status</th>\n",
       "      <th>Prediction</th>\n",
       "    </tr>\n",
       "  </thead>\n",
       "  <tbody>\n",
       "    <tr>\n",
       "      <th>Status</th>\n",
       "      <td>1.00000</td>\n",
       "      <td>0.57544</td>\n",
       "    </tr>\n",
       "    <tr>\n",
       "      <th>Prediction</th>\n",
       "      <td>0.57544</td>\n",
       "      <td>1.00000</td>\n",
       "    </tr>\n",
       "  </tbody>\n",
       "</table>\n",
       "</div>"
      ],
      "text/plain": [
       "             Status  Prediction\n",
       "Status      1.00000     0.57544\n",
       "Prediction  0.57544     1.00000"
      ]
     },
     "execution_count": 26,
     "metadata": {},
     "output_type": "execute_result"
    }
   ],
   "source": [
    "logit.corr()"
   ]
  },
  {
   "cell_type": "code",
   "execution_count": 27,
   "metadata": {},
   "outputs": [],
   "source": [
    "import statsmodels"
   ]
  },
  {
   "cell_type": "markdown",
   "metadata": {},
   "source": [
    "Проведем тест Breusch-Pagan, проверив гетероскедастичность."
   ]
  },
  {
   "cell_type": "code",
   "execution_count": 28,
   "metadata": {},
   "outputs": [
    {
     "data": {
      "text/plain": [
       "(4674.773155560791, 0.0, 437.7257397961684, 0.0)"
      ]
     },
     "execution_count": 28,
     "metadata": {},
     "output_type": "execute_result"
    }
   ],
   "source": [
    "statsmodels.stats.diagnostic.het_breuschpagan(Y, X)"
   ]
  },
  {
   "cell_type": "markdown",
   "metadata": {},
   "source": [
    "Вывело массив размера 4. Расшифровка к коэффициентам: "
   ]
  },
  {
   "cell_type": "markdown",
   "metadata": {},
   "source": [
    "1) lm:\n",
    "The lagrange multiplier statistic.\n",
    "\n",
    "2) lm_pvalue:\n",
    "The p-value of lagrange multiplier test.\n",
    "\n",
    "3) f value:\n",
    "The f-statistic of the hypothesis that the error variance does not depend on x. This is an alternative test variant not the original LM test.\n",
    "\n",
    "4) f_pvalue:\n",
    "The p-value for the f-statistic."
   ]
  },
  {
   "cell_type": "markdown",
   "metadata": {},
   "source": [
    "То есть на уровне 1% нет Гетероскедастичности"
   ]
  },
  {
   "cell_type": "markdown",
   "metadata": {},
   "source": [
    "Построим таблицу с названиями компаний, где столбец \"статус\" - то фактический статус"
   ]
  },
  {
   "cell_type": "code",
   "execution_count": 29,
   "metadata": {},
   "outputs": [
    {
     "data": {
      "text/html": [
       "<div>\n",
       "<style scoped>\n",
       "    .dataframe tbody tr th:only-of-type {\n",
       "        vertical-align: middle;\n",
       "    }\n",
       "\n",
       "    .dataframe tbody tr th {\n",
       "        vertical-align: top;\n",
       "    }\n",
       "\n",
       "    .dataframe thead th {\n",
       "        text-align: right;\n",
       "    }\n",
       "</style>\n",
       "<table border=\"1\" class=\"dataframe\">\n",
       "  <thead>\n",
       "    <tr style=\"text-align: right;\">\n",
       "      <th></th>\n",
       "      <th>Name</th>\n",
       "      <th>Status</th>\n",
       "      <th>Bancrupt prob</th>\n",
       "    </tr>\n",
       "  </thead>\n",
       "  <tbody>\n",
       "    <tr>\n",
       "      <th>0</th>\n",
       "      <td>(ТУЛАТЕХМАШ), АО</td>\n",
       "      <td>1</td>\n",
       "      <td>0.640644</td>\n",
       "    </tr>\n",
       "    <tr>\n",
       "      <th>1</th>\n",
       "      <td>18 ЦАРЗ, АО</td>\n",
       "      <td>1</td>\n",
       "      <td>0.999580</td>\n",
       "    </tr>\n",
       "    <tr>\n",
       "      <th>2</th>\n",
       "      <td>39 АРСЕНАЛ, АО</td>\n",
       "      <td>1</td>\n",
       "      <td>0.984438</td>\n",
       "    </tr>\n",
       "    <tr>\n",
       "      <th>3</th>\n",
       "      <td>94 АРЗ, АО</td>\n",
       "      <td>1</td>\n",
       "      <td>0.930411</td>\n",
       "    </tr>\n",
       "    <tr>\n",
       "      <th>4</th>\n",
       "      <td>АБСОЛЮТ, ООО</td>\n",
       "      <td>1</td>\n",
       "      <td>0.484478</td>\n",
       "    </tr>\n",
       "    <tr>\n",
       "      <th>5</th>\n",
       "      <td>АВАНГАРД, ООО</td>\n",
       "      <td>1</td>\n",
       "      <td>0.730189</td>\n",
       "    </tr>\n",
       "    <tr>\n",
       "      <th>6</th>\n",
       "      <td>АВГУСТ, ООО</td>\n",
       "      <td>1</td>\n",
       "      <td>0.203824</td>\n",
       "    </tr>\n",
       "    <tr>\n",
       "      <th>7</th>\n",
       "      <td>АВИСТА, ООО</td>\n",
       "      <td>1</td>\n",
       "      <td>0.091766</td>\n",
       "    </tr>\n",
       "    <tr>\n",
       "      <th>8</th>\n",
       "      <td>АВС-КОМПЛЕКТ, ООО</td>\n",
       "      <td>1</td>\n",
       "      <td>0.105404</td>\n",
       "    </tr>\n",
       "    <tr>\n",
       "      <th>9</th>\n",
       "      <td>АВТО-АГРО, ООО</td>\n",
       "      <td>1</td>\n",
       "      <td>0.874195</td>\n",
       "    </tr>\n",
       "  </tbody>\n",
       "</table>\n",
       "</div>"
      ],
      "text/plain": [
       "                Name  Status  Bancrupt prob\n",
       "0   (ТУЛАТЕХМАШ), АО       1       0.640644\n",
       "1        18 ЦАРЗ, АО       1       0.999580\n",
       "2     39 АРСЕНАЛ, АО       1       0.984438\n",
       "3         94 АРЗ, АО       1       0.930411\n",
       "4       АБСОЛЮТ, ООО       1       0.484478\n",
       "5      АВАНГАРД, ООО       1       0.730189\n",
       "6        АВГУСТ, ООО       1       0.203824\n",
       "7        АВИСТА, ООО       1       0.091766\n",
       "8  АВС-КОМПЛЕКТ, ООО       1       0.105404\n",
       "9     АВТО-АГРО, ООО       1       0.874195"
      ]
     },
     "execution_count": 29,
     "metadata": {},
     "output_type": "execute_result"
    }
   ],
   "source": [
    "predictions = result_log.predict() \n",
    "predictions\n",
    "df_1 = df[['Name', 'Status']]\n",
    "df_2 = pd.DataFrame(predictions, columns = ['Bancrupt prob'])\n",
    "\n",
    "df_predictions = pd.concat([df_1, df_2], axis = 1)\n",
    "df_predictions.head(10)"
   ]
  },
  {
   "cell_type": "markdown",
   "metadata": {},
   "source": [
    "Чтобы было понятнее, что происходит, отсортируем массив по \"вероятности банкротства\""
   ]
  },
  {
   "cell_type": "code",
   "execution_count": 30,
   "metadata": {},
   "outputs": [
    {
     "data": {
      "text/html": [
       "<div>\n",
       "<style scoped>\n",
       "    .dataframe tbody tr th:only-of-type {\n",
       "        vertical-align: middle;\n",
       "    }\n",
       "\n",
       "    .dataframe tbody tr th {\n",
       "        vertical-align: top;\n",
       "    }\n",
       "\n",
       "    .dataframe thead th {\n",
       "        text-align: right;\n",
       "    }\n",
       "</style>\n",
       "<table border=\"1\" class=\"dataframe\">\n",
       "  <thead>\n",
       "    <tr style=\"text-align: right;\">\n",
       "      <th></th>\n",
       "      <th>Name</th>\n",
       "      <th>Status</th>\n",
       "      <th>Bancrupt prob</th>\n",
       "    </tr>\n",
       "  </thead>\n",
       "  <tbody>\n",
       "    <tr>\n",
       "      <th>5413</th>\n",
       "      <td>ГСВ, ООО</td>\n",
       "      <td>0</td>\n",
       "      <td>0.000000e+00</td>\n",
       "    </tr>\n",
       "    <tr>\n",
       "      <th>13033</th>\n",
       "      <td>ФАНТАЗИЯ, ООО</td>\n",
       "      <td>0</td>\n",
       "      <td>4.380349e-38</td>\n",
       "    </tr>\n",
       "    <tr>\n",
       "      <th>17713</th>\n",
       "      <td>ПЛЕМСЕРВИС, ООО НПФ</td>\n",
       "      <td>0</td>\n",
       "      <td>3.722395e-30</td>\n",
       "    </tr>\n",
       "    <tr>\n",
       "      <th>18850</th>\n",
       "      <td>ПЕРЕКРЕСТОК20, ООО</td>\n",
       "      <td>0</td>\n",
       "      <td>3.722915e-28</td>\n",
       "    </tr>\n",
       "    <tr>\n",
       "      <th>4031</th>\n",
       "      <td>БЬЮТИ ЛАЙФ, ООО</td>\n",
       "      <td>0</td>\n",
       "      <td>1.615552e-22</td>\n",
       "    </tr>\n",
       "    <tr>\n",
       "      <th>44</th>\n",
       "      <td>АГРОХОЛДИНГ ЮРМА, ООО</td>\n",
       "      <td>1</td>\n",
       "      <td>9.020821e-22</td>\n",
       "    </tr>\n",
       "    <tr>\n",
       "      <th>16665</th>\n",
       "      <td>РЕСУРС, ООО</td>\n",
       "      <td>0</td>\n",
       "      <td>1.725766e-21</td>\n",
       "    </tr>\n",
       "    <tr>\n",
       "      <th>18860</th>\n",
       "      <td>ПАРИТЕТ, ООО</td>\n",
       "      <td>0</td>\n",
       "      <td>1.292827e-18</td>\n",
       "    </tr>\n",
       "    <tr>\n",
       "      <th>489</th>\n",
       "      <td>КОРА-ТК, ООО</td>\n",
       "      <td>1</td>\n",
       "      <td>1.752131e-16</td>\n",
       "    </tr>\n",
       "    <tr>\n",
       "      <th>89</th>\n",
       "      <td>АПК КОСМОДЕМЬЯНСКИЙ, АО</td>\n",
       "      <td>1</td>\n",
       "      <td>7.927417e-16</td>\n",
       "    </tr>\n",
       "  </tbody>\n",
       "</table>\n",
       "</div>"
      ],
      "text/plain": [
       "                          Name  Status  Bancrupt prob\n",
       "5413                  ГСВ, ООО       0   0.000000e+00\n",
       "13033            ФАНТАЗИЯ, ООО       0   4.380349e-38\n",
       "17713      ПЛЕМСЕРВИС, ООО НПФ       0   3.722395e-30\n",
       "18850       ПЕРЕКРЕСТОК20, ООО       0   3.722915e-28\n",
       "4031           БЬЮТИ ЛАЙФ, ООО       0   1.615552e-22\n",
       "44       АГРОХОЛДИНГ ЮРМА, ООО       1   9.020821e-22\n",
       "16665              РЕСУРС, ООО       0   1.725766e-21\n",
       "18860             ПАРИТЕТ, ООО       0   1.292827e-18\n",
       "489               КОРА-ТК, ООО       1   1.752131e-16\n",
       "89     АПК КОСМОДЕМЬЯНСКИЙ, АО       1   7.927417e-16"
      ]
     },
     "execution_count": 30,
     "metadata": {},
     "output_type": "execute_result"
    }
   ],
   "source": [
    "df_predictions.sort_values(by=['Bancrupt prob'], ).head(10)"
   ]
  },
  {
   "cell_type": "markdown",
   "metadata": {},
   "source": [
    "посчитаем точность прогнозов."
   ]
  },
  {
   "cell_type": "markdown",
   "metadata": {},
   "source": [
    "Тест Рамсея:"
   ]
  },
  {
   "cell_type": "code",
   "execution_count": 31,
   "metadata": {},
   "outputs": [
    {
     "name": "stdout",
     "output_type": "stream",
     "text": [
      "<Wald test (chi2): statistic=[[767.30574049]], p-value=2.408105372203045e-167, df_denom=2>\n"
     ]
    }
   ],
   "source": [
    "print(statsmodels.stats.diagnostic.linear_reset(result))"
   ]
  },
  {
   "cell_type": "markdown",
   "metadata": {},
   "source": [
    "Прогоняем пробит на данных cols"
   ]
  },
  {
   "cell_type": "code",
   "execution_count": 32,
   "metadata": {},
   "outputs": [
    {
     "name": "stdout",
     "output_type": "stream",
     "text": [
      "Warning: Maximum number of iterations has been exceeded.\n",
      "         Current function value: 0.169425\n",
      "         Iterations: 35\n",
      "                           Results: Probit\n",
      "=====================================================================\n",
      "Model:                 Probit            Pseudo R-squared:  0.351    \n",
      "Dependent Variable:    Status            AIC:               6691.8073\n",
      "Date:                  2021-03-26 14:22  BIC:               6802.2203\n",
      "No. Observations:      19666             Log-Likelihood:    -3331.9  \n",
      "Df Model:              13                LL-Null:           -5130.1  \n",
      "Df Residuals:          19652             LLR p-value:       0.0000   \n",
      "Converged:             0.0000            Scale:             1.0000   \n",
      "No. Iterations:        35.0000                                       \n",
      "---------------------------------------------------------------------\n",
      "                      Coef.  Std.Err.    z     P>|z|   [0.025  0.975]\n",
      "---------------------------------------------------------------------\n",
      "Retained Earnings/TA -2.1094   0.0486 -43.4134 0.0000 -2.2046 -2.0142\n",
      "Agricultural         -1.9276   0.0998 -19.3235 0.0000 -2.1231 -1.7321\n",
      "Year                 -0.4739   0.0950  -4.9868 0.0000 -0.6601 -0.2876\n",
      "LLC                  -1.3060   0.0385 -33.9022 0.0000 -1.3815 -1.2305\n",
      "NonCom               -1.3417   0.1733  -7.7436 0.0000 -1.6813 -1.0021\n",
      "Cooperative          -1.8088   0.5084  -3.5581 0.0004 -2.8052 -0.8124\n",
      "TA turnover          -0.1834   0.0099 -18.5190 0.0000 -0.2028 -0.1640\n",
      "Age                  -0.0017   0.0023  -0.7328 0.4637 -0.0063  0.0029\n",
      "Revenue/RA           -0.0894   0.0131  -6.8347 0.0000 -0.1151 -0.0638\n",
      "StateOwnership       -0.1241   0.1535  -0.8087 0.4187 -0.4250  0.1767\n",
      "Partial               0.1266   0.1400   0.9040 0.3660 -0.1479  0.4011\n",
      "SC                   -0.7807   0.0728 -10.7263 0.0000 -0.9234 -0.6381\n",
      "Current Assets/TA     0.7374   0.0251  29.3329 0.0000  0.6882  0.7867\n",
      "LT liabilities/TA     0.1381   0.0336   4.1106 0.0000  0.0723  0.2040\n",
      "=====================================================================\n",
      "\n"
     ]
    },
    {
     "name": "stderr",
     "output_type": "stream",
     "text": [
      "/Users/dariagerasimenko/opt/anaconda3/lib/python3.8/site-packages/statsmodels/base/model.py:566: ConvergenceWarning: Maximum Likelihood optimization failed to converge. Check mle_retvals\n",
      "  warnings.warn(\"Maximum Likelihood optimization failed to \"\n"
     ]
    }
   ],
   "source": [
    "Probit_model=sm.Probit(Y,data_final, M=sm.robust.norms.HuberT())\n",
    "result_prob=Probit_model.fit()\n",
    "print(result_prob.summary2())"
   ]
  },
  {
   "cell_type": "markdown",
   "metadata": {},
   "source": [
    "Точность пробит модели (доля правильных ответов):"
   ]
  },
  {
   "cell_type": "code",
   "execution_count": 33,
   "metadata": {},
   "outputs": [
    {
     "name": "stdout",
     "output_type": "stream",
     "text": [
      "0.9489982711278349\n"
     ]
    }
   ],
   "source": [
    "predictions_prob = result_prob.predict()\n",
    "Y_pred_prob =[]\n",
    "for i in predictions_prob:    \n",
    "    if i < 0.5:         \n",
    "        Y_pred_prob.append(0)\n",
    "    else:         \n",
    "        Y_pred_prob.append(1)\n",
    "score_prob = np.mean(Y==Y_pred_prob)\n",
    "print(score_prob, )"
   ]
  },
  {
   "cell_type": "markdown",
   "metadata": {},
   "source": [
    "Матрица корреляции Статуса с Предсказанием у пробит модели"
   ]
  },
  {
   "cell_type": "code",
   "execution_count": 34,
   "metadata": {},
   "outputs": [],
   "source": [
    "y = pd.DataFrame(Y)\n",
    "y_pred_prob = pd.DataFrame(Y_pred_prob, columns = ['Prediction'])\n",
    "probit = pd.concat([y, y_pred_prob], axis = 1)"
   ]
  },
  {
   "cell_type": "code",
   "execution_count": 35,
   "metadata": {},
   "outputs": [
    {
     "data": {
      "text/html": [
       "<div>\n",
       "<style scoped>\n",
       "    .dataframe tbody tr th:only-of-type {\n",
       "        vertical-align: middle;\n",
       "    }\n",
       "\n",
       "    .dataframe tbody tr th {\n",
       "        vertical-align: top;\n",
       "    }\n",
       "\n",
       "    .dataframe thead th {\n",
       "        text-align: right;\n",
       "    }\n",
       "</style>\n",
       "<table border=\"1\" class=\"dataframe\">\n",
       "  <thead>\n",
       "    <tr style=\"text-align: right;\">\n",
       "      <th></th>\n",
       "      <th>Status</th>\n",
       "      <th>Prediction</th>\n",
       "    </tr>\n",
       "  </thead>\n",
       "  <tbody>\n",
       "    <tr>\n",
       "      <th>Status</th>\n",
       "      <td>1.00000</td>\n",
       "      <td>0.53589</td>\n",
       "    </tr>\n",
       "    <tr>\n",
       "      <th>Prediction</th>\n",
       "      <td>0.53589</td>\n",
       "      <td>1.00000</td>\n",
       "    </tr>\n",
       "  </tbody>\n",
       "</table>\n",
       "</div>"
      ],
      "text/plain": [
       "             Status  Prediction\n",
       "Status      1.00000     0.53589\n",
       "Prediction  0.53589     1.00000"
      ]
     },
     "execution_count": 35,
     "metadata": {},
     "output_type": "execute_result"
    }
   ],
   "source": [
    "probit.corr()"
   ]
  },
  {
   "cell_type": "markdown",
   "metadata": {},
   "source": [
    "# Часть 3\n",
    "### Модели машинного обучения"
   ]
  },
  {
   "cell_type": "code",
   "execution_count": 36,
   "metadata": {},
   "outputs": [],
   "source": [
    "from sklearn.model_selection import train_test_split, GridSearchCV\n",
    "from sklearn.metrics import mean_squared_error\n",
    "from sklearn import preprocessing \n",
    "from sklearn.neighbors import KNeighborsClassifier"
   ]
  },
  {
   "cell_type": "code",
   "execution_count": 37,
   "metadata": {},
   "outputs": [],
   "source": [
    "X = data_final.copy()"
   ]
  },
  {
   "cell_type": "markdown",
   "metadata": {},
   "source": [
    "Делим выборку случайным образом на тренировочную и тестовую. Это нужно, чтобы после обучения на тренировочной,\n",
    "можно было тестировать точность модели на тестовой."
   ]
  },
  {
   "cell_type": "code",
   "execution_count": 38,
   "metadata": {},
   "outputs": [],
   "source": [
    "\n",
    "X_train, X_test, y_train, y_test = train_test_split(X, Y, random_state=0, stratify = Y, test_size = 0.3)"
   ]
  },
  {
   "cell_type": "markdown",
   "metadata": {},
   "source": [
    "1) Прогоняем модели k ближайших соседей, смотрим на точность, выбираем наилучший k"
   ]
  },
  {
   "cell_type": "code",
   "execution_count": 39,
   "metadata": {},
   "outputs": [],
   "source": [
    "train = []\n",
    "test = []\n",
    "NN = []"
   ]
  },
  {
   "cell_type": "code",
   "execution_count": 40,
   "metadata": {},
   "outputs": [],
   "source": [
    "for k in [1, 3, 5, 10, 15, 25]:\n",
    "    NN.append(k)\n",
    "    y_predicted_test = KNeighborsClassifier(n_neighbors=k).fit(X_train, y_train).predict(X_test)\n",
    "    test.append(np.mean(y_test==y_predicted_test))\n",
    "    y_predicted_train = KNeighborsClassifier(n_neighbors=k).fit(X_train, y_train).predict(X_train)\n",
    "    train.append(np.mean(y_train==y_predicted_train))"
   ]
  },
  {
   "cell_type": "code",
   "execution_count": 41,
   "metadata": {},
   "outputs": [
    {
     "data": {
      "text/html": [
       "<div>\n",
       "<style scoped>\n",
       "    .dataframe tbody tr th:only-of-type {\n",
       "        vertical-align: middle;\n",
       "    }\n",
       "\n",
       "    .dataframe tbody tr th {\n",
       "        vertical-align: top;\n",
       "    }\n",
       "\n",
       "    .dataframe thead th {\n",
       "        text-align: right;\n",
       "    }\n",
       "</style>\n",
       "<table border=\"1\" class=\"dataframe\">\n",
       "  <thead>\n",
       "    <tr style=\"text-align: right;\">\n",
       "      <th></th>\n",
       "      <th>NN</th>\n",
       "      <th>Train</th>\n",
       "      <th>Test</th>\n",
       "    </tr>\n",
       "  </thead>\n",
       "  <tbody>\n",
       "    <tr>\n",
       "      <th>0</th>\n",
       "      <td>1</td>\n",
       "      <td>1.000000</td>\n",
       "      <td>0.934915</td>\n",
       "    </tr>\n",
       "    <tr>\n",
       "      <th>1</th>\n",
       "      <td>3</td>\n",
       "      <td>0.963097</td>\n",
       "      <td>0.948136</td>\n",
       "    </tr>\n",
       "    <tr>\n",
       "      <th>2</th>\n",
       "      <td>5</td>\n",
       "      <td>0.954380</td>\n",
       "      <td>0.947288</td>\n",
       "    </tr>\n",
       "    <tr>\n",
       "      <th>3</th>\n",
       "      <td>10</td>\n",
       "      <td>0.945954</td>\n",
       "      <td>0.945424</td>\n",
       "    </tr>\n",
       "    <tr>\n",
       "      <th>4</th>\n",
       "      <td>15</td>\n",
       "      <td>0.944574</td>\n",
       "      <td>0.945424</td>\n",
       "    </tr>\n",
       "    <tr>\n",
       "      <th>5</th>\n",
       "      <td>25</td>\n",
       "      <td>0.941159</td>\n",
       "      <td>0.942712</td>\n",
       "    </tr>\n",
       "  </tbody>\n",
       "</table>\n",
       "</div>"
      ],
      "text/plain": [
       "   NN     Train      Test\n",
       "0   1  1.000000  0.934915\n",
       "1   3  0.963097  0.948136\n",
       "2   5  0.954380  0.947288\n",
       "3  10  0.945954  0.945424\n",
       "4  15  0.944574  0.945424\n",
       "5  25  0.941159  0.942712"
      ]
     },
     "execution_count": 41,
     "metadata": {},
     "output_type": "execute_result"
    }
   ],
   "source": [
    "tab = {'NN': NN, 'Train': train , 'Test': test}\n",
    "tabl = pd.DataFrame(tab, columns = ['NN','Train', 'Test'])\n",
    "tabl"
   ]
  },
  {
   "cell_type": "markdown",
   "metadata": {},
   "source": [
    "Лучше выбрать 3 соседа"
   ]
  },
  {
   "cell_type": "markdown",
   "metadata": {},
   "source": [
    "2) прогоняем модели: Случайный лес, Логит регрессию, Градиентный бустинг и КНН (k = 3)"
   ]
  },
  {
   "cell_type": "code",
   "execution_count": 41,
   "metadata": {},
   "outputs": [],
   "source": [
    "import mlxtend\n",
    "from sklearn.linear_model import LogisticRegression\n",
    "from sklearn.ensemble import RandomForestClassifier, GradientBoostingClassifier\n",
    "import numpy as np   \n",
    "import matplotlib.pyplot as plt\n",
    "from mlxtend.plotting import plot_decision_regions\n",
    "import matplotlib.gridspec as gridspec\n",
    "import itertools\n",
    "from sklearn.metrics import classification_report, roc_auc_score, confusion_matrix"
   ]
  },
  {
   "cell_type": "code",
   "execution_count": 42,
   "metadata": {},
   "outputs": [],
   "source": [
    "X_tr = np.array(X_train)\n",
    "y_tr = np.array(y_train)"
   ]
  },
  {
   "cell_type": "code",
   "execution_count": 43,
   "metadata": {},
   "outputs": [],
   "source": [
    "train = []\n",
    "test = []\n",
    "model = []"
   ]
  },
  {
   "cell_type": "code",
   "execution_count": 44,
   "metadata": {},
   "outputs": [],
   "source": [
    "clf1 = LogisticRegression(random_state=1,\n",
    "                          solver='newton-cg',\n",
    "                          multi_class='ovr')\n",
    "clf2 = RandomForestClassifier(random_state=1, n_estimators=55)\n",
    "clf3 =  GradientBoostingClassifier(n_estimators=300)\n",
    "clf4 = KNeighborsClassifier(n_neighbors = 3)\n",
    "labels = ['Logistic Regression', 'Random Forest', 'Gradient Boosting', 'KNN (k = 3)']\n",
    "for clf, lab in zip([clf1, clf2, clf3, clf4],\n",
    "                         labels):\n",
    "    model.append(lab)\n",
    "    y_predicted_test = clf.fit(X_train, y_train).predict(X_test)\n",
    "    test.append(np.mean(y_test==y_predicted_test))\n",
    "    y_predicted_train = clf.fit(X_train, y_train).predict(X_train)\n",
    "    train.append(np.mean(y_train==y_predicted_train))"
   ]
  },
  {
   "cell_type": "code",
   "execution_count": 45,
   "metadata": {},
   "outputs": [
    {
     "data": {
      "text/html": [
       "<div>\n",
       "<style scoped>\n",
       "    .dataframe tbody tr th:only-of-type {\n",
       "        vertical-align: middle;\n",
       "    }\n",
       "\n",
       "    .dataframe tbody tr th {\n",
       "        vertical-align: top;\n",
       "    }\n",
       "\n",
       "    .dataframe thead th {\n",
       "        text-align: right;\n",
       "    }\n",
       "</style>\n",
       "<table border=\"1\" class=\"dataframe\">\n",
       "  <thead>\n",
       "    <tr style=\"text-align: right;\">\n",
       "      <th></th>\n",
       "      <th>model</th>\n",
       "      <th>Train</th>\n",
       "      <th>Test</th>\n",
       "    </tr>\n",
       "  </thead>\n",
       "  <tbody>\n",
       "    <tr>\n",
       "      <th>0</th>\n",
       "      <td>Logistic Regression</td>\n",
       "      <td>0.949368</td>\n",
       "      <td>0.953051</td>\n",
       "    </tr>\n",
       "    <tr>\n",
       "      <th>1</th>\n",
       "      <td>Random Forest</td>\n",
       "      <td>0.999782</td>\n",
       "      <td>0.980508</td>\n",
       "    </tr>\n",
       "    <tr>\n",
       "      <th>2</th>\n",
       "      <td>Gradient Boosting</td>\n",
       "      <td>0.989757</td>\n",
       "      <td>0.977458</td>\n",
       "    </tr>\n",
       "    <tr>\n",
       "      <th>3</th>\n",
       "      <td>KNN (k = 3)</td>\n",
       "      <td>0.963097</td>\n",
       "      <td>0.948136</td>\n",
       "    </tr>\n",
       "  </tbody>\n",
       "</table>\n",
       "</div>"
      ],
      "text/plain": [
       "                 model     Train      Test\n",
       "0  Logistic Regression  0.949368  0.953051\n",
       "1        Random Forest  0.999782  0.980508\n",
       "2    Gradient Boosting  0.989757  0.977458\n",
       "3          KNN (k = 3)  0.963097  0.948136"
      ]
     },
     "execution_count": 45,
     "metadata": {},
     "output_type": "execute_result"
    }
   ],
   "source": [
    "tab = {'model': model, 'Train': train , 'Test': test}\n",
    "tabl = pd.DataFrame(tab, columns = ['model','Train', 'Test'])\n",
    "tabl"
   ]
  },
  {
   "cell_type": "markdown",
   "metadata": {},
   "source": [
    "Модели, кажется, предсказывают статус очень хорошо, но так как небанкротств значительно больше, чем банкротств,\n",
    "возникает предположение, что модели хорошо предсказывают только небанкротсва. Посмотрим отдельно на предсказания\n",
    "каждого из статусов"
   ]
  },
  {
   "cell_type": "markdown",
   "metadata": {},
   "source": [
    "Это сделаем с помошью confusion matrix и classification report. \n",
    "Про confusion matrix читайте тут https://en.wikipedia.org/wiki/Confusion_matrix\n",
    "\n",
    "Если коротко, то в этих матрицах 2х2 в клетках 11 и 22 верно предсказанные значения, в 12 - ошибочно предсказанные банкротства, в 21 - ошибочные небанкротства"
   ]
  },
  {
   "cell_type": "code",
   "execution_count": 46,
   "metadata": {},
   "outputs": [
    {
     "name": "stdout",
     "output_type": "stream",
     "text": [
      "------------------------Logistic Regression------------------------\n",
      "[[12708    56]\n",
      " [  641   361]]\n",
      "              precision    recall  f1-score   support\n",
      "\n",
      "           0       0.95      1.00      0.97     12764\n",
      "           1       0.87      0.36      0.51      1002\n",
      "\n",
      "    accuracy                           0.95     13766\n",
      "   macro avg       0.91      0.68      0.74     13766\n",
      "weighted avg       0.95      0.95      0.94     13766\n",
      "\n",
      "------------------------Random Forest------------------------\n",
      "[[12764     0]\n",
      " [    3   999]]\n",
      "              precision    recall  f1-score   support\n",
      "\n",
      "           0       1.00      1.00      1.00     12764\n",
      "           1       1.00      1.00      1.00      1002\n",
      "\n",
      "    accuracy                           1.00     13766\n",
      "   macro avg       1.00      1.00      1.00     13766\n",
      "weighted avg       1.00      1.00      1.00     13766\n",
      "\n",
      "------------------------Gradient Boosting------------------------\n",
      "[[12764     0]\n",
      " [  141   861]]\n",
      "              precision    recall  f1-score   support\n",
      "\n",
      "           0       0.99      1.00      0.99     12764\n",
      "           1       1.00      0.86      0.92      1002\n",
      "\n",
      "    accuracy                           0.99     13766\n",
      "   macro avg       0.99      0.93      0.96     13766\n",
      "weighted avg       0.99      0.99      0.99     13766\n",
      "\n",
      "------------------------KNN (k = 3)------------------------\n",
      "[[12713    51]\n",
      " [  457   545]]\n",
      "              precision    recall  f1-score   support\n",
      "\n",
      "           0       0.97      1.00      0.98     12764\n",
      "           1       0.91      0.54      0.68      1002\n",
      "\n",
      "    accuracy                           0.96     13766\n",
      "   macro avg       0.94      0.77      0.83     13766\n",
      "weighted avg       0.96      0.96      0.96     13766\n",
      "\n"
     ]
    }
   ],
   "source": [
    "models = [clf1, clf2, clf3, clf4]\n",
    "for clf, lab in zip(models, labels):\n",
    "    clf.fit(X_train, y_train)\n",
    "    print('------------------------'+lab+'------------------------')\n",
    "    y_train_pred = clf.predict(X_train)\n",
    "    arg_train = {'y_true':y_train, 'y_pred':y_train_pred}\n",
    "    print(confusion_matrix(**arg_train))\n",
    "    print(classification_report(**arg_train)) "
   ]
  },
  {
   "cell_type": "markdown",
   "metadata": {},
   "source": [
    "На тренировочной выборке отлично работают модели Рандомный лес и Градиентный бустинг. Логит и КНН хорошо предсказывают\n",
    "небанкротства, с банкротствами ошибаются\n",
    "\n",
    "Проверим теперь на тестовой выборке"
   ]
  },
  {
   "cell_type": "code",
   "execution_count": 47,
   "metadata": {},
   "outputs": [
    {
     "name": "stdout",
     "output_type": "stream",
     "text": [
      "------------------------Logistic Regression------------------------\n",
      "[[5447   23]\n",
      " [ 254  176]]\n",
      "              precision    recall  f1-score   support\n",
      "\n",
      "           0       0.96      1.00      0.98      5470\n",
      "           1       0.88      0.41      0.56       430\n",
      "\n",
      "    accuracy                           0.95      5900\n",
      "   macro avg       0.92      0.70      0.77      5900\n",
      "weighted avg       0.95      0.95      0.94      5900\n",
      "\n",
      "------------------------Random Forest------------------------\n",
      "[[5463    7]\n",
      " [ 108  322]]\n",
      "              precision    recall  f1-score   support\n",
      "\n",
      "           0       0.98      1.00      0.99      5470\n",
      "           1       0.98      0.75      0.85       430\n",
      "\n",
      "    accuracy                           0.98      5900\n",
      "   macro avg       0.98      0.87      0.92      5900\n",
      "weighted avg       0.98      0.98      0.98      5900\n",
      "\n",
      "------------------------Gradient Boosting------------------------\n",
      "[[5444   26]\n",
      " [ 107  323]]\n",
      "              precision    recall  f1-score   support\n",
      "\n",
      "           0       0.98      1.00      0.99      5470\n",
      "           1       0.93      0.75      0.83       430\n",
      "\n",
      "    accuracy                           0.98      5900\n",
      "   macro avg       0.95      0.87      0.91      5900\n",
      "weighted avg       0.98      0.98      0.98      5900\n",
      "\n",
      "------------------------KNN (k = 3)------------------------\n",
      "[[5421   49]\n",
      " [ 257  173]]\n",
      "              precision    recall  f1-score   support\n",
      "\n",
      "           0       0.95      0.99      0.97      5470\n",
      "           1       0.78      0.40      0.53       430\n",
      "\n",
      "    accuracy                           0.95      5900\n",
      "   macro avg       0.87      0.70      0.75      5900\n",
      "weighted avg       0.94      0.95      0.94      5900\n",
      "\n"
     ]
    }
   ],
   "source": [
    "models = [clf1, clf2, clf3, clf4]\n",
    "for clf, lab in zip(models, labels):\n",
    "    clf.fit(X_train, y_train)\n",
    "    print('------------------------'+lab+'------------------------')\n",
    "    y_test_pred = clf.predict(X_test)\n",
    "    arg_test = {'y_true':y_test, 'y_pred':y_test_pred}\n",
    "    print(confusion_matrix(**arg_test))\n",
    "    print(classification_report(**arg_test)) "
   ]
  },
  {
   "cell_type": "markdown",
   "metadata": {},
   "source": [
    "Вывод тот же самый. У Рандомного леса и Градиентного бусинга никаких проблем. Эти модели - наилучшие. Рандомный лес предсказывает идеально."
   ]
  },
  {
   "cell_type": "markdown",
   "metadata": {},
   "source": [
    "Вывод: рандомный лес - лучшая модель"
   ]
  },
  {
   "cell_type": "markdown",
   "metadata": {},
   "source": [
    "Проведем также кросс-валидацию. Это поможет нам узнать взвешенную точность, ведь у нас выборка несбалансированная\n",
    "и точность очень сильно зависит от того, как разбиваются наши данные на train и test подвыборки"
   ]
  },
  {
   "cell_type": "code",
   "execution_count": 49,
   "metadata": {},
   "outputs": [],
   "source": [
    "from sklearn.linear_model import LogisticRegressionCV\n",
    "from sklearn.model_selection import cross_val_score"
   ]
  },
  {
   "cell_type": "code",
   "execution_count": 50,
   "metadata": {},
   "outputs": [
    {
     "name": "stdout",
     "output_type": "stream",
     "text": [
      "Logistic Regression  Cross validation score: 0.9495127594534798\n",
      "Random Forest  Cross validation score: 0.9803859819121445\n",
      "Gradient Boosting  Cross validation score: 0.9787151036125046\n",
      "KNN (k = 3)  Cross validation score: 0.9451538248805121\n"
     ]
    }
   ],
   "source": [
    "models = [clf1, clf2, clf3, clf4]\n",
    "for clf, lab in zip(models, labels):\n",
    "    clf.fit(X_train, y_train)\n",
    "    print(lab,' Cross validation score:',np.mean(cross_val_score(clf, X_train, y_train, cv=10)))\n",
    "    #print(np.mean(cross_val_score(clf, X_train, y_train, cv=10)))"
   ]
  },
  {
   "cell_type": "markdown",
   "metadata": {},
   "source": [
    "Рандомный лес все еще наилучший"
   ]
  },
  {
   "cell_type": "markdown",
   "metadata": {},
   "source": [
    "посмотрим на веса переменных Рандомного леса:"
   ]
  },
  {
   "cell_type": "code",
   "execution_count": 51,
   "metadata": {},
   "outputs": [
    {
     "data": {
      "text/plain": [
       "array(['Retained Earnings/TA', 'Agricultural', 'Year', 'LLC', 'NonCom',\n",
       "       'Cooperative', 'TA turnover', 'Age', 'Revenue/RA',\n",
       "       'StateOwnership', 'Partial', 'SC', 'Current Assets/TA',\n",
       "       'LT liabilities/TA'], dtype=object)"
      ]
     },
     "execution_count": 51,
     "metadata": {},
     "output_type": "execute_result"
    }
   ],
   "source": [
    "coefs = clf2.fit(X_train, y_train).feature_importances_\n",
    "cols"
   ]
  },
  {
   "cell_type": "code",
   "execution_count": 52,
   "metadata": {},
   "outputs": [
    {
     "data": {
      "text/html": [
       "<div>\n",
       "<style scoped>\n",
       "    .dataframe tbody tr th:only-of-type {\n",
       "        vertical-align: middle;\n",
       "    }\n",
       "\n",
       "    .dataframe tbody tr th {\n",
       "        vertical-align: top;\n",
       "    }\n",
       "\n",
       "    .dataframe thead th {\n",
       "        text-align: right;\n",
       "    }\n",
       "</style>\n",
       "<table border=\"1\" class=\"dataframe\">\n",
       "  <thead>\n",
       "    <tr style=\"text-align: right;\">\n",
       "      <th></th>\n",
       "      <th>coef</th>\n",
       "      <th>importance</th>\n",
       "    </tr>\n",
       "  </thead>\n",
       "  <tbody>\n",
       "    <tr>\n",
       "      <th>0</th>\n",
       "      <td>Retained Earnings/TA</td>\n",
       "      <td>0.554787</td>\n",
       "    </tr>\n",
       "    <tr>\n",
       "      <th>1</th>\n",
       "      <td>Agricultural</td>\n",
       "      <td>0.001638</td>\n",
       "    </tr>\n",
       "    <tr>\n",
       "      <th>2</th>\n",
       "      <td>Year</td>\n",
       "      <td>0.001429</td>\n",
       "    </tr>\n",
       "    <tr>\n",
       "      <th>3</th>\n",
       "      <td>LLC</td>\n",
       "      <td>0.002398</td>\n",
       "    </tr>\n",
       "    <tr>\n",
       "      <th>4</th>\n",
       "      <td>NonCom</td>\n",
       "      <td>0.000273</td>\n",
       "    </tr>\n",
       "    <tr>\n",
       "      <th>5</th>\n",
       "      <td>Cooperative</td>\n",
       "      <td>0.000046</td>\n",
       "    </tr>\n",
       "    <tr>\n",
       "      <th>6</th>\n",
       "      <td>TA turnover</td>\n",
       "      <td>0.151723</td>\n",
       "    </tr>\n",
       "    <tr>\n",
       "      <th>7</th>\n",
       "      <td>Age</td>\n",
       "      <td>0.033036</td>\n",
       "    </tr>\n",
       "    <tr>\n",
       "      <th>8</th>\n",
       "      <td>Revenue/RA</td>\n",
       "      <td>0.100189</td>\n",
       "    </tr>\n",
       "    <tr>\n",
       "      <th>9</th>\n",
       "      <td>StateOwnership</td>\n",
       "      <td>0.001242</td>\n",
       "    </tr>\n",
       "    <tr>\n",
       "      <th>10</th>\n",
       "      <td>Partial</td>\n",
       "      <td>0.003449</td>\n",
       "    </tr>\n",
       "    <tr>\n",
       "      <th>11</th>\n",
       "      <td>SC</td>\n",
       "      <td>0.005427</td>\n",
       "    </tr>\n",
       "    <tr>\n",
       "      <th>12</th>\n",
       "      <td>Current Assets/TA</td>\n",
       "      <td>0.084432</td>\n",
       "    </tr>\n",
       "    <tr>\n",
       "      <th>13</th>\n",
       "      <td>LT liabilities/TA</td>\n",
       "      <td>0.059931</td>\n",
       "    </tr>\n",
       "  </tbody>\n",
       "</table>\n",
       "</div>"
      ],
      "text/plain": [
       "                    coef  importance\n",
       "0   Retained Earnings/TA    0.554787\n",
       "1           Agricultural    0.001638\n",
       "2                   Year    0.001429\n",
       "3                    LLC    0.002398\n",
       "4                 NonCom    0.000273\n",
       "5            Cooperative    0.000046\n",
       "6            TA turnover    0.151723\n",
       "7                    Age    0.033036\n",
       "8             Revenue/RA    0.100189\n",
       "9         StateOwnership    0.001242\n",
       "10               Partial    0.003449\n",
       "11                    SC    0.005427\n",
       "12     Current Assets/TA    0.084432\n",
       "13     LT liabilities/TA    0.059931"
      ]
     },
     "execution_count": 52,
     "metadata": {},
     "output_type": "execute_result"
    }
   ],
   "source": [
    "weights = {'coef': cols, 'importance': coefs}\n",
    "Weights = pd.DataFrame(weights, columns = ['coef', 'importance'])\n",
    "Weights"
   ]
  }
 ],
 "metadata": {
  "kernelspec": {
   "display_name": "Python 3",
   "language": "python",
   "name": "python3"
  },
  "language_info": {
   "codemirror_mode": {
    "name": "ipython",
    "version": 3
   },
   "file_extension": ".py",
   "mimetype": "text/x-python",
   "name": "python",
   "nbconvert_exporter": "python",
   "pygments_lexer": "ipython3",
   "version": "3.8.5"
  }
 },
 "nbformat": 4,
 "nbformat_minor": 4
}
