{
 "cells": [
  {
   "cell_type": "markdown",
   "metadata": {},
   "source": [
    "# Часть 1\n",
    "### Cоздание массива данных"
   ]
  },
  {
   "cell_type": "code",
   "execution_count": 1,
   "metadata": {},
   "outputs": [
    {
     "name": "stdout",
     "output_type": "stream",
     "text": [
      "Populating the interactive namespace from numpy and matplotlib\n"
     ]
    }
   ],
   "source": [
    "import pandas as pd\n",
    "import numpy as np\n",
    "pd.set_option('display.max_colwidth',None)\n",
    "pd.set_option('display.max_columns',None)\n",
    "from matplotlib import pyplot as plt\n",
    "import seaborn as sns\n",
    "from sklearn.model_selection import train_test_split\n",
    "%pylab inline"
   ]
  },
  {
   "cell_type": "code",
   "execution_count": 2,
   "metadata": {},
   "outputs": [],
   "source": [
    "import warnings\n",
    "warnings.filterwarnings(\"ignore\")"
   ]
  },
  {
   "cell_type": "code",
   "execution_count": 3,
   "metadata": {},
   "outputs": [
    {
     "data": {
      "text/html": [
       "<div>\n",
       "<style scoped>\n",
       "    .dataframe tbody tr th:only-of-type {\n",
       "        vertical-align: middle;\n",
       "    }\n",
       "\n",
       "    .dataframe tbody tr th {\n",
       "        vertical-align: top;\n",
       "    }\n",
       "\n",
       "    .dataframe thead th {\n",
       "        text-align: right;\n",
       "    }\n",
       "</style>\n",
       "<table border=\"1\" class=\"dataframe\">\n",
       "  <thead>\n",
       "    <tr style=\"text-align: right;\">\n",
       "      <th></th>\n",
       "      <th>№</th>\n",
       "      <th>Наименование</th>\n",
       "      <th>Год</th>\n",
       "      <th>Возраст компании, лет</th>\n",
       "      <th>Статус</th>\n",
       "      <th>Организационно-правовая форма</th>\n",
       "      <th>Форма собственности</th>\n",
       "      <th>Оборотные активы, RUB</th>\n",
       "      <th>Активы  всего, RUB</th>\n",
       "      <th>Нераспределенная прибыль (непокрытый убыток), RUB</th>\n",
       "      <th>Долгосрочные обязательства, RUB</th>\n",
       "      <th>Краткосрочные обязательства, RUB</th>\n",
       "      <th>Совокупный долг, RUB</th>\n",
       "      <th>Выручка, RUB</th>\n",
       "      <th>Коэффициент оборачиваемости совокупных активов</th>\n",
       "      <th>Оборотные активы/ТА</th>\n",
       "      <th>Нераспределенная прибыль (непокрытый убыток)/ТА</th>\n",
       "      <th>Долгосрочные обязательства/ТА</th>\n",
       "      <th>Краткосрочные обязательства/ТА</th>\n",
       "      <th>Совокупный долг/ТА</th>\n",
       "      <th>Выручка/ТА</th>\n",
       "      <th>Гос собственность</th>\n",
       "      <th>Частичная</th>\n",
       "      <th>Частная</th>\n",
       "      <th>АО</th>\n",
       "      <th>Гос собственность.1</th>\n",
       "      <th>Сельское хозво</th>\n",
       "      <th>Неком</th>\n",
       "      <th>Кооперативы</th>\n",
       "      <th>ООО</th>\n",
       "    </tr>\n",
       "  </thead>\n",
       "  <tbody>\n",
       "    <tr>\n",
       "      <th>0</th>\n",
       "      <td>1</td>\n",
       "      <td>(ТУЛАТЕХМАШ), АО</td>\n",
       "      <td>19</td>\n",
       "      <td>29.0</td>\n",
       "      <td>1</td>\n",
       "      <td>0</td>\n",
       "      <td>0</td>\n",
       "      <td>192345000</td>\n",
       "      <td>228294000</td>\n",
       "      <td>-32949000</td>\n",
       "      <td>93533000</td>\n",
       "      <td>158381000</td>\n",
       "      <td>251914000</td>\n",
       "      <td>36594000</td>\n",
       "      <td>0.1425</td>\n",
       "      <td>0.842532</td>\n",
       "      <td>-0.144327</td>\n",
       "      <td>0.409704</td>\n",
       "      <td>0.693759</td>\n",
       "      <td>1.103463</td>\n",
       "      <td>0.160293</td>\n",
       "      <td>0</td>\n",
       "      <td>0</td>\n",
       "      <td>1</td>\n",
       "      <td>1</td>\n",
       "      <td>0</td>\n",
       "      <td>0</td>\n",
       "      <td>0</td>\n",
       "      <td>0</td>\n",
       "      <td>0</td>\n",
       "    </tr>\n",
       "    <tr>\n",
       "      <th>1</th>\n",
       "      <td>2</td>\n",
       "      <td>18 ЦАРЗ, АО</td>\n",
       "      <td>19</td>\n",
       "      <td>11.5</td>\n",
       "      <td>1</td>\n",
       "      <td>0</td>\n",
       "      <td>2</td>\n",
       "      <td>79057000</td>\n",
       "      <td>507607000</td>\n",
       "      <td>-375469000</td>\n",
       "      <td>9007000</td>\n",
       "      <td>466916000</td>\n",
       "      <td>475923000</td>\n",
       "      <td>2173000</td>\n",
       "      <td>0.0041</td>\n",
       "      <td>0.346295</td>\n",
       "      <td>-1.644673</td>\n",
       "      <td>0.039454</td>\n",
       "      <td>2.045240</td>\n",
       "      <td>2.084693</td>\n",
       "      <td>0.009518</td>\n",
       "      <td>0</td>\n",
       "      <td>0</td>\n",
       "      <td>0</td>\n",
       "      <td>1</td>\n",
       "      <td>0</td>\n",
       "      <td>0</td>\n",
       "      <td>0</td>\n",
       "      <td>0</td>\n",
       "      <td>0</td>\n",
       "    </tr>\n",
       "    <tr>\n",
       "      <th>2</th>\n",
       "      <td>3</td>\n",
       "      <td>39 АРСЕНАЛ, АО</td>\n",
       "      <td>19</td>\n",
       "      <td>26.5</td>\n",
       "      <td>1</td>\n",
       "      <td>0</td>\n",
       "      <td>1</td>\n",
       "      <td>209931000</td>\n",
       "      <td>286396000</td>\n",
       "      <td>-199177000</td>\n",
       "      <td>168000</td>\n",
       "      <td>456867000</td>\n",
       "      <td>457035000</td>\n",
       "      <td>44035000</td>\n",
       "      <td>0.1531</td>\n",
       "      <td>0.919564</td>\n",
       "      <td>-0.872458</td>\n",
       "      <td>0.000736</td>\n",
       "      <td>2.001222</td>\n",
       "      <td>2.001958</td>\n",
       "      <td>0.192887</td>\n",
       "      <td>1</td>\n",
       "      <td>2</td>\n",
       "      <td>0</td>\n",
       "      <td>1</td>\n",
       "      <td>0</td>\n",
       "      <td>0</td>\n",
       "      <td>0</td>\n",
       "      <td>0</td>\n",
       "      <td>0</td>\n",
       "    </tr>\n",
       "    <tr>\n",
       "      <th>3</th>\n",
       "      <td>4</td>\n",
       "      <td>94 АРЗ, АО</td>\n",
       "      <td>19</td>\n",
       "      <td>25.5</td>\n",
       "      <td>1</td>\n",
       "      <td>0</td>\n",
       "      <td>1</td>\n",
       "      <td>10463000</td>\n",
       "      <td>233053000</td>\n",
       "      <td>-175760000</td>\n",
       "      <td>1195000</td>\n",
       "      <td>218191000</td>\n",
       "      <td>219386000</td>\n",
       "      <td>3757000</td>\n",
       "      <td>0.0166</td>\n",
       "      <td>0.045831</td>\n",
       "      <td>-0.769884</td>\n",
       "      <td>0.005234</td>\n",
       "      <td>0.955746</td>\n",
       "      <td>0.960980</td>\n",
       "      <td>0.016457</td>\n",
       "      <td>1</td>\n",
       "      <td>2</td>\n",
       "      <td>0</td>\n",
       "      <td>1</td>\n",
       "      <td>0</td>\n",
       "      <td>0</td>\n",
       "      <td>0</td>\n",
       "      <td>0</td>\n",
       "      <td>0</td>\n",
       "    </tr>\n",
       "    <tr>\n",
       "      <th>4</th>\n",
       "      <td>5</td>\n",
       "      <td>АБСОЛЮТ, ООО</td>\n",
       "      <td>19</td>\n",
       "      <td>27.0</td>\n",
       "      <td>1</td>\n",
       "      <td>5</td>\n",
       "      <td>0</td>\n",
       "      <td>63009000</td>\n",
       "      <td>160632000</td>\n",
       "      <td>-78300000</td>\n",
       "      <td>6471000</td>\n",
       "      <td>206861000</td>\n",
       "      <td>213332000</td>\n",
       "      <td>2461000</td>\n",
       "      <td>0.0129</td>\n",
       "      <td>0.275999</td>\n",
       "      <td>-0.342979</td>\n",
       "      <td>0.028345</td>\n",
       "      <td>0.906117</td>\n",
       "      <td>0.934462</td>\n",
       "      <td>0.010780</td>\n",
       "      <td>0</td>\n",
       "      <td>0</td>\n",
       "      <td>1</td>\n",
       "      <td>0</td>\n",
       "      <td>0</td>\n",
       "      <td>0</td>\n",
       "      <td>0</td>\n",
       "      <td>0</td>\n",
       "      <td>1</td>\n",
       "    </tr>\n",
       "    <tr>\n",
       "      <th>...</th>\n",
       "      <td>...</td>\n",
       "      <td>...</td>\n",
       "      <td>...</td>\n",
       "      <td>...</td>\n",
       "      <td>...</td>\n",
       "      <td>...</td>\n",
       "      <td>...</td>\n",
       "      <td>...</td>\n",
       "      <td>...</td>\n",
       "      <td>...</td>\n",
       "      <td>...</td>\n",
       "      <td>...</td>\n",
       "      <td>...</td>\n",
       "      <td>...</td>\n",
       "      <td>...</td>\n",
       "      <td>...</td>\n",
       "      <td>...</td>\n",
       "      <td>...</td>\n",
       "      <td>...</td>\n",
       "      <td>...</td>\n",
       "      <td>...</td>\n",
       "      <td>...</td>\n",
       "      <td>...</td>\n",
       "      <td>...</td>\n",
       "      <td>...</td>\n",
       "      <td>...</td>\n",
       "      <td>...</td>\n",
       "      <td>...</td>\n",
       "      <td>...</td>\n",
       "      <td>...</td>\n",
       "    </tr>\n",
       "    <tr>\n",
       "      <th>19661</th>\n",
       "      <td>19662</td>\n",
       "      <td>4ФРЭШ, ООО</td>\n",
       "      <td>20</td>\n",
       "      <td>1.5</td>\n",
       "      <td>0</td>\n",
       "      <td>5</td>\n",
       "      <td>0</td>\n",
       "      <td>151849000</td>\n",
       "      <td>166295000</td>\n",
       "      <td>14723000</td>\n",
       "      <td>144000</td>\n",
       "      <td>151378000</td>\n",
       "      <td>151522000</td>\n",
       "      <td>771586000</td>\n",
       "      <td>5.3344</td>\n",
       "      <td>0.665147</td>\n",
       "      <td>0.064491</td>\n",
       "      <td>0.000631</td>\n",
       "      <td>0.663084</td>\n",
       "      <td>0.663714</td>\n",
       "      <td>3.379791</td>\n",
       "      <td>0</td>\n",
       "      <td>0</td>\n",
       "      <td>1</td>\n",
       "      <td>0</td>\n",
       "      <td>0</td>\n",
       "      <td>0</td>\n",
       "      <td>0</td>\n",
       "      <td>0</td>\n",
       "      <td>1</td>\n",
       "    </tr>\n",
       "    <tr>\n",
       "      <th>19662</th>\n",
       "      <td>19663</td>\n",
       "      <td>(КОЛХОЗ) ИМЕНИ ШЕВЧЕНКО, СПК</td>\n",
       "      <td>20</td>\n",
       "      <td>28.0</td>\n",
       "      <td>0</td>\n",
       "      <td>2</td>\n",
       "      <td>0</td>\n",
       "      <td>222633000</td>\n",
       "      <td>472009000</td>\n",
       "      <td>363265000</td>\n",
       "      <td>75981000</td>\n",
       "      <td>8769000</td>\n",
       "      <td>84750000</td>\n",
       "      <td>311983000</td>\n",
       "      <td>0.7227</td>\n",
       "      <td>0.975203</td>\n",
       "      <td>1.591216</td>\n",
       "      <td>0.332821</td>\n",
       "      <td>0.038411</td>\n",
       "      <td>0.371232</td>\n",
       "      <td>1.366584</td>\n",
       "      <td>0</td>\n",
       "      <td>0</td>\n",
       "      <td>1</td>\n",
       "      <td>0</td>\n",
       "      <td>0</td>\n",
       "      <td>1</td>\n",
       "      <td>0</td>\n",
       "      <td>0</td>\n",
       "      <td>0</td>\n",
       "    </tr>\n",
       "    <tr>\n",
       "      <th>19663</th>\n",
       "      <td>19664</td>\n",
       "      <td>ТЭС, АО</td>\n",
       "      <td>20</td>\n",
       "      <td>10.5</td>\n",
       "      <td>1</td>\n",
       "      <td>0</td>\n",
       "      <td>0</td>\n",
       "      <td>79877000</td>\n",
       "      <td>87991000</td>\n",
       "      <td>-21156000</td>\n",
       "      <td>1000</td>\n",
       "      <td>108074000</td>\n",
       "      <td>108075000</td>\n",
       "      <td>17238000</td>\n",
       "      <td>0.1468</td>\n",
       "      <td>0.349887</td>\n",
       "      <td>-0.092670</td>\n",
       "      <td>0.000004</td>\n",
       "      <td>0.473398</td>\n",
       "      <td>0.473403</td>\n",
       "      <td>0.075508</td>\n",
       "      <td>0</td>\n",
       "      <td>0</td>\n",
       "      <td>1</td>\n",
       "      <td>1</td>\n",
       "      <td>0</td>\n",
       "      <td>0</td>\n",
       "      <td>0</td>\n",
       "      <td>0</td>\n",
       "      <td>0</td>\n",
       "    </tr>\n",
       "    <tr>\n",
       "      <th>19664</th>\n",
       "      <td>19665</td>\n",
       "      <td>СФЕРА УПАКОВКИ, ООО</td>\n",
       "      <td>20</td>\n",
       "      <td>5.0</td>\n",
       "      <td>1</td>\n",
       "      <td>5</td>\n",
       "      <td>0</td>\n",
       "      <td>168824000</td>\n",
       "      <td>168824000</td>\n",
       "      <td>4711000</td>\n",
       "      <td>2059000</td>\n",
       "      <td>161944000</td>\n",
       "      <td>164003000</td>\n",
       "      <td>121213000</td>\n",
       "      <td>0.6894</td>\n",
       "      <td>0.739503</td>\n",
       "      <td>0.020636</td>\n",
       "      <td>0.009019</td>\n",
       "      <td>0.709366</td>\n",
       "      <td>0.718385</td>\n",
       "      <td>0.530951</td>\n",
       "      <td>0</td>\n",
       "      <td>0</td>\n",
       "      <td>1</td>\n",
       "      <td>0</td>\n",
       "      <td>0</td>\n",
       "      <td>0</td>\n",
       "      <td>0</td>\n",
       "      <td>0</td>\n",
       "      <td>1</td>\n",
       "    </tr>\n",
       "    <tr>\n",
       "      <th>19665</th>\n",
       "      <td>19666</td>\n",
       "      <td>СИНДИКАТ-С, ООО</td>\n",
       "      <td>20</td>\n",
       "      <td>12.0</td>\n",
       "      <td>1</td>\n",
       "      <td>5</td>\n",
       "      <td>0</td>\n",
       "      <td>413000</td>\n",
       "      <td>413000</td>\n",
       "      <td>-26249000</td>\n",
       "      <td>24121000</td>\n",
       "      <td>2530000</td>\n",
       "      <td>26651000</td>\n",
       "      <td>9970000</td>\n",
       "      <td>3.0963</td>\n",
       "      <td>0.001809</td>\n",
       "      <td>-0.114979</td>\n",
       "      <td>0.105658</td>\n",
       "      <td>0.011082</td>\n",
       "      <td>0.116740</td>\n",
       "      <td>0.043672</td>\n",
       "      <td>0</td>\n",
       "      <td>0</td>\n",
       "      <td>1</td>\n",
       "      <td>0</td>\n",
       "      <td>0</td>\n",
       "      <td>0</td>\n",
       "      <td>0</td>\n",
       "      <td>0</td>\n",
       "      <td>1</td>\n",
       "    </tr>\n",
       "  </tbody>\n",
       "</table>\n",
       "<p>19666 rows × 30 columns</p>\n",
       "</div>"
      ],
      "text/plain": [
       "           №                  Наименование  Год  Возраст компании, лет  \\\n",
       "0          1              (ТУЛАТЕХМАШ), АО   19                   29.0   \n",
       "1          2                   18 ЦАРЗ, АО   19                   11.5   \n",
       "2          3                39 АРСЕНАЛ, АО   19                   26.5   \n",
       "3          4                    94 АРЗ, АО   19                   25.5   \n",
       "4          5                  АБСОЛЮТ, ООО   19                   27.0   \n",
       "...      ...                           ...  ...                    ...   \n",
       "19661  19662                    4ФРЭШ, ООО   20                    1.5   \n",
       "19662  19663  (КОЛХОЗ) ИМЕНИ ШЕВЧЕНКО, СПК   20                   28.0   \n",
       "19663  19664                       ТЭС, АО   20                   10.5   \n",
       "19664  19665           СФЕРА УПАКОВКИ, ООО   20                    5.0   \n",
       "19665  19666               СИНДИКАТ-С, ООО   20                   12.0   \n",
       "\n",
       "       Статус  Организационно-правовая форма  Форма собственности  \\\n",
       "0           1                              0                    0   \n",
       "1           1                              0                    2   \n",
       "2           1                              0                    1   \n",
       "3           1                              0                    1   \n",
       "4           1                              5                    0   \n",
       "...       ...                            ...                  ...   \n",
       "19661       0                              5                    0   \n",
       "19662       0                              2                    0   \n",
       "19663       1                              0                    0   \n",
       "19664       1                              5                    0   \n",
       "19665       1                              5                    0   \n",
       "\n",
       "       Оборотные активы, RUB  Активы  всего, RUB  \\\n",
       "0                  192345000           228294000   \n",
       "1                   79057000           507607000   \n",
       "2                  209931000           286396000   \n",
       "3                   10463000           233053000   \n",
       "4                   63009000           160632000   \n",
       "...                      ...                 ...   \n",
       "19661              151849000           166295000   \n",
       "19662              222633000           472009000   \n",
       "19663               79877000            87991000   \n",
       "19664              168824000           168824000   \n",
       "19665                 413000              413000   \n",
       "\n",
       "       Нераспределенная прибыль (непокрытый убыток), RUB  \\\n",
       "0                                              -32949000   \n",
       "1                                             -375469000   \n",
       "2                                             -199177000   \n",
       "3                                             -175760000   \n",
       "4                                              -78300000   \n",
       "...                                                  ...   \n",
       "19661                                           14723000   \n",
       "19662                                          363265000   \n",
       "19663                                          -21156000   \n",
       "19664                                            4711000   \n",
       "19665                                          -26249000   \n",
       "\n",
       "       Долгосрочные обязательства, RUB  Краткосрочные обязательства, RUB  \\\n",
       "0                             93533000                         158381000   \n",
       "1                              9007000                         466916000   \n",
       "2                               168000                         456867000   \n",
       "3                              1195000                         218191000   \n",
       "4                              6471000                         206861000   \n",
       "...                                ...                               ...   \n",
       "19661                           144000                         151378000   \n",
       "19662                         75981000                           8769000   \n",
       "19663                             1000                         108074000   \n",
       "19664                          2059000                         161944000   \n",
       "19665                         24121000                           2530000   \n",
       "\n",
       "       Совокупный долг, RUB  Выручка, RUB  \\\n",
       "0                 251914000      36594000   \n",
       "1                 475923000       2173000   \n",
       "2                 457035000      44035000   \n",
       "3                 219386000       3757000   \n",
       "4                 213332000       2461000   \n",
       "...                     ...           ...   \n",
       "19661             151522000     771586000   \n",
       "19662              84750000     311983000   \n",
       "19663             108075000      17238000   \n",
       "19664             164003000     121213000   \n",
       "19665              26651000       9970000   \n",
       "\n",
       "       Коэффициент оборачиваемости совокупных активов  Оборотные активы/ТА  \\\n",
       "0                                              0.1425             0.842532   \n",
       "1                                              0.0041             0.346295   \n",
       "2                                              0.1531             0.919564   \n",
       "3                                              0.0166             0.045831   \n",
       "4                                              0.0129             0.275999   \n",
       "...                                               ...                  ...   \n",
       "19661                                          5.3344             0.665147   \n",
       "19662                                          0.7227             0.975203   \n",
       "19663                                          0.1468             0.349887   \n",
       "19664                                          0.6894             0.739503   \n",
       "19665                                          3.0963             0.001809   \n",
       "\n",
       "       Нераспределенная прибыль (непокрытый убыток)/ТА  \\\n",
       "0                                            -0.144327   \n",
       "1                                            -1.644673   \n",
       "2                                            -0.872458   \n",
       "3                                            -0.769884   \n",
       "4                                            -0.342979   \n",
       "...                                                ...   \n",
       "19661                                         0.064491   \n",
       "19662                                         1.591216   \n",
       "19663                                        -0.092670   \n",
       "19664                                         0.020636   \n",
       "19665                                        -0.114979   \n",
       "\n",
       "       Долгосрочные обязательства/ТА  Краткосрочные обязательства/ТА  \\\n",
       "0                           0.409704                        0.693759   \n",
       "1                           0.039454                        2.045240   \n",
       "2                           0.000736                        2.001222   \n",
       "3                           0.005234                        0.955746   \n",
       "4                           0.028345                        0.906117   \n",
       "...                              ...                             ...   \n",
       "19661                       0.000631                        0.663084   \n",
       "19662                       0.332821                        0.038411   \n",
       "19663                       0.000004                        0.473398   \n",
       "19664                       0.009019                        0.709366   \n",
       "19665                       0.105658                        0.011082   \n",
       "\n",
       "       Совокупный долг/ТА  Выручка/ТА  Гос собственность  Частичная  Частная  \\\n",
       "0                1.103463    0.160293                  0          0        1   \n",
       "1                2.084693    0.009518                  0          0        0   \n",
       "2                2.001958    0.192887                  1          2        0   \n",
       "3                0.960980    0.016457                  1          2        0   \n",
       "4                0.934462    0.010780                  0          0        1   \n",
       "...                   ...         ...                ...        ...      ...   \n",
       "19661            0.663714    3.379791                  0          0        1   \n",
       "19662            0.371232    1.366584                  0          0        1   \n",
       "19663            0.473403    0.075508                  0          0        1   \n",
       "19664            0.718385    0.530951                  0          0        1   \n",
       "19665            0.116740    0.043672                  0          0        1   \n",
       "\n",
       "       АО  Гос собственность.1  Сельское хозво  Неком  Кооперативы  ООО  \n",
       "0       1                    0               0      0            0    0  \n",
       "1       1                    0               0      0            0    0  \n",
       "2       1                    0               0      0            0    0  \n",
       "3       1                    0               0      0            0    0  \n",
       "4       0                    0               0      0            0    1  \n",
       "...    ..                  ...             ...    ...          ...  ...  \n",
       "19661   0                    0               0      0            0    1  \n",
       "19662   0                    0               1      0            0    0  \n",
       "19663   1                    0               0      0            0    0  \n",
       "19664   0                    0               0      0            0    1  \n",
       "19665   0                    0               0      0            0    1  \n",
       "\n",
       "[19666 rows x 30 columns]"
      ]
     },
     "execution_count": 3,
     "metadata": {},
     "output_type": "execute_result"
    }
   ],
   "source": [
    "df=pd.read_excel('dataset_new.xlsx')\n",
    "df"
   ]
  },
  {
   "cell_type": "markdown",
   "metadata": {},
   "source": [
    "Удаляем пустые значения"
   ]
  },
  {
   "cell_type": "code",
   "execution_count": 4,
   "metadata": {},
   "outputs": [],
   "source": [
    "df = df.dropna()"
   ]
  },
  {
   "cell_type": "markdown",
   "metadata": {},
   "source": [
    "Удаляем целевую переменную из датасета"
   ]
  },
  {
   "cell_type": "code",
   "execution_count": 5,
   "metadata": {},
   "outputs": [],
   "source": [
    "data = df.copy()\n",
    "Y = data['Статус']\n",
    "data = data.drop(['Статус'], axis=1)"
   ]
  },
  {
   "cell_type": "code",
   "execution_count": 6,
   "metadata": {},
   "outputs": [
    {
     "data": {
      "text/plain": [
       "0    18234\n",
       "1     1432\n",
       "Name: Статус, dtype: int64"
      ]
     },
     "execution_count": 6,
     "metadata": {},
     "output_type": "execute_result"
    }
   ],
   "source": [
    "Y.value_counts()"
   ]
  },
  {
   "cell_type": "markdown",
   "metadata": {},
   "source": [
    "Создаем числовой массив данных. Убираем текстовые и категориальные переменные."
   ]
  },
  {
   "cell_type": "code",
   "execution_count": 7,
   "metadata": {},
   "outputs": [],
   "source": [
    "data_num = data.copy()\n",
    "data_num = data_num.drop(['№','Наименование', 'Организационно-правовая форма', 'Форма собственности'], axis = 1)"
   ]
  },
  {
   "cell_type": "markdown",
   "metadata": {},
   "source": [
    "Еще у нас в данных год закодирован двумя значениями: 19 и 20. Закодируем 0, если год 2019 и 1, если 2020"
   ]
  },
  {
   "cell_type": "code",
   "execution_count": 44,
   "metadata": {},
   "outputs": [
    {
     "data": {
      "text/plain": [
       "1    18294\n",
       "0     1372\n",
       "Name: Год, dtype: int64"
      ]
     },
     "execution_count": 44,
     "metadata": {},
     "output_type": "execute_result"
    }
   ],
   "source": [
    "data_num['Год']= pd.get_dummies(data_num['Год'], prefix='Год_20')\n",
    "data_num['Год'].value_counts()"
   ]
  },
  {
   "cell_type": "markdown",
   "metadata": {},
   "source": [
    "Создаем таблицу корреляций регрессоров с зависимой"
   ]
  },
  {
   "cell_type": "code",
   "execution_count": 19,
   "metadata": {},
   "outputs": [],
   "source": [
    "corr_matr = data_num.corrwith(Y)"
   ]
  },
  {
   "cell_type": "code",
   "execution_count": 20,
   "metadata": {},
   "outputs": [],
   "source": [
    "corr_matr = corr_matr.to_dict()\n",
    "tab = {'indicator': list(corr_matr.keys()) , 'value': list(corr_matr.values())}\n",
    "tabl = pd.DataFrame(tab, columns = ['indicator','value'])\n",
    "tabl = tabl.sort_values(by=['value'])"
   ]
  },
  {
   "cell_type": "markdown",
   "metadata": {},
   "source": [
    "Переменные, которые коррелируют с зависимой переменной с коэффом > 0.05"
   ]
  },
  {
   "cell_type": "code",
   "execution_count": 21,
   "metadata": {},
   "outputs": [
    {
     "data": {
      "text/html": [
       "<div>\n",
       "<style scoped>\n",
       "    .dataframe tbody tr th:only-of-type {\n",
       "        vertical-align: middle;\n",
       "    }\n",
       "\n",
       "    .dataframe tbody tr th {\n",
       "        vertical-align: top;\n",
       "    }\n",
       "\n",
       "    .dataframe thead th {\n",
       "        text-align: right;\n",
       "    }\n",
       "</style>\n",
       "<table border=\"1\" class=\"dataframe\">\n",
       "  <thead>\n",
       "    <tr style=\"text-align: right;\">\n",
       "      <th></th>\n",
       "      <th>indicator</th>\n",
       "      <th>value</th>\n",
       "    </tr>\n",
       "  </thead>\n",
       "  <tbody>\n",
       "    <tr>\n",
       "      <th>11</th>\n",
       "      <td>Нераспределенная прибыль (непокрытый убыток)/ТА</td>\n",
       "      <td>-0.269905</td>\n",
       "    </tr>\n",
       "    <tr>\n",
       "      <th>4</th>\n",
       "      <td>Нераспределенная прибыль (непокрытый убыток), RUB</td>\n",
       "      <td>-0.269905</td>\n",
       "    </tr>\n",
       "    <tr>\n",
       "      <th>18</th>\n",
       "      <td>Частная</td>\n",
       "      <td>-0.109416</td>\n",
       "    </tr>\n",
       "    <tr>\n",
       "      <th>19</th>\n",
       "      <td>АО</td>\n",
       "      <td>0.119759</td>\n",
       "    </tr>\n",
       "    <tr>\n",
       "      <th>2</th>\n",
       "      <td>Оборотные активы, RUB</td>\n",
       "      <td>0.203612</td>\n",
       "    </tr>\n",
       "    <tr>\n",
       "      <th>10</th>\n",
       "      <td>Оборотные активы/ТА</td>\n",
       "      <td>0.203612</td>\n",
       "    </tr>\n",
       "    <tr>\n",
       "      <th>5</th>\n",
       "      <td>Долгосрочные обязательства, RUB</td>\n",
       "      <td>0.223799</td>\n",
       "    </tr>\n",
       "    <tr>\n",
       "      <th>12</th>\n",
       "      <td>Долгосрочные обязательства/ТА</td>\n",
       "      <td>0.223799</td>\n",
       "    </tr>\n",
       "    <tr>\n",
       "      <th>3</th>\n",
       "      <td>Активы  всего, RUB</td>\n",
       "      <td>0.230376</td>\n",
       "    </tr>\n",
       "    <tr>\n",
       "      <th>6</th>\n",
       "      <td>Краткосрочные обязательства, RUB</td>\n",
       "      <td>0.290329</td>\n",
       "    </tr>\n",
       "    <tr>\n",
       "      <th>13</th>\n",
       "      <td>Краткосрочные обязательства/ТА</td>\n",
       "      <td>0.290329</td>\n",
       "    </tr>\n",
       "    <tr>\n",
       "      <th>14</th>\n",
       "      <td>Совокупный долг/ТА</td>\n",
       "      <td>0.319646</td>\n",
       "    </tr>\n",
       "    <tr>\n",
       "      <th>7</th>\n",
       "      <td>Совокупный долг, RUB</td>\n",
       "      <td>0.319646</td>\n",
       "    </tr>\n",
       "  </tbody>\n",
       "</table>\n",
       "</div>"
      ],
      "text/plain": [
       "                                            indicator     value\n",
       "11    Нераспределенная прибыль (непокрытый убыток)/ТА -0.269905\n",
       "4   Нераспределенная прибыль (непокрытый убыток), RUB -0.269905\n",
       "18                                            Частная -0.109416\n",
       "19                                                 АО  0.119759\n",
       "2                               Оборотные активы, RUB  0.203612\n",
       "10                                Оборотные активы/ТА  0.203612\n",
       "5                     Долгосрочные обязательства, RUB  0.223799\n",
       "12                      Долгосрочные обязательства/ТА  0.223799\n",
       "3                                  Активы  всего, RUB  0.230376\n",
       "6                    Краткосрочные обязательства, RUB  0.290329\n",
       "13                     Краткосрочные обязательства/ТА  0.290329\n",
       "14                                 Совокупный долг/ТА  0.319646\n",
       "7                                Совокупный долг, RUB  0.319646"
      ]
     },
     "execution_count": 21,
     "metadata": {},
     "output_type": "execute_result"
    }
   ],
   "source": [
    "tabl[abs(tabl['value']) > 0.1]"
   ]
  },
  {
   "cell_type": "markdown",
   "metadata": {},
   "source": [
    "Создаем массив коэффициентов. Cols - весь массив данных за исключением неотнормированных на TA переменных и за исключением некоторых dummy (чтобы исключить мультиколлинеарность) "
   ]
  },
  {
   "cell_type": "code",
   "execution_count": 22,
   "metadata": {},
   "outputs": [
    {
     "data": {
      "text/plain": [
       "array(['Нераспределенная прибыль (непокрытый убыток)/ТА',\n",
       "       'Нераспределенная прибыль (непокрытый убыток), RUB', 'Частная',\n",
       "       'Сельское хозво', 'Год', 'ООО', 'Неком', 'Кооперативы',\n",
       "       'Коэффициент оборачиваемости совокупных активов',\n",
       "       'Возраст компании, лет', 'Выручка/ТА', 'Выручка, RUB',\n",
       "       'Гос собственность', 'Частичная', 'Гос собственность.1', 'АО',\n",
       "       'Оборотные активы, RUB', 'Оборотные активы/ТА',\n",
       "       'Долгосрочные обязательства, RUB', 'Долгосрочные обязательства/ТА',\n",
       "       'Активы  всего, RUB', 'Краткосрочные обязательства, RUB',\n",
       "       'Краткосрочные обязательства/ТА', 'Совокупный долг/ТА',\n",
       "       'Совокупный долг, RUB'], dtype=object)"
      ]
     },
     "execution_count": 22,
     "metadata": {},
     "output_type": "execute_result"
    }
   ],
   "source": [
    "cols = np.array(tabl.indicator)\n",
    "cols"
   ]
  },
  {
   "cell_type": "code",
   "execution_count": 24,
   "metadata": {},
   "outputs": [
    {
     "data": {
      "text/plain": [
       "array(['Нераспределенная прибыль (непокрытый убыток)/ТА',\n",
       "       'Сельское хозво', 'Год', 'ООО', 'Неком', 'Кооперативы',\n",
       "       'Коэффициент оборачиваемости совокупных активов',\n",
       "       'Возраст компании, лет', 'Выручка/ТА', 'Гос собственность', 'АО',\n",
       "       'Оборотные активы/ТА', 'Долгосрочные обязательства/ТА'],\n",
       "      dtype=object)"
      ]
     },
     "execution_count": 24,
     "metadata": {},
     "output_type": "execute_result"
    }
   ],
   "source": [
    "cols = np.delete(cols, [1, 2, 11, 13, 14, 16, 18, 20, 21, 22, 23, 24])   \n",
    "cols"
   ]
  },
  {
   "cell_type": "markdown",
   "metadata": {},
   "source": [
    "Корреляционная матрица коэффициентов:"
   ]
  },
  {
   "cell_type": "code",
   "execution_count": 25,
   "metadata": {},
   "outputs": [
    {
     "data": {
      "text/plain": [
       "<AxesSubplot:title={'center':'Pearson Correlation of Indicators'}>"
      ]
     },
     "execution_count": 25,
     "metadata": {},
     "output_type": "execute_result"
    },
    {
     "data": {
      "image/png": "[encoded data removed]",
      "text/plain": [
       "<Figure size 1008x864 with 2 Axes>"
      ]
     },
     "metadata": {
      "needs_background": "light"
     },
     "output_type": "display_data"
    }
   ],
   "source": [
    "colormap = plt.cm.RdBu\n",
    "plt.figure(figsize=(14,12))\n",
    "\n",
    "plt.title('Pearson Correlation of Indicators', y=1.05, size=12)\n",
    "sns.heatmap(data[cols].corr(),\n",
    "            linewidths=0.1, vmax=1.0, \n",
    "            square=True, cmap=colormap, linecolor='white', annot=True)"
   ]
  },
  {
   "cell_type": "markdown",
   "metadata": {},
   "source": [
    "Создаем датасет из списка, содержащего вышеперечисленные переменные"
   ]
  },
  {
   "cell_type": "code",
   "execution_count": 26,
   "metadata": {},
   "outputs": [],
   "source": [
    "data_final = pd.DataFrame(data_num[cols], columns = cols)"
   ]
  },
  {
   "cell_type": "markdown",
   "metadata": {},
   "source": [
    "# Часть 2\n",
    "### Эконометрические модели"
   ]
  },
  {
   "cell_type": "markdown",
   "metadata": {},
   "source": [
    "Прогоняем логит на данных cols"
   ]
  },
  {
   "cell_type": "code",
   "execution_count": 28,
   "metadata": {},
   "outputs": [
    {
     "name": "stdout",
     "output_type": "stream",
     "text": [
      "Optimization terminated successfully.\n",
      "         Current function value: 0.161745\n",
      "         Iterations 11\n",
      "                                         Results: Logit\n",
      "================================================================================================\n",
      "Model:                          Logit                      Pseudo R-squared:           0.380    \n",
      "Dependent Variable:             Статус                     AIC:                        6387.7358\n",
      "Date:                           2021-03-22 21:58           BIC:                        6490.2622\n",
      "No. Observations:               19666                      Log-Likelihood:             -3180.9  \n",
      "Df Model:                       12                         LL-Null:                    -5130.1  \n",
      "Df Residuals:                   19653                      LLR p-value:                0.0000   \n",
      "Converged:                      1.0000                     Scale:                      1.0000   \n",
      "No. Iterations:                 11.0000                                                         \n",
      "------------------------------------------------------------------------------------------------\n",
      "                                                 Coef.  Std.Err.    z     P>|z|   [0.025  0.975]\n",
      "------------------------------------------------------------------------------------------------\n",
      "Нераспределенная прибыль (непокрытый убыток)/ТА -5.0331   0.1891 -26.6146 0.0000 -5.4038 -4.6625\n",
      "Сельское хозво                                  -3.5250   0.2288 -15.4076 0.0000 -3.9734 -3.0766\n",
      "Год                                             -0.9580   0.2088  -4.5877 0.0000 -1.3673 -0.5487\n",
      "ООО                                             -2.1302   0.0849 -25.0810 0.0000 -2.2967 -1.9638\n",
      "Неком                                           -2.2531   0.3811  -5.9123 0.0000 -3.0001 -1.5062\n",
      "Кооперативы                                     -3.1256   1.0572  -2.9564 0.0031 -5.1978 -1.0535\n",
      "Коэффициент оборачиваемости совокупных активов  -0.4499   0.0351 -12.8128 0.0000 -0.5187 -0.3811\n",
      "Возраст компании, лет                            0.0001   0.0047   0.0214 0.9830 -0.0091  0.0093\n",
      "Выручка/ТА                                      -0.1370   0.0357  -3.8401 0.0001 -0.2069 -0.0671\n",
      "Гос собственность                               -0.1433   0.2902  -0.4938 0.6214 -0.7122  0.4255\n",
      "АО                                              -1.1873   0.1470  -8.0778 0.0000 -1.4753 -0.8992\n",
      "Оборотные активы/ТА                              1.2921   0.0717  18.0214 0.0000  1.1516  1.4326\n",
      "Долгосрочные обязательства/ТА                    0.1402   0.0727   1.9286 0.0538 -0.0023  0.2827\n",
      "================================================================================================\n",
      "\n"
     ]
    }
   ],
   "source": [
    "import statsmodels.api as sm\n",
    "Logit_model=sm.Logit(Y,data_final)\n",
    "result=Logit_model.fit()\n",
    "print(result.summary2())"
   ]
  },
  {
   "cell_type": "markdown",
   "metadata": {},
   "source": [
    "Прогоняем пробит на данных cols"
   ]
  },
  {
   "cell_type": "code",
   "execution_count": 30,
   "metadata": {},
   "outputs": [
    {
     "name": "stdout",
     "output_type": "stream",
     "text": [
      "Warning: Maximum number of iterations has been exceeded.\n",
      "         Current function value: 0.169445\n",
      "         Iterations: 35\n",
      "                                        Results: Probit\n",
      "================================================================================================\n",
      "Model:                          Probit                     Pseudo R-squared:           0.350    \n",
      "Dependent Variable:             Статус                     AIC:                        6690.6135\n",
      "Date:                           2021-03-22 21:58           BIC:                        6793.1399\n",
      "No. Observations:               19666                      Log-Likelihood:             -3332.3  \n",
      "Df Model:                       12                         LL-Null:                    -5130.1  \n",
      "Df Residuals:                   19653                      LLR p-value:                0.0000   \n",
      "Converged:                      0.0000                     Scale:                      1.0000   \n",
      "No. Iterations:                 35.0000                                                         \n",
      "------------------------------------------------------------------------------------------------\n",
      "                                                 Coef.  Std.Err.    z     P>|z|   [0.025  0.975]\n",
      "------------------------------------------------------------------------------------------------\n",
      "Нераспределенная прибыль (непокрытый убыток)/ТА -2.1123   0.0486 -43.5024 0.0000 -2.2075 -2.0171\n",
      "Сельское хозво                                  -1.9359   0.0994 -19.4726 0.0000 -2.1308 -1.7411\n",
      "Год                                             -0.4741   0.0950  -4.9881 0.0000 -0.6604 -0.2878\n",
      "ООО                                             -1.3111   0.0383 -34.2775 0.0000 -1.3861 -1.2362\n",
      "Неком                                           -1.3507   0.1731  -7.8039 0.0000 -1.6899 -1.0114\n",
      "Кооперативы                                     -1.8177   0.5085  -3.5746 0.0004 -2.8144 -0.8211\n",
      "Коэффициент оборачиваемости совокупных активов  -0.1825   0.0099 -18.4551 0.0000 -0.2019 -0.1632\n",
      "Возраст компании, лет                           -0.0014   0.0023  -0.5926 0.5535 -0.0059  0.0032\n",
      "Выручка/ТА                                      -0.0897   0.0131  -6.8574 0.0000 -0.1154 -0.0641\n",
      "Гос собственность                               -0.1327   0.1532  -0.8663 0.3863 -0.4330  0.1676\n",
      "АО                                              -0.7814   0.0728 -10.7331 0.0000 -0.9241 -0.6387\n",
      "Оборотные активы/ТА                              0.7386   0.0251  29.3862 0.0000  0.6893  0.7878\n",
      "Долгосрочные обязательства/ТА                    0.1374   0.0336   4.0928 0.0000  0.0716  0.2032\n",
      "================================================================================================\n",
      "\n"
     ]
    },
    {
     "name": "stderr",
     "output_type": "stream",
     "text": [
      "/Users/dariagerasimenko/opt/anaconda3/lib/python3.8/site-packages/statsmodels/base/model.py:566: ConvergenceWarning: Maximum Likelihood optimization failed to converge. Check mle_retvals\n",
      "  warnings.warn(\"Maximum Likelihood optimization failed to \"\n"
     ]
    }
   ],
   "source": [
    "Probit_model=sm.Probit(Y,data_final)\n",
    "result=Probit_model.fit()\n",
    "print(result.summary2())"
   ]
  },
  {
   "cell_type": "markdown",
   "metadata": {},
   "source": [
    "То же самое, но на данных high_corr_cols:"
   ]
  },
  {
   "cell_type": "markdown",
   "metadata": {},
   "source": [
    "# Часть 3\n",
    "### Модели машинного обучения"
   ]
  },
  {
   "cell_type": "code",
   "execution_count": 32,
   "metadata": {},
   "outputs": [],
   "source": [
    "from sklearn.linear_model import LinearRegression, Ridge, Lasso\n",
    "from sklearn.model_selection import train_test_split, GridSearchCV\n",
    "from sklearn.metrics import mean_squared_error\n",
    "from sklearn import preprocessing\n",
    "from sklearn.neighbors import KNeighborsClassifier"
   ]
  },
  {
   "cell_type": "code",
   "execution_count": 31,
   "metadata": {},
   "outputs": [],
   "source": [
    "X = data_final"
   ]
  },
  {
   "cell_type": "markdown",
   "metadata": {},
   "source": [
    "Делим выборку случайным образом на тренировочную и тестовую. Это нужно, чтобы после обучения на тренировочной,\n",
    "можно было тестировать точность модели на тестовой."
   ]
  },
  {
   "cell_type": "code",
   "execution_count": 33,
   "metadata": {},
   "outputs": [],
   "source": [
    "np.random.seed(123)\n",
    "X_train, X_test, y_train, y_test = train_test_split(X, Y, random_state=0, test_size = 0.3)"
   ]
  },
  {
   "cell_type": "markdown",
   "metadata": {},
   "source": [
    "1) Прогоняем модели к ближайших соседей, смотрим на точность, выбираем наилучший к"
   ]
  },
  {
   "cell_type": "code",
   "execution_count": 34,
   "metadata": {},
   "outputs": [],
   "source": [
    "train = []\n",
    "test = []\n",
    "NN = []"
   ]
  },
  {
   "cell_type": "code",
   "execution_count": 35,
   "metadata": {},
   "outputs": [],
   "source": [
    "for k in [1, 3, 5, 10, 15, 25]:\n",
    "    NN.append(k)\n",
    "    y_predicted_test = KNeighborsClassifier(n_neighbors=k).fit(X_train, y_train).predict(X_test)\n",
    "    test.append(np.mean(y_test==y_predicted_test))\n",
    "    y_predicted_train = KNeighborsClassifier(n_neighbors=k).fit(X_train, y_train).predict(X_train)\n",
    "    train.append(np.mean(y_train==y_predicted_train))"
   ]
  },
  {
   "cell_type": "code",
   "execution_count": 36,
   "metadata": {},
   "outputs": [
    {
     "data": {
      "text/html": [
       "<div>\n",
       "<style scoped>\n",
       "    .dataframe tbody tr th:only-of-type {\n",
       "        vertical-align: middle;\n",
       "    }\n",
       "\n",
       "    .dataframe tbody tr th {\n",
       "        vertical-align: top;\n",
       "    }\n",
       "\n",
       "    .dataframe thead th {\n",
       "        text-align: right;\n",
       "    }\n",
       "</style>\n",
       "<table border=\"1\" class=\"dataframe\">\n",
       "  <thead>\n",
       "    <tr style=\"text-align: right;\">\n",
       "      <th></th>\n",
       "      <th>NN</th>\n",
       "      <th>Train</th>\n",
       "      <th>Test</th>\n",
       "    </tr>\n",
       "  </thead>\n",
       "  <tbody>\n",
       "    <tr>\n",
       "      <th>0</th>\n",
       "      <td>1</td>\n",
       "      <td>1.000000</td>\n",
       "      <td>0.936441</td>\n",
       "    </tr>\n",
       "    <tr>\n",
       "      <th>1</th>\n",
       "      <td>3</td>\n",
       "      <td>0.961645</td>\n",
       "      <td>0.948136</td>\n",
       "    </tr>\n",
       "    <tr>\n",
       "      <th>2</th>\n",
       "      <td>5</td>\n",
       "      <td>0.955107</td>\n",
       "      <td>0.946780</td>\n",
       "    </tr>\n",
       "    <tr>\n",
       "      <th>3</th>\n",
       "      <td>10</td>\n",
       "      <td>0.946390</td>\n",
       "      <td>0.944746</td>\n",
       "    </tr>\n",
       "    <tr>\n",
       "      <th>4</th>\n",
       "      <td>15</td>\n",
       "      <td>0.945155</td>\n",
       "      <td>0.946441</td>\n",
       "    </tr>\n",
       "    <tr>\n",
       "      <th>5</th>\n",
       "      <td>25</td>\n",
       "      <td>0.941958</td>\n",
       "      <td>0.942881</td>\n",
       "    </tr>\n",
       "  </tbody>\n",
       "</table>\n",
       "</div>"
      ],
      "text/plain": [
       "   NN     Train      Test\n",
       "0   1  1.000000  0.936441\n",
       "1   3  0.961645  0.948136\n",
       "2   5  0.955107  0.946780\n",
       "3  10  0.946390  0.944746\n",
       "4  15  0.945155  0.946441\n",
       "5  25  0.941958  0.942881"
      ]
     },
     "execution_count": 36,
     "metadata": {},
     "output_type": "execute_result"
    }
   ],
   "source": [
    "tab = {'NN': NN, 'Train': train , 'Test': test}\n",
    "tabl = pd.DataFrame(tab, columns = ['NN','Train', 'Test'])\n",
    "tabl"
   ]
  },
  {
   "cell_type": "markdown",
   "metadata": {},
   "source": [
    "Лучше выбрать 5 соседей"
   ]
  },
  {
   "cell_type": "markdown",
   "metadata": {},
   "source": [
    "2) прогоняем модели: Случайный лес, Логит регрессию, Градиентный бустинг и КНН (k = 3"
   ]
  },
  {
   "cell_type": "code",
   "execution_count": 37,
   "metadata": {},
   "outputs": [],
   "source": [
    "import mlxtend\n",
    "from sklearn.linear_model import LogisticRegression\n",
    "from sklearn.ensemble import RandomForestClassifier, GradientBoostingClassifier\n",
    "import numpy as np\n",
    "import matplotlib.pyplot as plt\n",
    "from mlxtend.plotting import plot_decision_regions\n",
    "import matplotlib.gridspec as gridspec\n",
    "import itertools\n",
    "from sklearn.metrics import classification_report, roc_auc_score, confusion_matrix"
   ]
  },
  {
   "cell_type": "code",
   "execution_count": 38,
   "metadata": {},
   "outputs": [],
   "source": [
    "X_tr = np.array(X_train)\n",
    "y_tr = np.array(y_train)"
   ]
  },
  {
   "cell_type": "code",
   "execution_count": 39,
   "metadata": {},
   "outputs": [],
   "source": [
    "train = []\n",
    "test = []\n",
    "model = []"
   ]
  },
  {
   "cell_type": "code",
   "execution_count": 40,
   "metadata": {},
   "outputs": [],
   "source": [
    "clf1 = LogisticRegression(random_state=1,\n",
    "                          solver='newton-cg',\n",
    "                          multi_class='multinomial')\n",
    "clf2 = RandomForestClassifier(random_state=1, n_estimators=100)\n",
    "clf3 =  GradientBoostingClassifier(n_estimators=300)\n",
    "clf4 = KNeighborsClassifier(n_neighbors = 3)\n",
    "labels = ['Logistic Regression', 'Random Forest', 'Gradient Boosting', 'KNN (k = 3)']\n",
    "for clf, lab in zip([clf1, clf2, clf3, clf4],\n",
    "                         labels):\n",
    "    model.append(lab)\n",
    "    y_predicted_test = clf.fit(X_train, y_train).predict(X_test)\n",
    "    test.append(np.mean(y_test==y_predicted_test))\n",
    "    y_predicted_train = clf.fit(X_train, y_train).predict(X_train)\n",
    "    train.append(np.mean(y_train==y_predicted_train))"
   ]
  },
  {
   "cell_type": "code",
   "execution_count": 41,
   "metadata": {},
   "outputs": [
    {
     "data": {
      "text/html": [
       "<div>\n",
       "<style scoped>\n",
       "    .dataframe tbody tr th:only-of-type {\n",
       "        vertical-align: middle;\n",
       "    }\n",
       "\n",
       "    .dataframe tbody tr th {\n",
       "        vertical-align: top;\n",
       "    }\n",
       "\n",
       "    .dataframe thead th {\n",
       "        text-align: right;\n",
       "    }\n",
       "</style>\n",
       "<table border=\"1\" class=\"dataframe\">\n",
       "  <thead>\n",
       "    <tr style=\"text-align: right;\">\n",
       "      <th></th>\n",
       "      <th>model</th>\n",
       "      <th>Train</th>\n",
       "      <th>Test</th>\n",
       "    </tr>\n",
       "  </thead>\n",
       "  <tbody>\n",
       "    <tr>\n",
       "      <th>0</th>\n",
       "      <td>Logistic Regression</td>\n",
       "      <td>0.952928</td>\n",
       "      <td>0.952034</td>\n",
       "    </tr>\n",
       "    <tr>\n",
       "      <th>1</th>\n",
       "      <td>Random Forest</td>\n",
       "      <td>1.000000</td>\n",
       "      <td>0.981356</td>\n",
       "    </tr>\n",
       "    <tr>\n",
       "      <th>2</th>\n",
       "      <td>Gradient Boosting</td>\n",
       "      <td>0.989467</td>\n",
       "      <td>0.980169</td>\n",
       "    </tr>\n",
       "    <tr>\n",
       "      <th>3</th>\n",
       "      <td>KNN (k = 3)</td>\n",
       "      <td>0.961645</td>\n",
       "      <td>0.948136</td>\n",
       "    </tr>\n",
       "  </tbody>\n",
       "</table>\n",
       "</div>"
      ],
      "text/plain": [
       "                 model     Train      Test\n",
       "0  Logistic Regression  0.952928  0.952034\n",
       "1        Random Forest  1.000000  0.981356\n",
       "2    Gradient Boosting  0.989467  0.980169\n",
       "3          KNN (k = 3)  0.961645  0.948136"
      ]
     },
     "execution_count": 41,
     "metadata": {},
     "output_type": "execute_result"
    }
   ],
   "source": [
    "tab = {'model': model, 'Train': train , 'Test': test}\n",
    "tabl = pd.DataFrame(tab, columns = ['model','Train', 'Test'])\n",
    "tabl"
   ]
  },
  {
   "cell_type": "markdown",
   "metadata": {},
   "source": [
    "Модели, кажется, предсказывают статус очень хорошо, но так как небанкротств значительно больше, чем банкротств,\n",
    "возникает предположение, что модели хорошо предсказывают только небанкротсва. Посмотрим отдельно на предсказания\n",
    "каждого из статусов"
   ]
  },
  {
   "cell_type": "markdown",
   "metadata": {},
   "source": [
    "Это сделаем с помошью confusion matrix и classification report. \n",
    "Про confusion matrix читайте тут https://en.wikipedia.org/wiki/Confusion_matrix\n",
    "\n",
    "Если коротко, то в этих матрицах 2х2 в клетках 11 и 22 верно предсказанные значения, в 12 - ошибочно предсказанные банкротства, в 21 - ошибочные небанкротства"
   ]
  },
  {
   "cell_type": "code",
   "execution_count": 42,
   "metadata": {},
   "outputs": [
    {
     "name": "stdout",
     "output_type": "stream",
     "text": [
      "------------------------Logistic Regression------------------------\n",
      "[[12688    50]\n",
      " [  598   430]]\n",
      "              precision    recall  f1-score   support\n",
      "\n",
      "           0       0.95      1.00      0.98     12738\n",
      "           1       0.90      0.42      0.57      1028\n",
      "\n",
      "    accuracy                           0.95     13766\n",
      "   macro avg       0.93      0.71      0.77     13766\n",
      "weighted avg       0.95      0.95      0.94     13766\n",
      "\n",
      "------------------------Random Forest------------------------\n",
      "[[12738     0]\n",
      " [    0  1028]]\n",
      "              precision    recall  f1-score   support\n",
      "\n",
      "           0       1.00      1.00      1.00     12738\n",
      "           1       1.00      1.00      1.00      1028\n",
      "\n",
      "    accuracy                           1.00     13766\n",
      "   macro avg       1.00      1.00      1.00     13766\n",
      "weighted avg       1.00      1.00      1.00     13766\n",
      "\n",
      "------------------------Gradient Boosting------------------------\n",
      "[[12738     0]\n",
      " [  145   883]]\n",
      "              precision    recall  f1-score   support\n",
      "\n",
      "           0       0.99      1.00      0.99     12738\n",
      "           1       1.00      0.86      0.92      1028\n",
      "\n",
      "    accuracy                           0.99     13766\n",
      "   macro avg       0.99      0.93      0.96     13766\n",
      "weighted avg       0.99      0.99      0.99     13766\n",
      "\n",
      "------------------------KNN (k = 3)------------------------\n",
      "[[12688    50]\n",
      " [  478   550]]\n",
      "              precision    recall  f1-score   support\n",
      "\n",
      "           0       0.96      1.00      0.98     12738\n",
      "           1       0.92      0.54      0.68      1028\n",
      "\n",
      "    accuracy                           0.96     13766\n",
      "   macro avg       0.94      0.77      0.83     13766\n",
      "weighted avg       0.96      0.96      0.96     13766\n",
      "\n"
     ]
    }
   ],
   "source": [
    "models = [clf1, clf2, clf3, clf4]\n",
    "for clf, lab in zip(models, labels):\n",
    "    clf.fit(X_train, y_train)\n",
    "    print('------------------------'+lab+'------------------------')\n",
    "    y_train_pred = clf.predict(X_train)\n",
    "    arg_train = {'y_true':y_train, 'y_pred':y_train_pred}\n",
    "    print(confusion_matrix(**arg_train))\n",
    "    print(classification_report(**arg_train)) "
   ]
  },
  {
   "cell_type": "markdown",
   "metadata": {},
   "source": [
    "На тренировочной выборке отлично работают модели Рандомный лес и Градиентный бустинг. Логит и КНН хорошо предсказывают\n",
    "небанкротства, с банкротствами ошибаются\n",
    "\n",
    "Проверим теперь на тестовой выборке"
   ]
  },
  {
   "cell_type": "code",
   "execution_count": 43,
   "metadata": {},
   "outputs": [
    {
     "name": "stdout",
     "output_type": "stream",
     "text": [
      "------------------------Logistic Regression------------------------\n",
      "[[5474   22]\n",
      " [ 274  130]]\n",
      "              precision    recall  f1-score   support\n",
      "\n",
      "           0       0.95      1.00      0.97      5496\n",
      "           1       0.86      0.32      0.47       404\n",
      "\n",
      "    accuracy                           0.95      5900\n",
      "   macro avg       0.90      0.66      0.72      5900\n",
      "weighted avg       0.95      0.95      0.94      5900\n",
      "\n",
      "------------------------Random Forest------------------------\n",
      "[[5496    0]\n",
      " [   0  404]]\n",
      "              precision    recall  f1-score   support\n",
      "\n",
      "           0       1.00      1.00      1.00      5496\n",
      "           1       1.00      1.00      1.00       404\n",
      "\n",
      "    accuracy                           1.00      5900\n",
      "   macro avg       1.00      1.00      1.00      5900\n",
      "weighted avg       1.00      1.00      1.00      5900\n",
      "\n",
      "------------------------Gradient Boosting------------------------\n",
      "[[5496    0]\n",
      " [  22  382]]\n",
      "              precision    recall  f1-score   support\n",
      "\n",
      "           0       1.00      1.00      1.00      5496\n",
      "           1       1.00      0.95      0.97       404\n",
      "\n",
      "    accuracy                           1.00      5900\n",
      "   macro avg       1.00      0.97      0.99      5900\n",
      "weighted avg       1.00      1.00      1.00      5900\n",
      "\n",
      "------------------------KNN (k = 3)------------------------\n",
      "[[5475   21]\n",
      " [ 208  196]]\n",
      "              precision    recall  f1-score   support\n",
      "\n",
      "           0       0.96      1.00      0.98      5496\n",
      "           1       0.90      0.49      0.63       404\n",
      "\n",
      "    accuracy                           0.96      5900\n",
      "   macro avg       0.93      0.74      0.81      5900\n",
      "weighted avg       0.96      0.96      0.96      5900\n",
      "\n"
     ]
    }
   ],
   "source": [
    "models = [clf1, clf2, clf3, clf4]\n",
    "for clf, lab in zip(models, labels):\n",
    "    clf.fit(X_test, y_test)\n",
    "    print('------------------------'+lab+'------------------------')\n",
    "    y_test_pred = clf.predict(X_test)\n",
    "    arg_test = {'y_true':y_test, 'y_pred':y_test_pred}\n",
    "    print(confusion_matrix(**arg_test))\n",
    "    print(classification_report(**arg_test)) "
   ]
  },
  {
   "cell_type": "markdown",
   "metadata": {},
   "source": [
    "Вывод тот же самый. У Рандомного леса и Градиентного бусинга никаких проблем. Эти модели - наилучшие. Рандомный лес предсказывает идеально."
   ]
  }
 ],
 "metadata": {
  "kernelspec": {
   "display_name": "Python 3",
   "language": "python",
   "name": "python3"
  },
  "language_info": {
   "codemirror_mode": {
    "name": "ipython",
    "version": 3
   },
   "file_extension": ".py",
   "mimetype": "text/x-python",
   "name": "python",
   "nbconvert_exporter": "python",
   "pygments_lexer": "ipython3",
   "version": "3.8.5"
  }
 },
 "nbformat": 4,
 "nbformat_minor": 4
}
