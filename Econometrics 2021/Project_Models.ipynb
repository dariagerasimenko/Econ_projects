{
 "cells": [
  {
   "cell_type": "markdown",
   "metadata": {},
   "source": [
    "# Часть 1\n",
    "### Cоздание массива данных"
   ]
  },
  {
   "cell_type": "code",
   "execution_count": 1,
   "metadata": {},
   "outputs": [
    {
     "name": "stdout",
     "output_type": "stream",
     "text": [
      "Populating the interactive namespace from numpy and matplotlib\n"
     ]
    }
   ],
   "source": [
    "import pandas as pd\n",
    "import numpy as np\n",
    "pd.set_option('display.max_colwidth',None)\n",
    "pd.set_option('display.max_columns',None)\n",
    "from matplotlib import pyplot as plt\n",
    "import seaborn as sns\n",
    "from sklearn.model_selection import train_test_split\n",
    "%pylab inline"
   ]
  },
  {
   "cell_type": "code",
   "execution_count": 2,
   "metadata": {},
   "outputs": [],
   "source": [
    "import warnings\n",
    "warnings.filterwarnings(\"ignore\")"
   ]
  },
  {
   "cell_type": "code",
   "execution_count": 3,
   "metadata": {},
   "outputs": [
    {
     "data": {
      "text/html": [
       "<div>\n",
       "<style scoped>\n",
       "    .dataframe tbody tr th:only-of-type {\n",
       "        vertical-align: middle;\n",
       "    }\n",
       "\n",
       "    .dataframe tbody tr th {\n",
       "        vertical-align: top;\n",
       "    }\n",
       "\n",
       "    .dataframe thead th {\n",
       "        text-align: right;\n",
       "    }\n",
       "</style>\n",
       "<table border=\"1\" class=\"dataframe\">\n",
       "  <thead>\n",
       "    <tr style=\"text-align: right;\">\n",
       "      <th></th>\n",
       "      <th>№</th>\n",
       "      <th>Наименование</th>\n",
       "      <th>Год</th>\n",
       "      <th>Возраст компании, лет</th>\n",
       "      <th>Статус</th>\n",
       "      <th>Организационно-правовая форма</th>\n",
       "      <th>Форма собственности</th>\n",
       "      <th>Оборотные активы, RUB</th>\n",
       "      <th>Активы  всего, RUB</th>\n",
       "      <th>Нераспределенная прибыль (непокрытый убыток), RUB</th>\n",
       "      <th>Долгосрочные обязательства, RUB</th>\n",
       "      <th>Краткосрочные обязательства, RUB</th>\n",
       "      <th>Совокупный долг, RUB</th>\n",
       "      <th>Выручка, RUB</th>\n",
       "      <th>Коэффициент оборачиваемости совокупных активов</th>\n",
       "      <th>Оборотные активы/ТА</th>\n",
       "      <th>Нераспределенная прибыль (непокрытый убыток)/ТА</th>\n",
       "      <th>Долгосрочные обязательства/ТА</th>\n",
       "      <th>Краткосрочные обязательства/ТА</th>\n",
       "      <th>Совокупный долг/ТА</th>\n",
       "      <th>Выручка/ТА</th>\n",
       "      <th>Гос собственность</th>\n",
       "      <th>Частичная</th>\n",
       "      <th>Частная</th>\n",
       "      <th>АО</th>\n",
       "      <th>Гос собственность.1</th>\n",
       "      <th>Сельское хозво</th>\n",
       "      <th>Неком</th>\n",
       "      <th>Кооперативы</th>\n",
       "      <th>ООО</th>\n",
       "    </tr>\n",
       "  </thead>\n",
       "  <tbody>\n",
       "    <tr>\n",
       "      <th>0</th>\n",
       "      <td>1</td>\n",
       "      <td>(ТУЛАТЕХМАШ), АО</td>\n",
       "      <td>19</td>\n",
       "      <td>29.0</td>\n",
       "      <td>1</td>\n",
       "      <td>0</td>\n",
       "      <td>0</td>\n",
       "      <td>192345000</td>\n",
       "      <td>228294000</td>\n",
       "      <td>-32949000</td>\n",
       "      <td>93533000</td>\n",
       "      <td>158381000</td>\n",
       "      <td>251914000</td>\n",
       "      <td>36594000</td>\n",
       "      <td>0.1425</td>\n",
       "      <td>0.842532</td>\n",
       "      <td>-0.144327</td>\n",
       "      <td>0.409704</td>\n",
       "      <td>0.693759</td>\n",
       "      <td>1.103463</td>\n",
       "      <td>0.160293</td>\n",
       "      <td>0</td>\n",
       "      <td>0</td>\n",
       "      <td>1</td>\n",
       "      <td>1</td>\n",
       "      <td>0</td>\n",
       "      <td>0</td>\n",
       "      <td>0</td>\n",
       "      <td>0</td>\n",
       "      <td>0</td>\n",
       "    </tr>\n",
       "    <tr>\n",
       "      <th>1</th>\n",
       "      <td>2</td>\n",
       "      <td>18 ЦАРЗ, АО</td>\n",
       "      <td>19</td>\n",
       "      <td>11.5</td>\n",
       "      <td>1</td>\n",
       "      <td>0</td>\n",
       "      <td>2</td>\n",
       "      <td>79057000</td>\n",
       "      <td>507607000</td>\n",
       "      <td>-375469000</td>\n",
       "      <td>9007000</td>\n",
       "      <td>466916000</td>\n",
       "      <td>475923000</td>\n",
       "      <td>2173000</td>\n",
       "      <td>0.0041</td>\n",
       "      <td>0.346295</td>\n",
       "      <td>-1.644673</td>\n",
       "      <td>0.039454</td>\n",
       "      <td>2.045240</td>\n",
       "      <td>2.084693</td>\n",
       "      <td>0.009518</td>\n",
       "      <td>0</td>\n",
       "      <td>0</td>\n",
       "      <td>0</td>\n",
       "      <td>1</td>\n",
       "      <td>0</td>\n",
       "      <td>0</td>\n",
       "      <td>0</td>\n",
       "      <td>0</td>\n",
       "      <td>0</td>\n",
       "    </tr>\n",
       "    <tr>\n",
       "      <th>2</th>\n",
       "      <td>3</td>\n",
       "      <td>39 АРСЕНАЛ, АО</td>\n",
       "      <td>19</td>\n",
       "      <td>26.5</td>\n",
       "      <td>1</td>\n",
       "      <td>0</td>\n",
       "      <td>1</td>\n",
       "      <td>209931000</td>\n",
       "      <td>286396000</td>\n",
       "      <td>-199177000</td>\n",
       "      <td>168000</td>\n",
       "      <td>456867000</td>\n",
       "      <td>457035000</td>\n",
       "      <td>44035000</td>\n",
       "      <td>0.1531</td>\n",
       "      <td>0.919564</td>\n",
       "      <td>-0.872458</td>\n",
       "      <td>0.000736</td>\n",
       "      <td>2.001222</td>\n",
       "      <td>2.001958</td>\n",
       "      <td>0.192887</td>\n",
       "      <td>1</td>\n",
       "      <td>2</td>\n",
       "      <td>0</td>\n",
       "      <td>1</td>\n",
       "      <td>0</td>\n",
       "      <td>0</td>\n",
       "      <td>0</td>\n",
       "      <td>0</td>\n",
       "      <td>0</td>\n",
       "    </tr>\n",
       "    <tr>\n",
       "      <th>3</th>\n",
       "      <td>4</td>\n",
       "      <td>94 АРЗ, АО</td>\n",
       "      <td>19</td>\n",
       "      <td>25.5</td>\n",
       "      <td>1</td>\n",
       "      <td>0</td>\n",
       "      <td>1</td>\n",
       "      <td>10463000</td>\n",
       "      <td>233053000</td>\n",
       "      <td>-175760000</td>\n",
       "      <td>1195000</td>\n",
       "      <td>218191000</td>\n",
       "      <td>219386000</td>\n",
       "      <td>3757000</td>\n",
       "      <td>0.0166</td>\n",
       "      <td>0.045831</td>\n",
       "      <td>-0.769884</td>\n",
       "      <td>0.005234</td>\n",
       "      <td>0.955746</td>\n",
       "      <td>0.960980</td>\n",
       "      <td>0.016457</td>\n",
       "      <td>1</td>\n",
       "      <td>2</td>\n",
       "      <td>0</td>\n",
       "      <td>1</td>\n",
       "      <td>0</td>\n",
       "      <td>0</td>\n",
       "      <td>0</td>\n",
       "      <td>0</td>\n",
       "      <td>0</td>\n",
       "    </tr>\n",
       "    <tr>\n",
       "      <th>4</th>\n",
       "      <td>5</td>\n",
       "      <td>АБСОЛЮТ, ООО</td>\n",
       "      <td>19</td>\n",
       "      <td>27.0</td>\n",
       "      <td>1</td>\n",
       "      <td>5</td>\n",
       "      <td>0</td>\n",
       "      <td>63009000</td>\n",
       "      <td>160632000</td>\n",
       "      <td>-78300000</td>\n",
       "      <td>6471000</td>\n",
       "      <td>206861000</td>\n",
       "      <td>213332000</td>\n",
       "      <td>2461000</td>\n",
       "      <td>0.0129</td>\n",
       "      <td>0.275999</td>\n",
       "      <td>-0.342979</td>\n",
       "      <td>0.028345</td>\n",
       "      <td>0.906117</td>\n",
       "      <td>0.934462</td>\n",
       "      <td>0.010780</td>\n",
       "      <td>0</td>\n",
       "      <td>0</td>\n",
       "      <td>1</td>\n",
       "      <td>0</td>\n",
       "      <td>0</td>\n",
       "      <td>0</td>\n",
       "      <td>0</td>\n",
       "      <td>0</td>\n",
       "      <td>1</td>\n",
       "    </tr>\n",
       "    <tr>\n",
       "      <th>...</th>\n",
       "      <td>...</td>\n",
       "      <td>...</td>\n",
       "      <td>...</td>\n",
       "      <td>...</td>\n",
       "      <td>...</td>\n",
       "      <td>...</td>\n",
       "      <td>...</td>\n",
       "      <td>...</td>\n",
       "      <td>...</td>\n",
       "      <td>...</td>\n",
       "      <td>...</td>\n",
       "      <td>...</td>\n",
       "      <td>...</td>\n",
       "      <td>...</td>\n",
       "      <td>...</td>\n",
       "      <td>...</td>\n",
       "      <td>...</td>\n",
       "      <td>...</td>\n",
       "      <td>...</td>\n",
       "      <td>...</td>\n",
       "      <td>...</td>\n",
       "      <td>...</td>\n",
       "      <td>...</td>\n",
       "      <td>...</td>\n",
       "      <td>...</td>\n",
       "      <td>...</td>\n",
       "      <td>...</td>\n",
       "      <td>...</td>\n",
       "      <td>...</td>\n",
       "      <td>...</td>\n",
       "    </tr>\n",
       "    <tr>\n",
       "      <th>19661</th>\n",
       "      <td>19662</td>\n",
       "      <td>4ФРЭШ, ООО</td>\n",
       "      <td>20</td>\n",
       "      <td>1.5</td>\n",
       "      <td>0</td>\n",
       "      <td>5</td>\n",
       "      <td>0</td>\n",
       "      <td>151849000</td>\n",
       "      <td>166295000</td>\n",
       "      <td>14723000</td>\n",
       "      <td>144000</td>\n",
       "      <td>151378000</td>\n",
       "      <td>151522000</td>\n",
       "      <td>771586000</td>\n",
       "      <td>5.3344</td>\n",
       "      <td>0.665147</td>\n",
       "      <td>0.064491</td>\n",
       "      <td>0.000631</td>\n",
       "      <td>0.663084</td>\n",
       "      <td>0.663714</td>\n",
       "      <td>3.379791</td>\n",
       "      <td>0</td>\n",
       "      <td>0</td>\n",
       "      <td>1</td>\n",
       "      <td>0</td>\n",
       "      <td>0</td>\n",
       "      <td>0</td>\n",
       "      <td>0</td>\n",
       "      <td>0</td>\n",
       "      <td>1</td>\n",
       "    </tr>\n",
       "    <tr>\n",
       "      <th>19662</th>\n",
       "      <td>19663</td>\n",
       "      <td>(КОЛХОЗ) ИМЕНИ ШЕВЧЕНКО, СПК</td>\n",
       "      <td>20</td>\n",
       "      <td>28.0</td>\n",
       "      <td>0</td>\n",
       "      <td>2</td>\n",
       "      <td>0</td>\n",
       "      <td>222633000</td>\n",
       "      <td>472009000</td>\n",
       "      <td>363265000</td>\n",
       "      <td>75981000</td>\n",
       "      <td>8769000</td>\n",
       "      <td>84750000</td>\n",
       "      <td>311983000</td>\n",
       "      <td>0.7227</td>\n",
       "      <td>0.975203</td>\n",
       "      <td>1.591216</td>\n",
       "      <td>0.332821</td>\n",
       "      <td>0.038411</td>\n",
       "      <td>0.371232</td>\n",
       "      <td>1.366584</td>\n",
       "      <td>0</td>\n",
       "      <td>0</td>\n",
       "      <td>1</td>\n",
       "      <td>0</td>\n",
       "      <td>0</td>\n",
       "      <td>1</td>\n",
       "      <td>0</td>\n",
       "      <td>0</td>\n",
       "      <td>0</td>\n",
       "    </tr>\n",
       "    <tr>\n",
       "      <th>19663</th>\n",
       "      <td>19664</td>\n",
       "      <td>ТЭС, АО</td>\n",
       "      <td>20</td>\n",
       "      <td>10.5</td>\n",
       "      <td>1</td>\n",
       "      <td>0</td>\n",
       "      <td>0</td>\n",
       "      <td>79877000</td>\n",
       "      <td>87991000</td>\n",
       "      <td>-21156000</td>\n",
       "      <td>1000</td>\n",
       "      <td>108074000</td>\n",
       "      <td>108075000</td>\n",
       "      <td>17238000</td>\n",
       "      <td>0.1468</td>\n",
       "      <td>0.349887</td>\n",
       "      <td>-0.092670</td>\n",
       "      <td>0.000004</td>\n",
       "      <td>0.473398</td>\n",
       "      <td>0.473403</td>\n",
       "      <td>0.075508</td>\n",
       "      <td>0</td>\n",
       "      <td>0</td>\n",
       "      <td>1</td>\n",
       "      <td>1</td>\n",
       "      <td>0</td>\n",
       "      <td>0</td>\n",
       "      <td>0</td>\n",
       "      <td>0</td>\n",
       "      <td>0</td>\n",
       "    </tr>\n",
       "    <tr>\n",
       "      <th>19664</th>\n",
       "      <td>19665</td>\n",
       "      <td>СФЕРА УПАКОВКИ, ООО</td>\n",
       "      <td>20</td>\n",
       "      <td>5.0</td>\n",
       "      <td>1</td>\n",
       "      <td>5</td>\n",
       "      <td>0</td>\n",
       "      <td>168824000</td>\n",
       "      <td>168824000</td>\n",
       "      <td>4711000</td>\n",
       "      <td>2059000</td>\n",
       "      <td>161944000</td>\n",
       "      <td>164003000</td>\n",
       "      <td>121213000</td>\n",
       "      <td>0.6894</td>\n",
       "      <td>0.739503</td>\n",
       "      <td>0.020636</td>\n",
       "      <td>0.009019</td>\n",
       "      <td>0.709366</td>\n",
       "      <td>0.718385</td>\n",
       "      <td>0.530951</td>\n",
       "      <td>0</td>\n",
       "      <td>0</td>\n",
       "      <td>1</td>\n",
       "      <td>0</td>\n",
       "      <td>0</td>\n",
       "      <td>0</td>\n",
       "      <td>0</td>\n",
       "      <td>0</td>\n",
       "      <td>1</td>\n",
       "    </tr>\n",
       "    <tr>\n",
       "      <th>19665</th>\n",
       "      <td>19666</td>\n",
       "      <td>СИНДИКАТ-С, ООО</td>\n",
       "      <td>20</td>\n",
       "      <td>12.0</td>\n",
       "      <td>1</td>\n",
       "      <td>5</td>\n",
       "      <td>0</td>\n",
       "      <td>413000</td>\n",
       "      <td>413000</td>\n",
       "      <td>-26249000</td>\n",
       "      <td>24121000</td>\n",
       "      <td>2530000</td>\n",
       "      <td>26651000</td>\n",
       "      <td>9970000</td>\n",
       "      <td>3.0963</td>\n",
       "      <td>0.001809</td>\n",
       "      <td>-0.114979</td>\n",
       "      <td>0.105658</td>\n",
       "      <td>0.011082</td>\n",
       "      <td>0.116740</td>\n",
       "      <td>0.043672</td>\n",
       "      <td>0</td>\n",
       "      <td>0</td>\n",
       "      <td>1</td>\n",
       "      <td>0</td>\n",
       "      <td>0</td>\n",
       "      <td>0</td>\n",
       "      <td>0</td>\n",
       "      <td>0</td>\n",
       "      <td>1</td>\n",
       "    </tr>\n",
       "  </tbody>\n",
       "</table>\n",
       "<p>19666 rows × 30 columns</p>\n",
       "</div>"
      ],
      "text/plain": [
       "           №                  Наименование  Год  Возраст компании, лет  \\\n",
       "0          1              (ТУЛАТЕХМАШ), АО   19                   29.0   \n",
       "1          2                   18 ЦАРЗ, АО   19                   11.5   \n",
       "2          3                39 АРСЕНАЛ, АО   19                   26.5   \n",
       "3          4                    94 АРЗ, АО   19                   25.5   \n",
       "4          5                  АБСОЛЮТ, ООО   19                   27.0   \n",
       "...      ...                           ...  ...                    ...   \n",
       "19661  19662                    4ФРЭШ, ООО   20                    1.5   \n",
       "19662  19663  (КОЛХОЗ) ИМЕНИ ШЕВЧЕНКО, СПК   20                   28.0   \n",
       "19663  19664                       ТЭС, АО   20                   10.5   \n",
       "19664  19665           СФЕРА УПАКОВКИ, ООО   20                    5.0   \n",
       "19665  19666               СИНДИКАТ-С, ООО   20                   12.0   \n",
       "\n",
       "       Статус  Организационно-правовая форма  Форма собственности  \\\n",
       "0           1                              0                    0   \n",
       "1           1                              0                    2   \n",
       "2           1                              0                    1   \n",
       "3           1                              0                    1   \n",
       "4           1                              5                    0   \n",
       "...       ...                            ...                  ...   \n",
       "19661       0                              5                    0   \n",
       "19662       0                              2                    0   \n",
       "19663       1                              0                    0   \n",
       "19664       1                              5                    0   \n",
       "19665       1                              5                    0   \n",
       "\n",
       "       Оборотные активы, RUB  Активы  всего, RUB  \\\n",
       "0                  192345000           228294000   \n",
       "1                   79057000           507607000   \n",
       "2                  209931000           286396000   \n",
       "3                   10463000           233053000   \n",
       "4                   63009000           160632000   \n",
       "...                      ...                 ...   \n",
       "19661              151849000           166295000   \n",
       "19662              222633000           472009000   \n",
       "19663               79877000            87991000   \n",
       "19664              168824000           168824000   \n",
       "19665                 413000              413000   \n",
       "\n",
       "       Нераспределенная прибыль (непокрытый убыток), RUB  \\\n",
       "0                                              -32949000   \n",
       "1                                             -375469000   \n",
       "2                                             -199177000   \n",
       "3                                             -175760000   \n",
       "4                                              -78300000   \n",
       "...                                                  ...   \n",
       "19661                                           14723000   \n",
       "19662                                          363265000   \n",
       "19663                                          -21156000   \n",
       "19664                                            4711000   \n",
       "19665                                          -26249000   \n",
       "\n",
       "       Долгосрочные обязательства, RUB  Краткосрочные обязательства, RUB  \\\n",
       "0                             93533000                         158381000   \n",
       "1                              9007000                         466916000   \n",
       "2                               168000                         456867000   \n",
       "3                              1195000                         218191000   \n",
       "4                              6471000                         206861000   \n",
       "...                                ...                               ...   \n",
       "19661                           144000                         151378000   \n",
       "19662                         75981000                           8769000   \n",
       "19663                             1000                         108074000   \n",
       "19664                          2059000                         161944000   \n",
       "19665                         24121000                           2530000   \n",
       "\n",
       "       Совокупный долг, RUB  Выручка, RUB  \\\n",
       "0                 251914000      36594000   \n",
       "1                 475923000       2173000   \n",
       "2                 457035000      44035000   \n",
       "3                 219386000       3757000   \n",
       "4                 213332000       2461000   \n",
       "...                     ...           ...   \n",
       "19661             151522000     771586000   \n",
       "19662              84750000     311983000   \n",
       "19663             108075000      17238000   \n",
       "19664             164003000     121213000   \n",
       "19665              26651000       9970000   \n",
       "\n",
       "       Коэффициент оборачиваемости совокупных активов  Оборотные активы/ТА  \\\n",
       "0                                              0.1425             0.842532   \n",
       "1                                              0.0041             0.346295   \n",
       "2                                              0.1531             0.919564   \n",
       "3                                              0.0166             0.045831   \n",
       "4                                              0.0129             0.275999   \n",
       "...                                               ...                  ...   \n",
       "19661                                          5.3344             0.665147   \n",
       "19662                                          0.7227             0.975203   \n",
       "19663                                          0.1468             0.349887   \n",
       "19664                                          0.6894             0.739503   \n",
       "19665                                          3.0963             0.001809   \n",
       "\n",
       "       Нераспределенная прибыль (непокрытый убыток)/ТА  \\\n",
       "0                                            -0.144327   \n",
       "1                                            -1.644673   \n",
       "2                                            -0.872458   \n",
       "3                                            -0.769884   \n",
       "4                                            -0.342979   \n",
       "...                                                ...   \n",
       "19661                                         0.064491   \n",
       "19662                                         1.591216   \n",
       "19663                                        -0.092670   \n",
       "19664                                         0.020636   \n",
       "19665                                        -0.114979   \n",
       "\n",
       "       Долгосрочные обязательства/ТА  Краткосрочные обязательства/ТА  \\\n",
       "0                           0.409704                        0.693759   \n",
       "1                           0.039454                        2.045240   \n",
       "2                           0.000736                        2.001222   \n",
       "3                           0.005234                        0.955746   \n",
       "4                           0.028345                        0.906117   \n",
       "...                              ...                             ...   \n",
       "19661                       0.000631                        0.663084   \n",
       "19662                       0.332821                        0.038411   \n",
       "19663                       0.000004                        0.473398   \n",
       "19664                       0.009019                        0.709366   \n",
       "19665                       0.105658                        0.011082   \n",
       "\n",
       "       Совокупный долг/ТА  Выручка/ТА  Гос собственность  Частичная  Частная  \\\n",
       "0                1.103463    0.160293                  0          0        1   \n",
       "1                2.084693    0.009518                  0          0        0   \n",
       "2                2.001958    0.192887                  1          2        0   \n",
       "3                0.960980    0.016457                  1          2        0   \n",
       "4                0.934462    0.010780                  0          0        1   \n",
       "...                   ...         ...                ...        ...      ...   \n",
       "19661            0.663714    3.379791                  0          0        1   \n",
       "19662            0.371232    1.366584                  0          0        1   \n",
       "19663            0.473403    0.075508                  0          0        1   \n",
       "19664            0.718385    0.530951                  0          0        1   \n",
       "19665            0.116740    0.043672                  0          0        1   \n",
       "\n",
       "       АО  Гос собственность.1  Сельское хозво  Неком  Кооперативы  ООО  \n",
       "0       1                    0               0      0            0    0  \n",
       "1       1                    0               0      0            0    0  \n",
       "2       1                    0               0      0            0    0  \n",
       "3       1                    0               0      0            0    0  \n",
       "4       0                    0               0      0            0    1  \n",
       "...    ..                  ...             ...    ...          ...  ...  \n",
       "19661   0                    0               0      0            0    1  \n",
       "19662   0                    0               1      0            0    0  \n",
       "19663   1                    0               0      0            0    0  \n",
       "19664   0                    0               0      0            0    1  \n",
       "19665   0                    0               0      0            0    1  \n",
       "\n",
       "[19666 rows x 30 columns]"
      ]
     },
     "execution_count": 3,
     "metadata": {},
     "output_type": "execute_result"
    }
   ],
   "source": [
    "df=pd.read_excel('dataset_new.xlsx')\n",
    "df"
   ]
  },
  {
   "cell_type": "markdown",
   "metadata": {},
   "source": [
    "Удаляем пустые значения"
   ]
  },
  {
   "cell_type": "code",
   "execution_count": 4,
   "metadata": {},
   "outputs": [],
   "source": [
    "df = df.dropna()"
   ]
  },
  {
   "cell_type": "markdown",
   "metadata": {},
   "source": [
    "Удаляем целевую переменную из датасета"
   ]
  },
  {
   "cell_type": "code",
   "execution_count": 5,
   "metadata": {},
   "outputs": [],
   "source": [
    "data = df.copy()\n",
    "Y = data['Статус']\n",
    "data = data.drop(['Статус'], axis=1)"
   ]
  },
  {
   "cell_type": "code",
   "execution_count": 6,
   "metadata": {},
   "outputs": [
    {
     "data": {
      "text/plain": [
       "0    18234\n",
       "1     1432\n",
       "Name: Статус, dtype: int64"
      ]
     },
     "execution_count": 6,
     "metadata": {},
     "output_type": "execute_result"
    }
   ],
   "source": [
    "Y.value_counts()"
   ]
  },
  {
   "cell_type": "markdown",
   "metadata": {},
   "source": [
    "Создаем числовой массив данных. Убираем текстовые и категориальные переменные."
   ]
  },
  {
   "cell_type": "code",
   "execution_count": 7,
   "metadata": {},
   "outputs": [],
   "source": [
    "data_num = data.copy()\n",
    "data_num = data_num.drop(['№','Наименование', 'Организационно-правовая форма', 'Форма собственности'], axis = 1)"
   ]
  },
  {
   "cell_type": "markdown",
   "metadata": {},
   "source": [
    "Еще у нас в данных год закодирован двумя значениями: 19 и 20. Закодируем 0, если год 2019 и 1, если 2020"
   ]
  },
  {
   "cell_type": "code",
   "execution_count": 8,
   "metadata": {},
   "outputs": [
    {
     "data": {
      "text/plain": [
       "1    18294\n",
       "0     1372\n",
       "Name: Год, dtype: int64"
      ]
     },
     "execution_count": 8,
     "metadata": {},
     "output_type": "execute_result"
    }
   ],
   "source": [
    "data_num['Год']= pd.get_dummies(data_num['Год'], prefix='Год_20')\n",
    "data_num['Год'].value_counts()"
   ]
  },
  {
   "cell_type": "markdown",
   "metadata": {},
   "source": [
    "Создаем таблицу корреляций регрессоров с зависимой"
   ]
  },
  {
   "cell_type": "code",
   "execution_count": 9,
   "metadata": {},
   "outputs": [],
   "source": [
    "corr_matr = data_num.corrwith(Y)"
   ]
  },
  {
   "cell_type": "code",
   "execution_count": 10,
   "metadata": {},
   "outputs": [],
   "source": [
    "corr_matr = corr_matr.to_dict()\n",
    "tab = {'indicator': list(corr_matr.keys()) , 'value': list(corr_matr.values())}\n",
    "tabl = pd.DataFrame(tab, columns = ['indicator','value'])\n",
    "tabl = tabl.sort_values(by=['value'])"
   ]
  },
  {
   "cell_type": "markdown",
   "metadata": {},
   "source": [
    "Переменные, которые коррелируют с зависимой переменной с коэффом > 0.05"
   ]
  },
  {
   "cell_type": "code",
   "execution_count": 11,
   "metadata": {},
   "outputs": [
    {
     "data": {
      "text/html": [
       "<div>\n",
       "<style scoped>\n",
       "    .dataframe tbody tr th:only-of-type {\n",
       "        vertical-align: middle;\n",
       "    }\n",
       "\n",
       "    .dataframe tbody tr th {\n",
       "        vertical-align: top;\n",
       "    }\n",
       "\n",
       "    .dataframe thead th {\n",
       "        text-align: right;\n",
       "    }\n",
       "</style>\n",
       "<table border=\"1\" class=\"dataframe\">\n",
       "  <thead>\n",
       "    <tr style=\"text-align: right;\">\n",
       "      <th></th>\n",
       "      <th>indicator</th>\n",
       "      <th>value</th>\n",
       "    </tr>\n",
       "  </thead>\n",
       "  <tbody>\n",
       "    <tr>\n",
       "      <th>11</th>\n",
       "      <td>Нераспределенная прибыль (непокрытый убыток)/ТА</td>\n",
       "      <td>-0.269905</td>\n",
       "    </tr>\n",
       "    <tr>\n",
       "      <th>4</th>\n",
       "      <td>Нераспределенная прибыль (непокрытый убыток), RUB</td>\n",
       "      <td>-0.269905</td>\n",
       "    </tr>\n",
       "    <tr>\n",
       "      <th>18</th>\n",
       "      <td>Частная</td>\n",
       "      <td>-0.109416</td>\n",
       "    </tr>\n",
       "    <tr>\n",
       "      <th>19</th>\n",
       "      <td>АО</td>\n",
       "      <td>0.119759</td>\n",
       "    </tr>\n",
       "    <tr>\n",
       "      <th>2</th>\n",
       "      <td>Оборотные активы, RUB</td>\n",
       "      <td>0.203612</td>\n",
       "    </tr>\n",
       "    <tr>\n",
       "      <th>10</th>\n",
       "      <td>Оборотные активы/ТА</td>\n",
       "      <td>0.203612</td>\n",
       "    </tr>\n",
       "    <tr>\n",
       "      <th>5</th>\n",
       "      <td>Долгосрочные обязательства, RUB</td>\n",
       "      <td>0.223799</td>\n",
       "    </tr>\n",
       "    <tr>\n",
       "      <th>12</th>\n",
       "      <td>Долгосрочные обязательства/ТА</td>\n",
       "      <td>0.223799</td>\n",
       "    </tr>\n",
       "    <tr>\n",
       "      <th>3</th>\n",
       "      <td>Активы  всего, RUB</td>\n",
       "      <td>0.230376</td>\n",
       "    </tr>\n",
       "    <tr>\n",
       "      <th>6</th>\n",
       "      <td>Краткосрочные обязательства, RUB</td>\n",
       "      <td>0.290329</td>\n",
       "    </tr>\n",
       "    <tr>\n",
       "      <th>13</th>\n",
       "      <td>Краткосрочные обязательства/ТА</td>\n",
       "      <td>0.290329</td>\n",
       "    </tr>\n",
       "    <tr>\n",
       "      <th>14</th>\n",
       "      <td>Совокупный долг/ТА</td>\n",
       "      <td>0.319646</td>\n",
       "    </tr>\n",
       "    <tr>\n",
       "      <th>7</th>\n",
       "      <td>Совокупный долг, RUB</td>\n",
       "      <td>0.319646</td>\n",
       "    </tr>\n",
       "  </tbody>\n",
       "</table>\n",
       "</div>"
      ],
      "text/plain": [
       "                                            indicator     value\n",
       "11    Нераспределенная прибыль (непокрытый убыток)/ТА -0.269905\n",
       "4   Нераспределенная прибыль (непокрытый убыток), RUB -0.269905\n",
       "18                                            Частная -0.109416\n",
       "19                                                 АО  0.119759\n",
       "2                               Оборотные активы, RUB  0.203612\n",
       "10                                Оборотные активы/ТА  0.203612\n",
       "5                     Долгосрочные обязательства, RUB  0.223799\n",
       "12                      Долгосрочные обязательства/ТА  0.223799\n",
       "3                                  Активы  всего, RUB  0.230376\n",
       "6                    Краткосрочные обязательства, RUB  0.290329\n",
       "13                     Краткосрочные обязательства/ТА  0.290329\n",
       "14                                 Совокупный долг/ТА  0.319646\n",
       "7                                Совокупный долг, RUB  0.319646"
      ]
     },
     "execution_count": 11,
     "metadata": {},
     "output_type": "execute_result"
    }
   ],
   "source": [
    "tabl[abs(tabl['value']) > 0.1]"
   ]
  },
  {
   "cell_type": "markdown",
   "metadata": {},
   "source": [
    "Создаем массив коэффициентов. Cols - весь массив данных за исключением неотнормированных на TA переменных и за исключением некоторых dummy (чтобы исключить мультиколлинеарность) "
   ]
  },
  {
   "cell_type": "code",
   "execution_count": 12,
   "metadata": {},
   "outputs": [
    {
     "data": {
      "text/plain": [
       "array(['Нераспределенная прибыль (непокрытый убыток)/ТА',\n",
       "       'Нераспределенная прибыль (непокрытый убыток), RUB', 'Частная',\n",
       "       'Сельское хозво', 'ООО', 'Неком', 'Кооперативы',\n",
       "       'Коэффициент оборачиваемости совокупных активов',\n",
       "       'Возраст компании, лет', 'Выручка/ТА', 'Выручка, RUB', 'Год',\n",
       "       'Гос собственность', 'Частичная', 'Гос собственность.1', 'АО',\n",
       "       'Оборотные активы, RUB', 'Оборотные активы/ТА',\n",
       "       'Долгосрочные обязательства, RUB', 'Долгосрочные обязательства/ТА',\n",
       "       'Активы  всего, RUB', 'Краткосрочные обязательства, RUB',\n",
       "       'Краткосрочные обязательства/ТА', 'Совокупный долг/ТА',\n",
       "       'Совокупный долг, RUB'], dtype=object)"
      ]
     },
     "execution_count": 12,
     "metadata": {},
     "output_type": "execute_result"
    }
   ],
   "source": [
    "cols = np.array(tabl.indicator)\n",
    "cols"
   ]
  },
  {
   "cell_type": "code",
   "execution_count": 13,
   "metadata": {},
   "outputs": [
    {
     "data": {
      "text/plain": [
       "array(['Нераспределенная прибыль (непокрытый убыток)/ТА',\n",
       "       'Сельское хозво', 'ООО', 'Неком', 'Кооперативы',\n",
       "       'Коэффициент оборачиваемости совокупных активов',\n",
       "       'Возраст компании, лет', 'Выручка/ТА', 'Гос собственность',\n",
       "       'Гос собственность.1', 'АО', 'Оборотные активы/ТА',\n",
       "       'Долгосрочные обязательства/ТА'], dtype=object)"
      ]
     },
     "execution_count": 13,
     "metadata": {},
     "output_type": "execute_result"
    }
   ],
   "source": [
    "cols = np.delete(cols, [1, 2, 10, 11, 13, 16, 18, 20, 21, 22, 23, 24])   \n",
    "cols"
   ]
  },
  {
   "cell_type": "markdown",
   "metadata": {},
   "source": [
    "Корреляционная матрица коэффициентов:"
   ]
  },
  {
   "cell_type": "code",
   "execution_count": 14,
   "metadata": {},
   "outputs": [
    {
     "data": {
      "text/plain": [
       "<AxesSubplot:title={'center':'Pearson Correlation of Indicators'}>"
      ]
     },
     "execution_count": 14,
     "metadata": {},
     "output_type": "execute_result"
    },
    {
     "data": {
      "image/png": "[encoded data removed]",
      "text/plain": [
       "<Figure size 1008x864 with 2 Axes>"
      ]
     },
     "metadata": {
      "needs_background": "light"
     },
     "output_type": "display_data"
    }
   ],
   "source": [
    "colormap = plt.cm.RdBu\n",
    "plt.figure(figsize=(14,12))\n",
    "\n",
    "plt.title('Pearson Correlation of Indicators', y=1.05, size=12)\n",
    "sns.heatmap(data[cols].corr(),\n",
    "            linewidths=0.1, vmax=1.0, \n",
    "            square=True, cmap=colormap, linecolor='white', annot=True)"
   ]
  },
  {
   "cell_type": "markdown",
   "metadata": {},
   "source": [
    "Создаем датасет из списка, содержащего вышеперечисленные переменные"
   ]
  },
  {
   "cell_type": "code",
   "execution_count": 15,
   "metadata": {},
   "outputs": [],
   "source": [
    "data_final = pd.DataFrame(data_num[cols], columns = cols)"
   ]
  },
  {
   "cell_type": "markdown",
   "metadata": {},
   "source": [
    "# Часть 2\n",
    "### Эконометрические модели"
   ]
  },
  {
   "cell_type": "markdown",
   "metadata": {},
   "source": [
    "Прогоняем логит на данных cols"
   ]
  },
  {
   "cell_type": "code",
   "execution_count": 16,
   "metadata": {},
   "outputs": [
    {
     "name": "stdout",
     "output_type": "stream",
     "text": [
      "Optimization terminated successfully.\n",
      "         Current function value: 0.162279\n",
      "         Iterations 11\n",
      "                                         Results: Logit\n",
      "================================================================================================\n",
      "Model:                          Logit                      Pseudo R-squared:           0.378    \n",
      "Dependent Variable:             Статус                     AIC:                        6408.7621\n",
      "Date:                           2021-03-24 22:37           BIC:                        6511.2885\n",
      "No. Observations:               19666                      Log-Likelihood:             -3191.4  \n",
      "Df Model:                       12                         LL-Null:                    -5130.1  \n",
      "Df Residuals:                   19653                      LLR p-value:                0.0000   \n",
      "Converged:                      1.0000                     Scale:                      1.0000   \n",
      "No. Iterations:                 11.0000                                                         \n",
      "------------------------------------------------------------------------------------------------\n",
      "                                                 Coef.  Std.Err.    z     P>|z|   [0.025  0.975]\n",
      "------------------------------------------------------------------------------------------------\n",
      "Нераспределенная прибыль (непокрытый убыток)/ТА -5.0483   0.1889 -26.7275 0.0000 -5.4185 -4.6781\n",
      "Сельское хозво                                  -3.6673   0.2317 -15.8286 0.0000 -4.1214 -3.2132\n",
      "ООО                                             -2.2368   0.0887 -25.2259 0.0000 -2.4105 -2.0630\n",
      "Неком                                           -2.3909   0.3830  -6.2423 0.0000 -3.1416 -1.6402\n",
      "Кооперативы                                     -3.2639   1.0562  -3.0902 0.0020 -5.3340 -1.1938\n",
      "Коэффициент оборачиваемости совокупных активов  -0.4400   0.0354 -12.4211 0.0000 -0.5094 -0.3706\n",
      "Возраст компании, лет                            0.0037   0.0049   0.7672 0.4430 -0.0058  0.0133\n",
      "Выручка/ТА                                      -0.1368   0.0366  -3.7419 0.0002 -0.2084 -0.0651\n",
      "Гос собственность                                0.2120   0.3195   0.6637 0.5069 -0.4142  0.8383\n",
      "Гос собственность.1                             -0.8351   0.3445  -2.4239 0.0154 -1.5104 -0.1598\n",
      "АО                                              -1.3309   0.1545  -8.6128 0.0000 -1.6337 -1.0280\n",
      "Оборотные активы/ТА                              1.3076   0.0723  18.0770 0.0000  1.1658  1.4493\n",
      "Долгосрочные обязательства/ТА                    0.1477   0.0740   1.9965 0.0459  0.0027  0.2927\n",
      "================================================================================================\n",
      "\n"
     ]
    }
   ],
   "source": [
    "import statsmodels.api as sm\n",
    "Logit_model=sm.Logit(Y,data_final)\n",
    "result=Logit_model.fit()\n",
    "print(result.summary2())"
   ]
  },
  {
   "cell_type": "markdown",
   "metadata": {},
   "source": [
    "Прогоняем пробит на данных cols"
   ]
  },
  {
   "cell_type": "code",
   "execution_count": 17,
   "metadata": {},
   "outputs": [
    {
     "name": "stdout",
     "output_type": "stream",
     "text": [
      "Warning: Maximum number of iterations has been exceeded.\n",
      "         Current function value: 0.170894\n",
      "         Iterations: 35\n",
      "                                        Results: Probit\n",
      "================================================================================================\n",
      "Model:                          Probit                     Pseudo R-squared:           0.345    \n",
      "Dependent Variable:             Статус                     AIC:                        6747.6127\n",
      "Date:                           2021-03-24 22:38           BIC:                        6850.1391\n",
      "No. Observations:               19666                      Log-Likelihood:             -3360.8  \n",
      "Df Model:                       12                         LL-Null:                    -5130.1  \n",
      "Df Residuals:                   19653                      LLR p-value:                0.0000   \n",
      "Converged:                      0.0000                     Scale:                      1.0000   \n",
      "No. Iterations:                 35.0000                                                         \n",
      "------------------------------------------------------------------------------------------------\n",
      "                                                 Coef.  Std.Err.    z     P>|z|   [0.025  0.975]\n",
      "------------------------------------------------------------------------------------------------\n",
      "Нераспределенная прибыль (непокрытый убыток)/ТА -2.1504   0.0489 -43.9972 0.0000 -2.2462 -2.0546\n",
      "Сельское хозво                                  -2.1240   0.0997 -21.3062 0.0000 -2.3193 -1.9286\n",
      "ООО                                             -1.5081   0.0391 -38.5597 0.0000 -1.5847 -1.4314\n",
      "Неком                                           -1.6482   0.1706  -9.6587 0.0000 -1.9827 -1.3138\n",
      "Кооперативы                                     -2.0213   0.5062  -3.9930 0.0001 -3.0135 -1.0292\n",
      "Коэффициент оборачиваемости совокупных активов  -0.1015   0.0088 -11.5122 0.0000 -0.1188 -0.0842\n",
      "Возраст компании, лет                            0.0037   0.0023   1.5706 0.1163 -0.0009  0.0083\n",
      "Выручка/ТА                                      -0.1163   0.0117  -9.8989 0.0000 -0.1393 -0.0933\n",
      "Гос собственность                                0.1228   0.1687   0.7278 0.4667 -0.2078  0.4533\n",
      "Гос собственность.1                             -0.7464   0.1835  -4.0672 0.0000 -1.1061 -0.3867\n",
      "АО                                              -1.0081   0.0749 -13.4630 0.0000 -1.1549 -0.8613\n",
      "Оборотные активы/ТА                              0.7778   0.0255  30.5402 0.0000  0.7278  0.8277\n",
      "Долгосрочные обязательства/ТА                    0.1756   0.0342   5.1355 0.0000  0.1086  0.2426\n",
      "================================================================================================\n",
      "\n"
     ]
    },
    {
     "name": "stderr",
     "output_type": "stream",
     "text": [
      "/Users/dariagerasimenko/opt/anaconda3/lib/python3.8/site-packages/statsmodels/base/model.py:566: ConvergenceWarning: Maximum Likelihood optimization failed to converge. Check mle_retvals\n",
      "  warnings.warn(\"Maximum Likelihood optimization failed to \"\n"
     ]
    }
   ],
   "source": [
    "Probit_model=sm.Probit(Y,data_final)\n",
    "result=Probit_model.fit()\n",
    "print(result.summary2())"
   ]
  },
  {
   "cell_type": "markdown",
   "metadata": {},
   "source": [
    "# Часть 3\n",
    "### Модели машинного обучения"
   ]
  },
  {
   "cell_type": "code",
   "execution_count": 18,
   "metadata": {},
   "outputs": [],
   "source": [
    "from sklearn.model_selection import train_test_split, GridSearchCV\n",
    "from sklearn.metrics import mean_squared_error\n",
    "from sklearn import preprocessing\n",
    "from sklearn.neighbors import KNeighborsClassifier"
   ]
  },
  {
   "cell_type": "code",
   "execution_count": 19,
   "metadata": {},
   "outputs": [],
   "source": [
    "X = data_final"
   ]
  },
  {
   "cell_type": "markdown",
   "metadata": {},
   "source": [
    "Делим выборку случайным образом на тренировочную и тестовую. Это нужно, чтобы после обучения на тренировочной,\n",
    "можно было тестировать точность модели на тестовой."
   ]
  },
  {
   "cell_type": "code",
   "execution_count": 20,
   "metadata": {},
   "outputs": [],
   "source": [
    "np.random.seed(123)\n",
    "X_train, X_test, y_train, y_test = train_test_split(X, Y, random_state=0, test_size = 0.3)"
   ]
  },
  {
   "cell_type": "markdown",
   "metadata": {},
   "source": [
    "1) Прогоняем модели k ближайших соседей, смотрим на точность, выбираем наилучший k"
   ]
  },
  {
   "cell_type": "code",
   "execution_count": 21,
   "metadata": {},
   "outputs": [],
   "source": [
    "train = []\n",
    "test = []\n",
    "NN = []"
   ]
  },
  {
   "cell_type": "code",
   "execution_count": 22,
   "metadata": {},
   "outputs": [],
   "source": [
    "for k in [1, 3, 5, 10, 15, 25]:\n",
    "    NN.append(k)\n",
    "    y_predicted_test = KNeighborsClassifier(n_neighbors=k).fit(X_train, y_train).predict(X_test)\n",
    "    test.append(np.mean(y_test==y_predicted_test))\n",
    "    y_predicted_train = KNeighborsClassifier(n_neighbors=k).fit(X_train, y_train).predict(X_train)\n",
    "    train.append(np.mean(y_train==y_predicted_train))"
   ]
  },
  {
   "cell_type": "code",
   "execution_count": 24,
   "metadata": {},
   "outputs": [
    {
     "data": {
      "text/html": [
       "<div>\n",
       "<style scoped>\n",
       "    .dataframe tbody tr th:only-of-type {\n",
       "        vertical-align: middle;\n",
       "    }\n",
       "\n",
       "    .dataframe tbody tr th {\n",
       "        vertical-align: top;\n",
       "    }\n",
       "\n",
       "    .dataframe thead th {\n",
       "        text-align: right;\n",
       "    }\n",
       "</style>\n",
       "<table border=\"1\" class=\"dataframe\">\n",
       "  <thead>\n",
       "    <tr style=\"text-align: right;\">\n",
       "      <th></th>\n",
       "      <th>NN</th>\n",
       "      <th>Train</th>\n",
       "      <th>Test</th>\n",
       "    </tr>\n",
       "  </thead>\n",
       "  <tbody>\n",
       "    <tr>\n",
       "      <th>0</th>\n",
       "      <td>1</td>\n",
       "      <td>1.000000</td>\n",
       "      <td>0.938644</td>\n",
       "    </tr>\n",
       "    <tr>\n",
       "      <th>1</th>\n",
       "      <td>3</td>\n",
       "      <td>0.961645</td>\n",
       "      <td>0.948475</td>\n",
       "    </tr>\n",
       "    <tr>\n",
       "      <th>2</th>\n",
       "      <td>5</td>\n",
       "      <td>0.955543</td>\n",
       "      <td>0.947797</td>\n",
       "    </tr>\n",
       "    <tr>\n",
       "      <th>3</th>\n",
       "      <td>10</td>\n",
       "      <td>0.946680</td>\n",
       "      <td>0.944915</td>\n",
       "    </tr>\n",
       "    <tr>\n",
       "      <th>4</th>\n",
       "      <td>15</td>\n",
       "      <td>0.945082</td>\n",
       "      <td>0.946441</td>\n",
       "    </tr>\n",
       "    <tr>\n",
       "      <th>5</th>\n",
       "      <td>25</td>\n",
       "      <td>0.941668</td>\n",
       "      <td>0.943390</td>\n",
       "    </tr>\n",
       "  </tbody>\n",
       "</table>\n",
       "</div>"
      ],
      "text/plain": [
       "   NN     Train      Test\n",
       "0   1  1.000000  0.938644\n",
       "1   3  0.961645  0.948475\n",
       "2   5  0.955543  0.947797\n",
       "3  10  0.946680  0.944915\n",
       "4  15  0.945082  0.946441\n",
       "5  25  0.941668  0.943390"
      ]
     },
     "execution_count": 24,
     "metadata": {},
     "output_type": "execute_result"
    }
   ],
   "source": [
    "tab = {'NN': NN, 'Train': train , 'Test': test}\n",
    "tabl = pd.DataFrame(tab, columns = ['NN','Train', 'Test'])\n",
    "tabl"
   ]
  },
  {
   "cell_type": "markdown",
   "metadata": {},
   "source": [
    "Лучше выбрать 5 соседей"
   ]
  },
  {
   "cell_type": "markdown",
   "metadata": {},
   "source": [
    "2) прогоняем модели: Случайный лес, Логит регрессию, Градиентный бустинг и КНН (k = 3)"
   ]
  },
  {
   "cell_type": "code",
   "execution_count": 23,
   "metadata": {},
   "outputs": [],
   "source": [
    "import mlxtend\n",
    "from sklearn.linear_model import LogisticRegression\n",
    "from sklearn.ensemble import RandomForestClassifier, GradientBoostingClassifier\n",
    "import numpy as np\n",
    "import matplotlib.pyplot as plt\n",
    "from mlxtend.plotting import plot_decision_regions\n",
    "import matplotlib.gridspec as gridspec\n",
    "import itertools\n",
    "from sklearn.metrics import classification_report, roc_auc_score, confusion_matrix"
   ]
  },
  {
   "cell_type": "code",
   "execution_count": 24,
   "metadata": {},
   "outputs": [],
   "source": [
    "X_tr = np.array(X_train)\n",
    "y_tr = np.array(y_train)"
   ]
  },
  {
   "cell_type": "code",
   "execution_count": 30,
   "metadata": {},
   "outputs": [],
   "source": [
    "train = []\n",
    "test = []\n",
    "model = []"
   ]
  },
  {
   "cell_type": "code",
   "execution_count": 31,
   "metadata": {},
   "outputs": [],
   "source": [
    "clf1 = LogisticRegression(random_state=1,\n",
    "                          solver='newton-cg',\n",
    "                          multi_class='multinomial')\n",
    "clf2 = RandomForestClassifier(random_state=1, n_estimators=100)\n",
    "clf3 =  GradientBoostingClassifier(n_estimators=300)\n",
    "clf4 = KNeighborsClassifier(n_neighbors = 3)\n",
    "labels = ['Logistic Regression', 'Random Forest', 'Gradient Boosting', 'KNN (k = 3)']\n",
    "for clf, lab in zip([clf1, clf2, clf3, clf4],\n",
    "                         labels):\n",
    "    model.append(lab)\n",
    "    y_predicted_test = clf.fit(X_train, y_train).predict(X_test)\n",
    "    test.append(np.mean(y_test==y_predicted_test))\n",
    "    y_predicted_train = clf.fit(X_train, y_train).predict(X_train)\n",
    "    train.append(np.mean(y_train==y_predicted_train))"
   ]
  },
  {
   "cell_type": "code",
   "execution_count": 32,
   "metadata": {},
   "outputs": [
    {
     "data": {
      "text/html": [
       "<div>\n",
       "<style scoped>\n",
       "    .dataframe tbody tr th:only-of-type {\n",
       "        vertical-align: middle;\n",
       "    }\n",
       "\n",
       "    .dataframe tbody tr th {\n",
       "        vertical-align: top;\n",
       "    }\n",
       "\n",
       "    .dataframe thead th {\n",
       "        text-align: right;\n",
       "    }\n",
       "</style>\n",
       "<table border=\"1\" class=\"dataframe\">\n",
       "  <thead>\n",
       "    <tr style=\"text-align: right;\">\n",
       "      <th></th>\n",
       "      <th>model</th>\n",
       "      <th>Train</th>\n",
       "      <th>Test</th>\n",
       "    </tr>\n",
       "  </thead>\n",
       "  <tbody>\n",
       "    <tr>\n",
       "      <th>0</th>\n",
       "      <td>Logistic Regression</td>\n",
       "      <td>0.952855</td>\n",
       "      <td>0.952373</td>\n",
       "    </tr>\n",
       "    <tr>\n",
       "      <th>1</th>\n",
       "      <td>Random Forest</td>\n",
       "      <td>1.000000</td>\n",
       "      <td>0.981186</td>\n",
       "    </tr>\n",
       "    <tr>\n",
       "      <th>2</th>\n",
       "      <td>Gradient Boosting</td>\n",
       "      <td>0.989685</td>\n",
       "      <td>0.979153</td>\n",
       "    </tr>\n",
       "    <tr>\n",
       "      <th>3</th>\n",
       "      <td>KNN (k = 3)</td>\n",
       "      <td>0.961645</td>\n",
       "      <td>0.948475</td>\n",
       "    </tr>\n",
       "  </tbody>\n",
       "</table>\n",
       "</div>"
      ],
      "text/plain": [
       "                 model     Train      Test\n",
       "0  Logistic Regression  0.952855  0.952373\n",
       "1        Random Forest  1.000000  0.981186\n",
       "2    Gradient Boosting  0.989685  0.979153\n",
       "3          KNN (k = 3)  0.961645  0.948475"
      ]
     },
     "execution_count": 32,
     "metadata": {},
     "output_type": "execute_result"
    }
   ],
   "source": [
    "tab = {'model': model, 'Train': train , 'Test': test}\n",
    "tabl = pd.DataFrame(tab, columns = ['model','Train', 'Test'])\n",
    "tabl"
   ]
  },
  {
   "cell_type": "markdown",
   "metadata": {},
   "source": [
    "Модели, кажется, предсказывают статус очень хорошо, но так как небанкротств значительно больше, чем банкротств,\n",
    "возникает предположение, что модели хорошо предсказывают только небанкротсва. Посмотрим отдельно на предсказания\n",
    "каждого из статусов"
   ]
  },
  {
   "cell_type": "markdown",
   "metadata": {},
   "source": [
    "Это сделаем с помошью confusion matrix и classification report. \n",
    "Про confusion matrix читайте тут https://en.wikipedia.org/wiki/Confusion_matrix\n",
    "\n",
    "Если коротко, то в этих матрицах 2х2 в клетках 11 и 22 верно предсказанные значения, в 12 - ошибочно предсказанные банкротства, в 21 - ошибочные небанкротства"
   ]
  },
  {
   "cell_type": "code",
   "execution_count": 28,
   "metadata": {},
   "outputs": [
    {
     "name": "stdout",
     "output_type": "stream",
     "text": [
      "------------------------Logistic Regression------------------------\n",
      "[[12686    52]\n",
      " [  597   431]]\n",
      "              precision    recall  f1-score   support\n",
      "\n",
      "           0       0.96      1.00      0.98     12738\n",
      "           1       0.89      0.42      0.57      1028\n",
      "\n",
      "    accuracy                           0.95     13766\n",
      "   macro avg       0.92      0.71      0.77     13766\n",
      "weighted avg       0.95      0.95      0.94     13766\n",
      "\n",
      "------------------------Random Forest------------------------\n",
      "[[12738     0]\n",
      " [    0  1028]]\n",
      "              precision    recall  f1-score   support\n",
      "\n",
      "           0       1.00      1.00      1.00     12738\n",
      "           1       1.00      1.00      1.00      1028\n",
      "\n",
      "    accuracy                           1.00     13766\n",
      "   macro avg       1.00      1.00      1.00     13766\n",
      "weighted avg       1.00      1.00      1.00     13766\n",
      "\n",
      "------------------------Gradient Boosting------------------------\n",
      "[[12738     0]\n",
      " [  142   886]]\n",
      "              precision    recall  f1-score   support\n",
      "\n",
      "           0       0.99      1.00      0.99     12738\n",
      "           1       1.00      0.86      0.93      1028\n",
      "\n",
      "    accuracy                           0.99     13766\n",
      "   macro avg       0.99      0.93      0.96     13766\n",
      "weighted avg       0.99      0.99      0.99     13766\n",
      "\n",
      "------------------------KNN (k = 3)------------------------\n",
      "[[12684    54]\n",
      " [  474   554]]\n",
      "              precision    recall  f1-score   support\n",
      "\n",
      "           0       0.96      1.00      0.98     12738\n",
      "           1       0.91      0.54      0.68      1028\n",
      "\n",
      "    accuracy                           0.96     13766\n",
      "   macro avg       0.94      0.77      0.83     13766\n",
      "weighted avg       0.96      0.96      0.96     13766\n",
      "\n"
     ]
    }
   ],
   "source": [
    "models = [clf1, clf2, clf3, clf4]\n",
    "for clf, lab in zip(models, labels):\n",
    "    clf.fit(X_train, y_train)\n",
    "    print('------------------------'+lab+'------------------------')\n",
    "    y_train_pred = clf.predict(X_train)\n",
    "    arg_train = {'y_true':y_train, 'y_pred':y_train_pred}\n",
    "    print(confusion_matrix(**arg_train))\n",
    "    print(classification_report(**arg_train)) "
   ]
  },
  {
   "cell_type": "markdown",
   "metadata": {},
   "source": [
    "На тренировочной выборке отлично работают модели Рандомный лес и Градиентный бустинг. Логит и КНН хорошо предсказывают\n",
    "небанкротства, с банкротствами ошибаются\n",
    "\n",
    "Проверим теперь на тестовой выборке"
   ]
  },
  {
   "cell_type": "code",
   "execution_count": 33,
   "metadata": {},
   "outputs": [
    {
     "name": "stdout",
     "output_type": "stream",
     "text": [
      "------------------------Logistic Regression------------------------\n",
      "[[5470   26]\n",
      " [ 255  149]]\n",
      "              precision    recall  f1-score   support\n",
      "\n",
      "           0       0.96      1.00      0.97      5496\n",
      "           1       0.85      0.37      0.51       404\n",
      "\n",
      "    accuracy                           0.95      5900\n",
      "   macro avg       0.90      0.68      0.74      5900\n",
      "weighted avg       0.95      0.95      0.94      5900\n",
      "\n",
      "------------------------Random Forest------------------------\n",
      "[[5491    5]\n",
      " [ 106  298]]\n",
      "              precision    recall  f1-score   support\n",
      "\n",
      "           0       0.98      1.00      0.99      5496\n",
      "           1       0.98      0.74      0.84       404\n",
      "\n",
      "    accuracy                           0.98      5900\n",
      "   macro avg       0.98      0.87      0.92      5900\n",
      "weighted avg       0.98      0.98      0.98      5900\n",
      "\n",
      "------------------------Gradient Boosting------------------------\n",
      "[[5477   19]\n",
      " [ 104  300]]\n",
      "              precision    recall  f1-score   support\n",
      "\n",
      "           0       0.98      1.00      0.99      5496\n",
      "           1       0.94      0.74      0.83       404\n",
      "\n",
      "    accuracy                           0.98      5900\n",
      "   macro avg       0.96      0.87      0.91      5900\n",
      "weighted avg       0.98      0.98      0.98      5900\n",
      "\n",
      "------------------------KNN (k = 3)------------------------\n",
      "[[5452   44]\n",
      " [ 260  144]]\n",
      "              precision    recall  f1-score   support\n",
      "\n",
      "           0       0.95      0.99      0.97      5496\n",
      "           1       0.77      0.36      0.49       404\n",
      "\n",
      "    accuracy                           0.95      5900\n",
      "   macro avg       0.86      0.67      0.73      5900\n",
      "weighted avg       0.94      0.95      0.94      5900\n",
      "\n"
     ]
    }
   ],
   "source": [
    "models = [clf1, clf2, clf3, clf4]\n",
    "for clf, lab in zip(models, labels):\n",
    "    clf.fit(X_train, y_train)\n",
    "    print('------------------------'+lab+'------------------------')\n",
    "    y_test_pred = clf.predict(X_test)\n",
    "    arg_test = {'y_true':y_test, 'y_pred':y_test_pred}\n",
    "    print(confusion_matrix(**arg_test))\n",
    "    print(classification_report(**arg_test)) "
   ]
  },
  {
   "cell_type": "markdown",
   "metadata": {},
   "source": [
    "Вывод тот же самый. У Рандомного леса и Градиентного бусинга никаких проблем. Эти модели - наилучшие. Рандомный лес предсказывает идеально."
   ]
  },
  {
   "cell_type": "markdown",
   "metadata": {},
   "source": [
    "Вывод: рандомный лес - лучшая модель"
   ]
  }
 ],
 "metadata": {
  "kernelspec": {
   "display_name": "Python 3",
   "language": "python",
   "name": "python3"
  },
  "language_info": {
   "codemirror_mode": {
    "name": "ipython",
    "version": 3
   },
   "file_extension": ".py",
   "mimetype": "text/x-python",
   "name": "python",
   "nbconvert_exporter": "python",
   "pygments_lexer": "ipython3",
   "version": "3.8.5"
  }
 },
 "nbformat": 4,
 "nbformat_minor": 4
}
