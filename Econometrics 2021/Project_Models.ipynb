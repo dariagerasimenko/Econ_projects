{
 "cells": [
  {
   "cell_type": "markdown",
   "metadata": {},
   "source": [
    "# Часть 1\n",
    "### Cоздание массива данных"
   ]
  },
  {
   "cell_type": "code",
   "execution_count": 1,
   "metadata": {},
   "outputs": [
    {
     "name": "stdout",
     "output_type": "stream",
     "text": [
      "Populating the interactive namespace from numpy and matplotlib\n"
     ]
    }
   ],
   "source": [
    "import pandas as pd\n",
    "import numpy as np\n",
    "pd.set_option('display.max_colwidth',None)\n",
    "pd.set_option('display.max_columns',None)\n",
    "from matplotlib import pyplot as plt\n",
    "import seaborn as sns\n",
    "from sklearn.model_selection import train_test_split\n",
    "%pylab inline"
   ]
  },
  {
   "cell_type": "code",
   "execution_count": 33,
   "metadata": {},
   "outputs": [],
   "source": [
    "import warnings\n",
    "warnings.filterwarnings(\"ignore\")"
   ]
  },
  {
   "cell_type": "code",
   "execution_count": 2,
   "metadata": {},
   "outputs": [
    {
     "data": {
      "text/html": [
       "<div>\n",
       "<style scoped>\n",
       "    .dataframe tbody tr th:only-of-type {\n",
       "        vertical-align: middle;\n",
       "    }\n",
       "\n",
       "    .dataframe tbody tr th {\n",
       "        vertical-align: top;\n",
       "    }\n",
       "\n",
       "    .dataframe thead th {\n",
       "        text-align: right;\n",
       "    }\n",
       "</style>\n",
       "<table border=\"1\" class=\"dataframe\">\n",
       "  <thead>\n",
       "    <tr style=\"text-align: right;\">\n",
       "      <th></th>\n",
       "      <th>№</th>\n",
       "      <th>Наименование</th>\n",
       "      <th>Год</th>\n",
       "      <th>Возраст компании, лет</th>\n",
       "      <th>Статус</th>\n",
       "      <th>Организационно-правовая форма</th>\n",
       "      <th>Форма собственности</th>\n",
       "      <th>Оборотные активы, RUB</th>\n",
       "      <th>Активы  всего, RUB</th>\n",
       "      <th>Нераспределенная прибыль (непокрытый убыток), RUB</th>\n",
       "      <th>Долгосрочные обязательства, RUB</th>\n",
       "      <th>Краткосрочные обязательства, RUB</th>\n",
       "      <th>Совокупный долг, RUB</th>\n",
       "      <th>Выручка, RUB</th>\n",
       "      <th>Коэффициент оборачиваемости совокупных активов</th>\n",
       "      <th>Оборотные активы/ТА</th>\n",
       "      <th>Нераспределенная прибыль (непокрытый убыток)/ТА</th>\n",
       "      <th>Долгосрочные обязательства/ТА</th>\n",
       "      <th>Краткосрочные обязательства/ТА</th>\n",
       "      <th>Совокупный долг/ТА</th>\n",
       "      <th>Выручка/ТА</th>\n",
       "      <th>Гос собственность</th>\n",
       "      <th>Частичная</th>\n",
       "      <th>Частная</th>\n",
       "      <th>АО</th>\n",
       "      <th>Гос собственность.1</th>\n",
       "      <th>Сельское хозво</th>\n",
       "      <th>Неком</th>\n",
       "      <th>Кооперативы</th>\n",
       "      <th>ООО</th>\n",
       "    </tr>\n",
       "  </thead>\n",
       "  <tbody>\n",
       "    <tr>\n",
       "      <th>0</th>\n",
       "      <td>1</td>\n",
       "      <td>ПОДШИПНИК, ЗАО ТД</td>\n",
       "      <td>20</td>\n",
       "      <td>24.5</td>\n",
       "      <td>1</td>\n",
       "      <td>0</td>\n",
       "      <td>0</td>\n",
       "      <td>2414000.0</td>\n",
       "      <td>3259000</td>\n",
       "      <td>-247052000.0</td>\n",
       "      <td>22730000.0</td>\n",
       "      <td>227573000.0</td>\n",
       "      <td>250303000.0</td>\n",
       "      <td>25000.0</td>\n",
       "      <td>0.0022</td>\n",
       "      <td>0.740718</td>\n",
       "      <td>-75.806075</td>\n",
       "      <td>6.974532</td>\n",
       "      <td>69.829089</td>\n",
       "      <td>76.803621</td>\n",
       "      <td>0.007671</td>\n",
       "      <td>0</td>\n",
       "      <td>0</td>\n",
       "      <td>1</td>\n",
       "      <td>1</td>\n",
       "      <td>0</td>\n",
       "      <td>0</td>\n",
       "      <td>0</td>\n",
       "      <td>0</td>\n",
       "      <td>0</td>\n",
       "    </tr>\n",
       "    <tr>\n",
       "      <th>1</th>\n",
       "      <td>2</td>\n",
       "      <td>СИНДИКАТ-С, ООО</td>\n",
       "      <td>20</td>\n",
       "      <td>12.0</td>\n",
       "      <td>1</td>\n",
       "      <td>5</td>\n",
       "      <td>0</td>\n",
       "      <td>413000.0</td>\n",
       "      <td>413000</td>\n",
       "      <td>-26249000.0</td>\n",
       "      <td>24121000.0</td>\n",
       "      <td>2530000.0</td>\n",
       "      <td>26651000.0</td>\n",
       "      <td>9970000.0</td>\n",
       "      <td>3.0963</td>\n",
       "      <td>1.000000</td>\n",
       "      <td>-63.556901</td>\n",
       "      <td>58.404358</td>\n",
       "      <td>6.125908</td>\n",
       "      <td>64.530266</td>\n",
       "      <td>24.140436</td>\n",
       "      <td>0</td>\n",
       "      <td>0</td>\n",
       "      <td>1</td>\n",
       "      <td>0</td>\n",
       "      <td>0</td>\n",
       "      <td>0</td>\n",
       "      <td>0</td>\n",
       "      <td>0</td>\n",
       "      <td>1</td>\n",
       "    </tr>\n",
       "    <tr>\n",
       "      <th>2</th>\n",
       "      <td>3</td>\n",
       "      <td>СФЕРА УПАКОВКИ, ООО</td>\n",
       "      <td>20</td>\n",
       "      <td>5.0</td>\n",
       "      <td>1</td>\n",
       "      <td>5</td>\n",
       "      <td>0</td>\n",
       "      <td>168824000.0</td>\n",
       "      <td>168824000</td>\n",
       "      <td>4711000.0</td>\n",
       "      <td>2059000.0</td>\n",
       "      <td>161944000.0</td>\n",
       "      <td>164003000.0</td>\n",
       "      <td>121213000.0</td>\n",
       "      <td>0.6894</td>\n",
       "      <td>1.000000</td>\n",
       "      <td>0.027905</td>\n",
       "      <td>0.012196</td>\n",
       "      <td>0.959248</td>\n",
       "      <td>0.971444</td>\n",
       "      <td>0.717984</td>\n",
       "      <td>0</td>\n",
       "      <td>0</td>\n",
       "      <td>1</td>\n",
       "      <td>0</td>\n",
       "      <td>0</td>\n",
       "      <td>0</td>\n",
       "      <td>0</td>\n",
       "      <td>0</td>\n",
       "      <td>1</td>\n",
       "    </tr>\n",
       "    <tr>\n",
       "      <th>3</th>\n",
       "      <td>4</td>\n",
       "      <td>ТЭС, АО</td>\n",
       "      <td>20</td>\n",
       "      <td>10.5</td>\n",
       "      <td>1</td>\n",
       "      <td>0</td>\n",
       "      <td>0</td>\n",
       "      <td>79877000.0</td>\n",
       "      <td>87991000</td>\n",
       "      <td>-21156000.0</td>\n",
       "      <td>1000.0</td>\n",
       "      <td>108074000.0</td>\n",
       "      <td>108075000.0</td>\n",
       "      <td>17238000.0</td>\n",
       "      <td>0.1468</td>\n",
       "      <td>0.907786</td>\n",
       "      <td>-0.240434</td>\n",
       "      <td>0.000011</td>\n",
       "      <td>1.228239</td>\n",
       "      <td>1.228251</td>\n",
       "      <td>0.195906</td>\n",
       "      <td>0</td>\n",
       "      <td>0</td>\n",
       "      <td>1</td>\n",
       "      <td>1</td>\n",
       "      <td>0</td>\n",
       "      <td>0</td>\n",
       "      <td>0</td>\n",
       "      <td>0</td>\n",
       "      <td>0</td>\n",
       "    </tr>\n",
       "    <tr>\n",
       "      <th>4</th>\n",
       "      <td>5</td>\n",
       "      <td>АВТОКОЛОННА 1958, ООО</td>\n",
       "      <td>20</td>\n",
       "      <td>28.0</td>\n",
       "      <td>1</td>\n",
       "      <td>5</td>\n",
       "      <td>0</td>\n",
       "      <td>53509000.0</td>\n",
       "      <td>174544000</td>\n",
       "      <td>-31963000.0</td>\n",
       "      <td>32626000.0</td>\n",
       "      <td>172294000.0</td>\n",
       "      <td>204920000.0</td>\n",
       "      <td>1463000.0</td>\n",
       "      <td>0.0079</td>\n",
       "      <td>0.306565</td>\n",
       "      <td>-0.183123</td>\n",
       "      <td>0.186921</td>\n",
       "      <td>0.987109</td>\n",
       "      <td>1.174031</td>\n",
       "      <td>0.008382</td>\n",
       "      <td>0</td>\n",
       "      <td>0</td>\n",
       "      <td>1</td>\n",
       "      <td>0</td>\n",
       "      <td>0</td>\n",
       "      <td>0</td>\n",
       "      <td>0</td>\n",
       "      <td>0</td>\n",
       "      <td>1</td>\n",
       "    </tr>\n",
       "    <tr>\n",
       "      <th>...</th>\n",
       "      <td>...</td>\n",
       "      <td>...</td>\n",
       "      <td>...</td>\n",
       "      <td>...</td>\n",
       "      <td>...</td>\n",
       "      <td>...</td>\n",
       "      <td>...</td>\n",
       "      <td>...</td>\n",
       "      <td>...</td>\n",
       "      <td>...</td>\n",
       "      <td>...</td>\n",
       "      <td>...</td>\n",
       "      <td>...</td>\n",
       "      <td>...</td>\n",
       "      <td>...</td>\n",
       "      <td>...</td>\n",
       "      <td>...</td>\n",
       "      <td>...</td>\n",
       "      <td>...</td>\n",
       "      <td>...</td>\n",
       "      <td>...</td>\n",
       "      <td>...</td>\n",
       "      <td>...</td>\n",
       "      <td>...</td>\n",
       "      <td>...</td>\n",
       "      <td>...</td>\n",
       "      <td>...</td>\n",
       "      <td>...</td>\n",
       "      <td>...</td>\n",
       "      <td>...</td>\n",
       "    </tr>\n",
       "    <tr>\n",
       "      <th>3454</th>\n",
       "      <td>3455</td>\n",
       "      <td>ЯРКОВСКАЯ, СЕЛЬХОЗАРТЕЛЬ</td>\n",
       "      <td>19</td>\n",
       "      <td>28.0</td>\n",
       "      <td>0</td>\n",
       "      <td>2</td>\n",
       "      <td>0</td>\n",
       "      <td>70630000.0</td>\n",
       "      <td>153836000</td>\n",
       "      <td>63959000.0</td>\n",
       "      <td>20741000.0</td>\n",
       "      <td>21222000.0</td>\n",
       "      <td>41963000.0</td>\n",
       "      <td>86652000.0</td>\n",
       "      <td>0.5934</td>\n",
       "      <td>0.459125</td>\n",
       "      <td>0.415761</td>\n",
       "      <td>0.134825</td>\n",
       "      <td>0.137952</td>\n",
       "      <td>0.272778</td>\n",
       "      <td>0.563275</td>\n",
       "      <td>0</td>\n",
       "      <td>0</td>\n",
       "      <td>1</td>\n",
       "      <td>0</td>\n",
       "      <td>0</td>\n",
       "      <td>1</td>\n",
       "      <td>0</td>\n",
       "      <td>0</td>\n",
       "      <td>0</td>\n",
       "    </tr>\n",
       "    <tr>\n",
       "      <th>3455</th>\n",
       "      <td>3456</td>\n",
       "      <td>ЯРКОВСКОЕ, АО СХП</td>\n",
       "      <td>19</td>\n",
       "      <td>28.0</td>\n",
       "      <td>0</td>\n",
       "      <td>0</td>\n",
       "      <td>0</td>\n",
       "      <td>168457000.0</td>\n",
       "      <td>454656000</td>\n",
       "      <td>342323000.0</td>\n",
       "      <td>13318000.0</td>\n",
       "      <td>98863000.0</td>\n",
       "      <td>112181000.0</td>\n",
       "      <td>150780000.0</td>\n",
       "      <td>0.3372</td>\n",
       "      <td>0.370515</td>\n",
       "      <td>0.752927</td>\n",
       "      <td>0.029292</td>\n",
       "      <td>0.217446</td>\n",
       "      <td>0.246738</td>\n",
       "      <td>0.331635</td>\n",
       "      <td>0</td>\n",
       "      <td>0</td>\n",
       "      <td>1</td>\n",
       "      <td>1</td>\n",
       "      <td>0</td>\n",
       "      <td>0</td>\n",
       "      <td>0</td>\n",
       "      <td>0</td>\n",
       "      <td>0</td>\n",
       "    </tr>\n",
       "    <tr>\n",
       "      <th>3456</th>\n",
       "      <td>3457</td>\n",
       "      <td>ЯРОВИТ, ООО</td>\n",
       "      <td>19</td>\n",
       "      <td>8.5</td>\n",
       "      <td>0</td>\n",
       "      <td>5</td>\n",
       "      <td>0</td>\n",
       "      <td>128667000.0</td>\n",
       "      <td>305088000</td>\n",
       "      <td>144677000.0</td>\n",
       "      <td>9801000.0</td>\n",
       "      <td>18074000.0</td>\n",
       "      <td>27875000.0</td>\n",
       "      <td>117500000.0</td>\n",
       "      <td>0.2777</td>\n",
       "      <td>0.421737</td>\n",
       "      <td>0.474214</td>\n",
       "      <td>0.032125</td>\n",
       "      <td>0.059242</td>\n",
       "      <td>0.091367</td>\n",
       "      <td>0.385135</td>\n",
       "      <td>0</td>\n",
       "      <td>0</td>\n",
       "      <td>1</td>\n",
       "      <td>0</td>\n",
       "      <td>0</td>\n",
       "      <td>0</td>\n",
       "      <td>0</td>\n",
       "      <td>0</td>\n",
       "      <td>1</td>\n",
       "    </tr>\n",
       "    <tr>\n",
       "      <th>3457</th>\n",
       "      <td>3458</td>\n",
       "      <td>ЯРТЕХСЕРВИС, ООО</td>\n",
       "      <td>19</td>\n",
       "      <td>14.0</td>\n",
       "      <td>0</td>\n",
       "      <td>5</td>\n",
       "      <td>0</td>\n",
       "      <td>44081000.0</td>\n",
       "      <td>52944000</td>\n",
       "      <td>46840000.0</td>\n",
       "      <td>62000.0</td>\n",
       "      <td>6032000.0</td>\n",
       "      <td>6094000.0</td>\n",
       "      <td>94691000.0</td>\n",
       "      <td>1.8193</td>\n",
       "      <td>0.832597</td>\n",
       "      <td>0.884708</td>\n",
       "      <td>0.001171</td>\n",
       "      <td>0.113932</td>\n",
       "      <td>0.115103</td>\n",
       "      <td>1.788512</td>\n",
       "      <td>0</td>\n",
       "      <td>0</td>\n",
       "      <td>1</td>\n",
       "      <td>0</td>\n",
       "      <td>0</td>\n",
       "      <td>0</td>\n",
       "      <td>0</td>\n",
       "      <td>0</td>\n",
       "      <td>1</td>\n",
       "    </tr>\n",
       "    <tr>\n",
       "      <th>3458</th>\n",
       "      <td>3459</td>\n",
       "      <td>ЯСТРО-ЛАКТ, ООО</td>\n",
       "      <td>19</td>\n",
       "      <td>1.0</td>\n",
       "      <td>0</td>\n",
       "      <td>5</td>\n",
       "      <td>0</td>\n",
       "      <td>75153000.0</td>\n",
       "      <td>266233000</td>\n",
       "      <td>3655000.0</td>\n",
       "      <td>NaN</td>\n",
       "      <td>262568000.0</td>\n",
       "      <td>262568000.0</td>\n",
       "      <td>23028000.0</td>\n",
       "      <td>0.1730</td>\n",
       "      <td>0.282283</td>\n",
       "      <td>0.013729</td>\n",
       "      <td>0.000000</td>\n",
       "      <td>0.986234</td>\n",
       "      <td>0.986234</td>\n",
       "      <td>0.086496</td>\n",
       "      <td>0</td>\n",
       "      <td>0</td>\n",
       "      <td>1</td>\n",
       "      <td>0</td>\n",
       "      <td>0</td>\n",
       "      <td>0</td>\n",
       "      <td>0</td>\n",
       "      <td>0</td>\n",
       "      <td>1</td>\n",
       "    </tr>\n",
       "  </tbody>\n",
       "</table>\n",
       "<p>3459 rows × 30 columns</p>\n",
       "</div>"
      ],
      "text/plain": [
       "         №              Наименование  Год  Возраст компании, лет  Статус  \\\n",
       "0        1         ПОДШИПНИК, ЗАО ТД   20                   24.5       1   \n",
       "1        2           СИНДИКАТ-С, ООО   20                   12.0       1   \n",
       "2        3       СФЕРА УПАКОВКИ, ООО   20                    5.0       1   \n",
       "3        4                   ТЭС, АО   20                   10.5       1   \n",
       "4        5     АВТОКОЛОННА 1958, ООО   20                   28.0       1   \n",
       "...    ...                       ...  ...                    ...     ...   \n",
       "3454  3455  ЯРКОВСКАЯ, СЕЛЬХОЗАРТЕЛЬ   19                   28.0       0   \n",
       "3455  3456         ЯРКОВСКОЕ, АО СХП   19                   28.0       0   \n",
       "3456  3457               ЯРОВИТ, ООО   19                    8.5       0   \n",
       "3457  3458          ЯРТЕХСЕРВИС, ООО   19                   14.0       0   \n",
       "3458  3459           ЯСТРО-ЛАКТ, ООО   19                    1.0       0   \n",
       "\n",
       "      Организационно-правовая форма  Форма собственности  \\\n",
       "0                                 0                    0   \n",
       "1                                 5                    0   \n",
       "2                                 5                    0   \n",
       "3                                 0                    0   \n",
       "4                                 5                    0   \n",
       "...                             ...                  ...   \n",
       "3454                              2                    0   \n",
       "3455                              0                    0   \n",
       "3456                              5                    0   \n",
       "3457                              5                    0   \n",
       "3458                              5                    0   \n",
       "\n",
       "      Оборотные активы, RUB  Активы  всего, RUB  \\\n",
       "0                 2414000.0             3259000   \n",
       "1                  413000.0              413000   \n",
       "2               168824000.0           168824000   \n",
       "3                79877000.0            87991000   \n",
       "4                53509000.0           174544000   \n",
       "...                     ...                 ...   \n",
       "3454             70630000.0           153836000   \n",
       "3455            168457000.0           454656000   \n",
       "3456            128667000.0           305088000   \n",
       "3457             44081000.0            52944000   \n",
       "3458             75153000.0           266233000   \n",
       "\n",
       "      Нераспределенная прибыль (непокрытый убыток), RUB  \\\n",
       "0                                          -247052000.0   \n",
       "1                                           -26249000.0   \n",
       "2                                             4711000.0   \n",
       "3                                           -21156000.0   \n",
       "4                                           -31963000.0   \n",
       "...                                                 ...   \n",
       "3454                                         63959000.0   \n",
       "3455                                        342323000.0   \n",
       "3456                                        144677000.0   \n",
       "3457                                         46840000.0   \n",
       "3458                                          3655000.0   \n",
       "\n",
       "      Долгосрочные обязательства, RUB  Краткосрочные обязательства, RUB  \\\n",
       "0                          22730000.0                       227573000.0   \n",
       "1                          24121000.0                         2530000.0   \n",
       "2                           2059000.0                       161944000.0   \n",
       "3                              1000.0                       108074000.0   \n",
       "4                          32626000.0                       172294000.0   \n",
       "...                               ...                               ...   \n",
       "3454                       20741000.0                        21222000.0   \n",
       "3455                       13318000.0                        98863000.0   \n",
       "3456                        9801000.0                        18074000.0   \n",
       "3457                          62000.0                         6032000.0   \n",
       "3458                              NaN                       262568000.0   \n",
       "\n",
       "      Совокупный долг, RUB  Выручка, RUB  \\\n",
       "0              250303000.0       25000.0   \n",
       "1               26651000.0     9970000.0   \n",
       "2              164003000.0   121213000.0   \n",
       "3              108075000.0    17238000.0   \n",
       "4              204920000.0     1463000.0   \n",
       "...                    ...           ...   \n",
       "3454            41963000.0    86652000.0   \n",
       "3455           112181000.0   150780000.0   \n",
       "3456            27875000.0   117500000.0   \n",
       "3457             6094000.0    94691000.0   \n",
       "3458           262568000.0    23028000.0   \n",
       "\n",
       "      Коэффициент оборачиваемости совокупных активов  Оборотные активы/ТА  \\\n",
       "0                                             0.0022             0.740718   \n",
       "1                                             3.0963             1.000000   \n",
       "2                                             0.6894             1.000000   \n",
       "3                                             0.1468             0.907786   \n",
       "4                                             0.0079             0.306565   \n",
       "...                                              ...                  ...   \n",
       "3454                                          0.5934             0.459125   \n",
       "3455                                          0.3372             0.370515   \n",
       "3456                                          0.2777             0.421737   \n",
       "3457                                          1.8193             0.832597   \n",
       "3458                                          0.1730             0.282283   \n",
       "\n",
       "      Нераспределенная прибыль (непокрытый убыток)/ТА  \\\n",
       "0                                          -75.806075   \n",
       "1                                          -63.556901   \n",
       "2                                            0.027905   \n",
       "3                                           -0.240434   \n",
       "4                                           -0.183123   \n",
       "...                                               ...   \n",
       "3454                                         0.415761   \n",
       "3455                                         0.752927   \n",
       "3456                                         0.474214   \n",
       "3457                                         0.884708   \n",
       "3458                                         0.013729   \n",
       "\n",
       "      Долгосрочные обязательства/ТА  Краткосрочные обязательства/ТА  \\\n",
       "0                          6.974532                       69.829089   \n",
       "1                         58.404358                        6.125908   \n",
       "2                          0.012196                        0.959248   \n",
       "3                          0.000011                        1.228239   \n",
       "4                          0.186921                        0.987109   \n",
       "...                             ...                             ...   \n",
       "3454                       0.134825                        0.137952   \n",
       "3455                       0.029292                        0.217446   \n",
       "3456                       0.032125                        0.059242   \n",
       "3457                       0.001171                        0.113932   \n",
       "3458                       0.000000                        0.986234   \n",
       "\n",
       "      Совокупный долг/ТА  Выручка/ТА  Гос собственность  Частичная  Частная  \\\n",
       "0              76.803621    0.007671                  0          0        1   \n",
       "1              64.530266   24.140436                  0          0        1   \n",
       "2               0.971444    0.717984                  0          0        1   \n",
       "3               1.228251    0.195906                  0          0        1   \n",
       "4               1.174031    0.008382                  0          0        1   \n",
       "...                  ...         ...                ...        ...      ...   \n",
       "3454            0.272778    0.563275                  0          0        1   \n",
       "3455            0.246738    0.331635                  0          0        1   \n",
       "3456            0.091367    0.385135                  0          0        1   \n",
       "3457            0.115103    1.788512                  0          0        1   \n",
       "3458            0.986234    0.086496                  0          0        1   \n",
       "\n",
       "      АО  Гос собственность.1  Сельское хозво  Неком  Кооперативы  ООО  \n",
       "0      1                    0               0      0            0    0  \n",
       "1      0                    0               0      0            0    1  \n",
       "2      0                    0               0      0            0    1  \n",
       "3      1                    0               0      0            0    0  \n",
       "4      0                    0               0      0            0    1  \n",
       "...   ..                  ...             ...    ...          ...  ...  \n",
       "3454   0                    0               1      0            0    0  \n",
       "3455   1                    0               0      0            0    0  \n",
       "3456   0                    0               0      0            0    1  \n",
       "3457   0                    0               0      0            0    1  \n",
       "3458   0                    0               0      0            0    1  \n",
       "\n",
       "[3459 rows x 30 columns]"
      ]
     },
     "execution_count": 2,
     "metadata": {},
     "output_type": "execute_result"
    }
   ],
   "source": [
    "df=pd.read_excel('dataset_for_project.xlsx')\n",
    "df"
   ]
  },
  {
   "cell_type": "markdown",
   "metadata": {},
   "source": [
    "Удаляем пустые значения"
   ]
  },
  {
   "cell_type": "code",
   "execution_count": 3,
   "metadata": {},
   "outputs": [],
   "source": [
    "df = df.dropna()"
   ]
  },
  {
   "cell_type": "markdown",
   "metadata": {},
   "source": [
    "Удаляем целевую переменную из датасета"
   ]
  },
  {
   "cell_type": "code",
   "execution_count": 4,
   "metadata": {},
   "outputs": [],
   "source": [
    "data = df.copy()\n",
    "Y = data['Статус']\n",
    "data = data.drop(['Статус'], axis=1)"
   ]
  },
  {
   "cell_type": "code",
   "execution_count": 5,
   "metadata": {},
   "outputs": [
    {
     "data": {
      "text/plain": [
       "0    2875\n",
       "1     202\n",
       "Name: Статус, dtype: int64"
      ]
     },
     "execution_count": 5,
     "metadata": {},
     "output_type": "execute_result"
    }
   ],
   "source": [
    "Y.value_counts()"
   ]
  },
  {
   "cell_type": "markdown",
   "metadata": {},
   "source": [
    "Создаем числовой массив данных. Убираем текстовые и категориальные переменные."
   ]
  },
  {
   "cell_type": "code",
   "execution_count": 6,
   "metadata": {},
   "outputs": [],
   "source": [
    "data_num = data.copy()\n",
    "data_num = data_num.drop(['№','Наименование', 'Организационно-правовая форма', 'Форма собственности'], axis = 1)"
   ]
  },
  {
   "cell_type": "markdown",
   "metadata": {},
   "source": [
    "Создаем таблицу корреляций регрессоров с зависимой"
   ]
  },
  {
   "cell_type": "code",
   "execution_count": 7,
   "metadata": {},
   "outputs": [],
   "source": [
    "corr_matr = data_num.corrwith(Y)"
   ]
  },
  {
   "cell_type": "code",
   "execution_count": 8,
   "metadata": {},
   "outputs": [],
   "source": [
    "corr_matr = corr_matr.to_dict()\n",
    "tab = {'indicator': list(corr_matr.keys()) , 'value': list(corr_matr.values())}\n",
    "tabl = pd.DataFrame(tab, columns = ['indicator','value'])\n",
    "tabl = tabl.sort_values(by=['value'])"
   ]
  },
  {
   "cell_type": "markdown",
   "metadata": {},
   "source": [
    "Переменные, которые коррелируют с зависимой переменной с коэффом > 0.05"
   ]
  },
  {
   "cell_type": "code",
   "execution_count": 9,
   "metadata": {},
   "outputs": [
    {
     "data": {
      "text/html": [
       "<div>\n",
       "<style scoped>\n",
       "    .dataframe tbody tr th:only-of-type {\n",
       "        vertical-align: middle;\n",
       "    }\n",
       "\n",
       "    .dataframe tbody tr th {\n",
       "        vertical-align: top;\n",
       "    }\n",
       "\n",
       "    .dataframe thead th {\n",
       "        text-align: right;\n",
       "    }\n",
       "</style>\n",
       "<table border=\"1\" class=\"dataframe\">\n",
       "  <thead>\n",
       "    <tr style=\"text-align: right;\">\n",
       "      <th></th>\n",
       "      <th>indicator</th>\n",
       "      <th>value</th>\n",
       "    </tr>\n",
       "  </thead>\n",
       "  <tbody>\n",
       "    <tr>\n",
       "      <th>0</th>\n",
       "      <td>Год</td>\n",
       "      <td>-0.293500</td>\n",
       "    </tr>\n",
       "    <tr>\n",
       "      <th>11</th>\n",
       "      <td>Нераспределенная прибыль (непокрытый убыток)/ТА</td>\n",
       "      <td>-0.088326</td>\n",
       "    </tr>\n",
       "    <tr>\n",
       "      <th>9</th>\n",
       "      <td>Коэффициент оборачиваемости совокупных активов</td>\n",
       "      <td>-0.079991</td>\n",
       "    </tr>\n",
       "    <tr>\n",
       "      <th>18</th>\n",
       "      <td>Частная</td>\n",
       "      <td>-0.068405</td>\n",
       "    </tr>\n",
       "    <tr>\n",
       "      <th>21</th>\n",
       "      <td>Сельское хозво</td>\n",
       "      <td>-0.067936</td>\n",
       "    </tr>\n",
       "    <tr>\n",
       "      <th>15</th>\n",
       "      <td>Выручка/ТА</td>\n",
       "      <td>-0.054408</td>\n",
       "    </tr>\n",
       "    <tr>\n",
       "      <th>12</th>\n",
       "      <td>Долгосрочные обязательства/ТА</td>\n",
       "      <td>0.083432</td>\n",
       "    </tr>\n",
       "    <tr>\n",
       "      <th>14</th>\n",
       "      <td>Совокупный долг/ТА</td>\n",
       "      <td>0.090718</td>\n",
       "    </tr>\n",
       "    <tr>\n",
       "      <th>3</th>\n",
       "      <td>Активы  всего, RUB</td>\n",
       "      <td>0.094959</td>\n",
       "    </tr>\n",
       "    <tr>\n",
       "      <th>13</th>\n",
       "      <td>Краткосрочные обязательства/ТА</td>\n",
       "      <td>0.097256</td>\n",
       "    </tr>\n",
       "    <tr>\n",
       "      <th>2</th>\n",
       "      <td>Оборотные активы, RUB</td>\n",
       "      <td>0.103461</td>\n",
       "    </tr>\n",
       "    <tr>\n",
       "      <th>7</th>\n",
       "      <td>Совокупный долг, RUB</td>\n",
       "      <td>0.120717</td>\n",
       "    </tr>\n",
       "    <tr>\n",
       "      <th>6</th>\n",
       "      <td>Краткосрочные обязательства, RUB</td>\n",
       "      <td>0.159639</td>\n",
       "    </tr>\n",
       "    <tr>\n",
       "      <th>19</th>\n",
       "      <td>АО</td>\n",
       "      <td>0.163395</td>\n",
       "    </tr>\n",
       "  </tbody>\n",
       "</table>\n",
       "</div>"
      ],
      "text/plain": [
       "                                          indicator     value\n",
       "0                                               Год -0.293500\n",
       "11  Нераспределенная прибыль (непокрытый убыток)/ТА -0.088326\n",
       "9    Коэффициент оборачиваемости совокупных активов -0.079991\n",
       "18                                          Частная -0.068405\n",
       "21                                   Сельское хозво -0.067936\n",
       "15                                       Выручка/ТА -0.054408\n",
       "12                    Долгосрочные обязательства/ТА  0.083432\n",
       "14                               Совокупный долг/ТА  0.090718\n",
       "3                                Активы  всего, RUB  0.094959\n",
       "13                   Краткосрочные обязательства/ТА  0.097256\n",
       "2                             Оборотные активы, RUB  0.103461\n",
       "7                              Совокупный долг, RUB  0.120717\n",
       "6                  Краткосрочные обязательства, RUB  0.159639\n",
       "19                                               АО  0.163395"
      ]
     },
     "execution_count": 9,
     "metadata": {},
     "output_type": "execute_result"
    }
   ],
   "source": [
    "tabl[abs(tabl['value']) > 0.05]"
   ]
  },
  {
   "cell_type": "markdown",
   "metadata": {},
   "source": [
    "Создаем 2 массива коэффициентов. 1ый - high_corr_cols, высококоррелируемые переменные. Cols - весь массив данных за исключением неотнормированных на TA переменных и за исключением некоторых dummy (чтобы исключить мультиколлинеарность) "
   ]
  },
  {
   "cell_type": "code",
   "execution_count": 10,
   "metadata": {},
   "outputs": [],
   "source": [
    "high_corr_cols = np.array(tabl.indicator[abs(tabl['value']) > 0.05])\n",
    "high_corr_cols = np.delete(high_corr_cols, 4)"
   ]
  },
  {
   "cell_type": "code",
   "execution_count": 11,
   "metadata": {},
   "outputs": [
    {
     "data": {
      "text/plain": [
       "array(['Год', 'Нераспределенная прибыль (непокрытый убыток)/ТА',\n",
       "       'Коэффициент оборачиваемости совокупных активов', 'Частная',\n",
       "       'Выручка/ТА', 'Долгосрочные обязательства/ТА',\n",
       "       'Совокупный долг/ТА', 'Активы  всего, RUB',\n",
       "       'Краткосрочные обязательства/ТА', 'Оборотные активы, RUB',\n",
       "       'Совокупный долг, RUB', 'Краткосрочные обязательства, RUB', 'АО'],\n",
       "      dtype=object)"
      ]
     },
     "execution_count": 11,
     "metadata": {},
     "output_type": "execute_result"
    }
   ],
   "source": [
    "high_corr_cols"
   ]
  },
  {
   "cell_type": "code",
   "execution_count": 12,
   "metadata": {},
   "outputs": [
    {
     "data": {
      "text/plain": [
       "array(['Год', 'Нераспределенная прибыль (непокрытый убыток)/ТА',\n",
       "       'Коэффициент оборачиваемости совокупных активов', 'Частная',\n",
       "       'Сельское хозво', 'Выручка/ТА', 'ООО', 'Неком', 'Кооперативы',\n",
       "       'Оборотные активы/ТА',\n",
       "       'Нераспределенная прибыль (непокрытый убыток), RUB',\n",
       "       'Выручка, RUB', 'Гос собственность.1', 'Возраст компании, лет',\n",
       "       'Гос собственность', 'Частичная',\n",
       "       'Долгосрочные обязательства, RUB', 'Долгосрочные обязательства/ТА',\n",
       "       'Совокупный долг/ТА', 'Активы  всего, RUB',\n",
       "       'Краткосрочные обязательства/ТА', 'Оборотные активы, RUB',\n",
       "       'Совокупный долг, RUB', 'Краткосрочные обязательства, RUB', 'АО'],\n",
       "      dtype=object)"
      ]
     },
     "execution_count": 12,
     "metadata": {},
     "output_type": "execute_result"
    }
   ],
   "source": [
    "cols = np.array(tabl.indicator)\n",
    "cols"
   ]
  },
  {
   "cell_type": "code",
   "execution_count": 13,
   "metadata": {},
   "outputs": [
    {
     "data": {
      "text/plain": [
       "array(['Год', 'Нераспределенная прибыль (непокрытый убыток)/ТА',\n",
       "       'Коэффициент оборачиваемости совокупных активов', 'Сельское хозво',\n",
       "       'Выручка/ТА', 'ООО', 'Неком', 'Оборотные активы/ТА',\n",
       "       'Возраст компании, лет', 'Гос собственность',\n",
       "       'Долгосрочные обязательства/ТА', 'Активы  всего, RUB', 'АО'],\n",
       "      dtype=object)"
      ]
     },
     "execution_count": 13,
     "metadata": {},
     "output_type": "execute_result"
    }
   ],
   "source": [
    "cols = np.delete(cols, [3, 8, 10, 11, 12, 15, 16, 18, 20, 21, 22, 23])   \n",
    "cols"
   ]
  },
  {
   "cell_type": "markdown",
   "metadata": {},
   "source": [
    "Корреляционные матрицы:"
   ]
  },
  {
   "cell_type": "code",
   "execution_count": 14,
   "metadata": {},
   "outputs": [
    {
     "data": {
      "text/plain": [
       "<AxesSubplot:title={'center':'Pearson Correlation of Indicators'}>"
      ]
     },
     "execution_count": 14,
     "metadata": {},
     "output_type": "execute_result"
    },
    {
     "data": {
      "image/png": "[encoded data removed]",
      "text/plain": [
       "<Figure size 1008x864 with 2 Axes>"
      ]
     },
     "metadata": {
      "needs_background": "light"
     },
     "output_type": "display_data"
    }
   ],
   "source": [
    "colormap = plt.cm.RdBu\n",
    "plt.figure(figsize=(14,12))\n",
    "\n",
    "plt.title('Pearson Correlation of Indicators', y=1.05, size=12)\n",
    "sns.heatmap(data[cols].corr(),\n",
    "            linewidths=0.1, vmax=1.0, \n",
    "            square=True, cmap=colormap, linecolor='white', annot=True)"
   ]
  },
  {
   "cell_type": "code",
   "execution_count": 15,
   "metadata": {},
   "outputs": [
    {
     "data": {
      "text/plain": [
       "<AxesSubplot:title={'center':'Pearson Correlation of Indicators'}>"
      ]
     },
     "execution_count": 15,
     "metadata": {},
     "output_type": "execute_result"
    },
    {
     "data": {
      "image/png": "[encoded data removed]",
      "text/plain": [
       "<Figure size 1008x864 with 2 Axes>"
      ]
     },
     "metadata": {
      "needs_background": "light"
     },
     "output_type": "display_data"
    }
   ],
   "source": [
    "colormap = plt.cm.RdBu\n",
    "plt.figure(figsize=(14,12))\n",
    "\n",
    "plt.title('Pearson Correlation of Indicators', y=1.05, size=12)\n",
    "sns.heatmap(data[high_corr_cols].corr(),\n",
    "            linewidths=0.1, vmax=1.0, \n",
    "            square=True, cmap=colormap, linecolor='white', annot=True)"
   ]
  },
  {
   "cell_type": "markdown",
   "metadata": {},
   "source": [
    "Создаем датасеты, содержащие вышеперечисленные переменные"
   ]
  },
  {
   "cell_type": "code",
   "execution_count": 15,
   "metadata": {},
   "outputs": [],
   "source": [
    "data_final = data[high_corr_cols]\n",
    "data_final_1 = data[cols]"
   ]
  },
  {
   "cell_type": "code",
   "execution_count": 16,
   "metadata": {},
   "outputs": [],
   "source": [
    "data_final = data_final.drop(['Краткосрочные обязательства/ТА', 'Совокупный долг/ТА'], axis =1)"
   ]
  },
  {
   "cell_type": "markdown",
   "metadata": {},
   "source": [
    "# Часть 2\n",
    "### Эконометрические модели"
   ]
  },
  {
   "cell_type": "markdown",
   "metadata": {},
   "source": [
    "Прогоняем логит на данных cols"
   ]
  },
  {
   "cell_type": "code",
   "execution_count": 17,
   "metadata": {},
   "outputs": [
    {
     "name": "stdout",
     "output_type": "stream",
     "text": [
      "Optimization terminated successfully.\n",
      "         Current function value: 0.193702\n",
      "         Iterations 12\n",
      "                                         Results: Logit\n",
      "================================================================================================\n",
      "Model:                         Logit                      Pseudo R-squared:           0.200     \n",
      "Dependent Variable:            Статус                     AIC:                        1218.0416 \n",
      "Date:                          2021-03-21 13:00           BIC:                        1296.4538 \n",
      "No. Observations:              3077                       Log-Likelihood:             -596.02   \n",
      "Df Model:                      12                         LL-Null:                    -745.35   \n",
      "Df Residuals:                  3064                       LLR p-value:                8.9399e-57\n",
      "Converged:                     1.0000                     Scale:                      1.0000    \n",
      "No. Iterations:                12.0000                                                          \n",
      "------------------------------------------------------------------------------------------------\n",
      "                                                 Coef.  Std.Err.    z    P>|z|   [0.025   0.975]\n",
      "------------------------------------------------------------------------------------------------\n",
      "Год                                             -0.9492   0.1289 -7.3637 0.0000  -1.2018 -0.6965\n",
      "Нераспределенная прибыль (непокрытый убыток)/ТА -0.0493   0.0281 -1.7533 0.0796  -0.1044  0.0058\n",
      "Коэффициент оборачиваемости совокупных активов  -0.6970   0.1216 -5.7299 0.0000  -0.9355 -0.4586\n",
      "Сельское хозво                                  14.2922   2.5497  5.6055 0.0000   9.2950 19.2895\n",
      "Выручка/ТА                                      -0.0477   0.0518 -0.9212 0.3570  -0.1493  0.0538\n",
      "ООО                                             15.6851   2.5064  6.2580 0.0000  10.7727 20.5976\n",
      "Неком                                           15.4937   2.7290  5.6774 0.0000  10.1449 20.8424\n",
      "Оборотные активы/ТА                              1.0462   0.3024  3.4598 0.0005   0.4535  1.6389\n",
      "Возраст компании, лет                            0.0023   0.0110  0.2063 0.8366  -0.0193  0.0239\n",
      "Гос собственность                                8.9897  35.0545  0.2564 0.7976 -59.7159 77.6953\n",
      "Долгосрочные обязательства/ТА                   -0.0169   0.0346 -0.4891 0.6248  -0.0848  0.0509\n",
      "Активы  всего, RUB                               0.0000   0.0000  2.9151 0.0036   0.0000  0.0000\n",
      "АО                                              16.8061   2.5202  6.6685 0.0000  11.8665 21.7456\n",
      "================================================================================================\n",
      "\n"
     ]
    }
   ],
   "source": [
    "import statsmodels.api as sm\n",
    "Logit_model=sm.Logit(Y,data_final_1)\n",
    "result=Logit_model.fit()\n",
    "print(result.summary2())"
   ]
  },
  {
   "cell_type": "markdown",
   "metadata": {},
   "source": [
    "Прогоняем пробит на данных cols"
   ]
  },
  {
   "cell_type": "code",
   "execution_count": 18,
   "metadata": {},
   "outputs": [
    {
     "name": "stdout",
     "output_type": "stream",
     "text": [
      "Optimization terminated successfully.\n",
      "         Current function value: 0.198965\n",
      "         Iterations 9\n",
      "                                        Results: Probit\n",
      "===============================================================================================\n",
      "Model:                        Probit                     Pseudo R-squared:           0.179     \n",
      "Dependent Variable:           Статус                     AIC:                        1250.4325 \n",
      "Date:                         2021-03-21 13:00           BIC:                        1328.8447 \n",
      "No. Observations:             3077                       Log-Likelihood:             -612.22   \n",
      "Df Model:                     12                         LL-Null:                    -745.35   \n",
      "Df Residuals:                 3064                       LLR p-value:                5.4633e-50\n",
      "Converged:                    1.0000                     Scale:                      1.0000    \n",
      "No. Iterations:               9.0000                                                           \n",
      "-----------------------------------------------------------------------------------------------\n",
      "                                                 Coef.  Std.Err.    z    P>|z|   [0.025  0.975]\n",
      "-----------------------------------------------------------------------------------------------\n",
      "Год                                             -0.2678   0.0332 -8.0693 0.0000 -0.3328 -0.2027\n",
      "Нераспределенная прибыль (непокрытый убыток)/ТА -0.0267   0.0141 -1.8855 0.0594 -0.0544  0.0011\n",
      "Коэффициент оборачиваемости совокупных активов  -0.2635   0.0478 -5.5068 0.0000 -0.3573 -0.1697\n",
      "Сельское хозво                                   2.8759   0.6549  4.3913 0.0000  1.5923  4.1596\n",
      "Выручка/ТА                                      -0.0268   0.0258 -1.0379 0.2993 -0.0773  0.0238\n",
      "ООО                                              3.5537   0.6330  5.6142 0.0000  2.3130  4.7943\n",
      "Неком                                            3.3750   0.7716  4.3738 0.0000  1.8626  4.8874\n",
      "Оборотные активы/ТА                              0.5216   0.1460  3.5726 0.0004  0.2355  0.8078\n",
      "Возраст компании, лет                            0.0048   0.0053  0.9091 0.3633 -0.0056  0.0153\n",
      "Гос собственность                                2.5483   1.5308  1.6647 0.0960 -0.4520  5.5487\n",
      "Долгосрочные обязательства/ТА                   -0.0088   0.0170 -0.5173 0.6049 -0.0421  0.0245\n",
      "Активы  всего, RUB                               0.0000   0.0000  2.9763 0.0029  0.0000  0.0000\n",
      "АО                                               4.1235   0.6380  6.4627 0.0000  2.8730  5.3740\n",
      "===============================================================================================\n",
      "\n"
     ]
    }
   ],
   "source": [
    "Probit_model=sm.Probit(Y,data_final_1)\n",
    "result=Probit_model.fit()\n",
    "print(result.summary2())"
   ]
  },
  {
   "cell_type": "markdown",
   "metadata": {},
   "source": [
    "То же самое, но на данных high_corr_cols:"
   ]
  },
  {
   "cell_type": "code",
   "execution_count": 44,
   "metadata": {},
   "outputs": [
    {
     "name": "stdout",
     "output_type": "stream",
     "text": [
      "Optimization terminated successfully.\n",
      "         Current function value: 0.205138\n",
      "         Iterations 10\n",
      "                                        Results: Logit\n",
      "===============================================================================================\n",
      "Model:                        Logit                      Pseudo R-squared:           0.153     \n",
      "Dependent Variable:           Статус                     AIC:                        1284.4166 \n",
      "Date:                         2021-03-21 13:19           BIC:                        1350.7654 \n",
      "No. Observations:             3077                       Log-Likelihood:             -631.21   \n",
      "Df Model:                     10                         LL-Null:                    -745.35   \n",
      "Df Residuals:                 3066                       LLR p-value:                1.9578e-43\n",
      "Converged:                    1.0000                     Scale:                      1.0000    \n",
      "No. Iterations:               10.0000                                                          \n",
      "-----------------------------------------------------------------------------------------------\n",
      "                                                 Coef.  Std.Err.    z    P>|z|   [0.025  0.975]\n",
      "-----------------------------------------------------------------------------------------------\n",
      "Год                                             -0.2183   0.0617 -3.5413 0.0004 -0.3392 -0.0975\n",
      "Нераспределенная прибыль (непокрытый убыток)/ТА -0.0302   0.0210 -1.4359 0.1510 -0.0714  0.0110\n",
      "Коэффициент оборачиваемости совокупных активов  -0.6419   0.1141 -5.6257 0.0000 -0.8656 -0.4183\n",
      "Частная                                          1.9754   1.1968  1.6505 0.0988 -0.3703  4.3210\n",
      "Выручка/ТА                                      -0.0148   0.0358 -0.4119 0.6804 -0.0850  0.0555\n",
      "Долгосрочные обязательства/ТА                    0.0077   0.0272  0.2832 0.7770 -0.0455  0.0609\n",
      "Активы  всего, RUB                              -0.0000   0.0000 -1.7169 0.0860 -0.0000  0.0000\n",
      "Оборотные активы, RUB                           -0.0000   0.0000 -0.2806 0.7790 -0.0000  0.0000\n",
      "Совокупный долг, RUB                             0.0000   0.0000  1.6742 0.0941 -0.0000  0.0000\n",
      "Краткосрочные обязательства, RUB                 0.0000   0.0000  2.7472 0.0060  0.0000  0.0000\n",
      "АО                                               1.3472   0.2057  6.5482 0.0000  0.9440  1.7505\n",
      "===============================================================================================\n",
      "\n"
     ]
    }
   ],
   "source": [
    "import statsmodels.api as sm\n",
    "Logit_model=sm.Logit(Y,data_final)\n",
    "result=Logit_model.fit()\n",
    "print(result.summary2())"
   ]
  },
  {
   "cell_type": "code",
   "execution_count": 45,
   "metadata": {},
   "outputs": [
    {
     "name": "stdout",
     "output_type": "stream",
     "text": [
      "Optimization terminated successfully.\n",
      "         Current function value: 0.205608\n",
      "         Iterations 9\n",
      "                                        Results: Probit\n",
      "===============================================================================================\n",
      "Model:                        Probit                     Pseudo R-squared:           0.151     \n",
      "Dependent Variable:           Статус                     AIC:                        1287.3112 \n",
      "Date:                         2021-03-21 13:19           BIC:                        1353.6600 \n",
      "No. Observations:             3077                       Log-Likelihood:             -632.66   \n",
      "Df Model:                     10                         LL-Null:                    -745.35   \n",
      "Df Residuals:                 3066                       LLR p-value:                7.9132e-43\n",
      "Converged:                    1.0000                     Scale:                      1.0000    \n",
      "No. Iterations:               9.0000                                                           \n",
      "-----------------------------------------------------------------------------------------------\n",
      "                                                 Coef.  Std.Err.    z    P>|z|   [0.025  0.975]\n",
      "-----------------------------------------------------------------------------------------------\n",
      "Год                                             -0.1118   0.0205 -5.4627 0.0000 -0.1520 -0.0717\n",
      "Нераспределенная прибыль (непокрытый убыток)/ТА -0.0199   0.0130 -1.5309 0.1258 -0.0454  0.0056\n",
      "Коэффициент оборачиваемости совокупных активов  -0.2275   0.0445 -5.1142 0.0000 -0.3147 -0.1403\n",
      "Частная                                          0.7962   0.3971  2.0050 0.0450  0.0179  1.5745\n",
      "Выручка/ТА                                      -0.0132   0.0237 -0.5556 0.5785 -0.0596  0.0333\n",
      "Долгосрочные обязательства/ТА                    0.0008   0.0160  0.0470 0.9625 -0.0305  0.0320\n",
      "Активы  всего, RUB                              -0.0000   0.0000 -1.4746 0.1403 -0.0000  0.0000\n",
      "Оборотные активы, RUB                           -0.0000   0.0000 -0.4105 0.6815 -0.0000  0.0000\n",
      "Совокупный долг, RUB                             0.0000   0.0000  1.4711 0.1413 -0.0000  0.0000\n",
      "Краткосрочные обязательства, RUB                 0.0000   0.0000  2.4975 0.0125  0.0000  0.0000\n",
      "АО                                               0.7297   0.1147  6.3632 0.0000  0.5049  0.9545\n",
      "===============================================================================================\n",
      "\n"
     ]
    }
   ],
   "source": [
    "Probit_model=sm.Probit(Y,data_final)\n",
    "result=Probit_model.fit()\n",
    "print(result.summary2())"
   ]
  },
  {
   "cell_type": "markdown",
   "metadata": {},
   "source": [
    "# Часть 3\n",
    "### Модели машинного обучения"
   ]
  },
  {
   "cell_type": "code",
   "execution_count": 46,
   "metadata": {},
   "outputs": [],
   "source": [
    "from sklearn.linear_model import LinearRegression, Ridge, Lasso\n",
    "from sklearn.model_selection import train_test_split, GridSearchCV\n",
    "from sklearn.metrics import mean_squared_error\n",
    "from sklearn import preprocessing\n",
    "from sklearn.neighbors import KNeighborsClassifier"
   ]
  },
  {
   "cell_type": "code",
   "execution_count": 48,
   "metadata": {},
   "outputs": [],
   "source": [
    "X = data_final_1"
   ]
  },
  {
   "cell_type": "markdown",
   "metadata": {},
   "source": [
    "Делим выборку случайным образом на тренировочную и тестовую. Это нужно, чтобы после обучения на тренировочной,\n",
    "можно было тестировать точность модели на тестовой."
   ]
  },
  {
   "cell_type": "code",
   "execution_count": 49,
   "metadata": {},
   "outputs": [],
   "source": [
    "np.random.seed(123)\n",
    "X_train, X_test, y_train, y_test = train_test_split(X, Y, random_state=0, test_size = 0.3)"
   ]
  },
  {
   "cell_type": "markdown",
   "metadata": {},
   "source": [
    "1) Прогоняем модели к ближайших соседей, смотрим на точность, выбираем наилучший к"
   ]
  },
  {
   "cell_type": "code",
   "execution_count": 50,
   "metadata": {},
   "outputs": [],
   "source": [
    "train = []\n",
    "test = []\n",
    "NN = []"
   ]
  },
  {
   "cell_type": "code",
   "execution_count": 23,
   "metadata": {},
   "outputs": [],
   "source": [
    "for k in [1, 3, 5, 10, 15, 25]:\n",
    "    NN.append(k)\n",
    "    y_predicted_test = KNeighborsClassifier(n_neighbors=k).fit(X_train, y_train).predict(X_test)\n",
    "    test.append(np.mean(y_test==y_predicted_test))\n",
    "    y_predicted_train = KNeighborsClassifier(n_neighbors=k).fit(X_train, y_train).predict(X_train)\n",
    "    train.append(np.mean(y_train==y_predicted_train))"
   ]
  },
  {
   "cell_type": "code",
   "execution_count": 24,
   "metadata": {},
   "outputs": [
    {
     "data": {
      "text/html": [
       "<div>\n",
       "<style scoped>\n",
       "    .dataframe tbody tr th:only-of-type {\n",
       "        vertical-align: middle;\n",
       "    }\n",
       "\n",
       "    .dataframe tbody tr th {\n",
       "        vertical-align: top;\n",
       "    }\n",
       "\n",
       "    .dataframe thead th {\n",
       "        text-align: right;\n",
       "    }\n",
       "</style>\n",
       "<table border=\"1\" class=\"dataframe\">\n",
       "  <thead>\n",
       "    <tr style=\"text-align: right;\">\n",
       "      <th></th>\n",
       "      <th>NN</th>\n",
       "      <th>Train</th>\n",
       "      <th>Test</th>\n",
       "    </tr>\n",
       "  </thead>\n",
       "  <tbody>\n",
       "    <tr>\n",
       "      <th>0</th>\n",
       "      <td>1</td>\n",
       "      <td>1.000000</td>\n",
       "      <td>0.871212</td>\n",
       "    </tr>\n",
       "    <tr>\n",
       "      <th>1</th>\n",
       "      <td>3</td>\n",
       "      <td>0.941013</td>\n",
       "      <td>0.915584</td>\n",
       "    </tr>\n",
       "    <tr>\n",
       "      <th>2</th>\n",
       "      <td>5</td>\n",
       "      <td>0.934974</td>\n",
       "      <td>0.931818</td>\n",
       "    </tr>\n",
       "    <tr>\n",
       "      <th>3</th>\n",
       "      <td>10</td>\n",
       "      <td>0.930794</td>\n",
       "      <td>0.939394</td>\n",
       "    </tr>\n",
       "    <tr>\n",
       "      <th>4</th>\n",
       "      <td>15</td>\n",
       "      <td>0.931723</td>\n",
       "      <td>0.942641</td>\n",
       "    </tr>\n",
       "    <tr>\n",
       "      <th>5</th>\n",
       "      <td>25</td>\n",
       "      <td>0.931259</td>\n",
       "      <td>0.941558</td>\n",
       "    </tr>\n",
       "  </tbody>\n",
       "</table>\n",
       "</div>"
      ],
      "text/plain": [
       "   NN     Train      Test\n",
       "0   1  1.000000  0.871212\n",
       "1   3  0.941013  0.915584\n",
       "2   5  0.934974  0.931818\n",
       "3  10  0.930794  0.939394\n",
       "4  15  0.931723  0.942641\n",
       "5  25  0.931259  0.941558"
      ]
     },
     "execution_count": 24,
     "metadata": {},
     "output_type": "execute_result"
    }
   ],
   "source": [
    "tab = {'NN': NN, 'Train': train , 'Test': test}\n",
    "tabl = pd.DataFrame(tab, columns = ['NN','Train', 'Test'])\n",
    "tabl"
   ]
  },
  {
   "cell_type": "markdown",
   "metadata": {},
   "source": [
    "Лучше выбрать 5 соседей"
   ]
  },
  {
   "cell_type": "markdown",
   "metadata": {},
   "source": [
    "2) прогоняем модели: Случайный лес, Логит регрессию, Градиентный бустинг и КНН (k = 5)"
   ]
  },
  {
   "cell_type": "code",
   "execution_count": 26,
   "metadata": {},
   "outputs": [],
   "source": [
    "import mlxtend\n",
    "from sklearn.linear_model import LogisticRegression\n",
    "from sklearn.ensemble import RandomForestClassifier, GradientBoostingClassifier\n",
    "import numpy as np\n",
    "import matplotlib.pyplot as plt\n",
    "from mlxtend.plotting import plot_decision_regions\n",
    "import matplotlib.gridspec as gridspec\n",
    "import itertools\n",
    "from sklearn.metrics import classification_report, roc_auc_score, confusion_matrix"
   ]
  },
  {
   "cell_type": "code",
   "execution_count": 27,
   "metadata": {},
   "outputs": [],
   "source": [
    "X_tr = np.array(X_train)\n",
    "y_tr = np.array(y_train)"
   ]
  },
  {
   "cell_type": "code",
   "execution_count": 36,
   "metadata": {},
   "outputs": [],
   "source": [
    "train = []\n",
    "test = []\n",
    "model = []"
   ]
  },
  {
   "cell_type": "code",
   "execution_count": 37,
   "metadata": {},
   "outputs": [],
   "source": [
    "clf1 = LogisticRegression(random_state=1,\n",
    "                          solver='newton-cg',\n",
    "                          multi_class='multinomial')\n",
    "clf2 = RandomForestClassifier(random_state=1, n_estimators=100)\n",
    "clf3 =  GradientBoostingClassifier(n_estimators=300)\n",
    "clf4 = KNeighborsClassifier(n_neighbors = 5)\n",
    "labels = ['Logistic Regression', 'Random Forest', 'Gradient Boosting', 'KNN (k = 5)']\n",
    "for clf, lab in zip([clf1, clf2, clf3, clf4],\n",
    "                         labels):\n",
    "    model.append(lab)\n",
    "    y_predicted_test = clf.fit(X_train, y_train).predict(X_test)\n",
    "    test.append(np.mean(y_test==y_predicted_test))\n",
    "    y_predicted_train = clf.fit(X_train, y_train).predict(X_train)\n",
    "    train.append(np.mean(y_train==y_predicted_train))"
   ]
  },
  {
   "cell_type": "code",
   "execution_count": 38,
   "metadata": {},
   "outputs": [
    {
     "data": {
      "text/html": [
       "<div>\n",
       "<style scoped>\n",
       "    .dataframe tbody tr th:only-of-type {\n",
       "        vertical-align: middle;\n",
       "    }\n",
       "\n",
       "    .dataframe tbody tr th {\n",
       "        vertical-align: top;\n",
       "    }\n",
       "\n",
       "    .dataframe thead th {\n",
       "        text-align: right;\n",
       "    }\n",
       "</style>\n",
       "<table border=\"1\" class=\"dataframe\">\n",
       "  <thead>\n",
       "    <tr style=\"text-align: right;\">\n",
       "      <th></th>\n",
       "      <th>model</th>\n",
       "      <th>Train</th>\n",
       "      <th>Test</th>\n",
       "    </tr>\n",
       "  </thead>\n",
       "  <tbody>\n",
       "    <tr>\n",
       "      <th>0</th>\n",
       "      <td>Logistic Regression</td>\n",
       "      <td>0.931723</td>\n",
       "      <td>0.940476</td>\n",
       "    </tr>\n",
       "    <tr>\n",
       "      <th>1</th>\n",
       "      <td>Random Forest</td>\n",
       "      <td>1.000000</td>\n",
       "      <td>0.953463</td>\n",
       "    </tr>\n",
       "    <tr>\n",
       "      <th>2</th>\n",
       "      <td>Gradient Boosting</td>\n",
       "      <td>0.996749</td>\n",
       "      <td>0.952381</td>\n",
       "    </tr>\n",
       "    <tr>\n",
       "      <th>3</th>\n",
       "      <td>KNN (k = 5)</td>\n",
       "      <td>0.934974</td>\n",
       "      <td>0.931818</td>\n",
       "    </tr>\n",
       "  </tbody>\n",
       "</table>\n",
       "</div>"
      ],
      "text/plain": [
       "                 model     Train      Test\n",
       "0  Logistic Regression  0.931723  0.940476\n",
       "1        Random Forest  1.000000  0.953463\n",
       "2    Gradient Boosting  0.996749  0.952381\n",
       "3          KNN (k = 5)  0.934974  0.931818"
      ]
     },
     "execution_count": 38,
     "metadata": {},
     "output_type": "execute_result"
    }
   ],
   "source": [
    "tab = {'model': model, 'Train': train , 'Test': test}\n",
    "tabl = pd.DataFrame(tab, columns = ['model','Train', 'Test'])\n",
    "tabl"
   ]
  },
  {
   "cell_type": "markdown",
   "metadata": {},
   "source": [
    "Модели, кажется, предсказывают статус очень хорошо, но так как небанкротств значительно больше, чем банкротств,\n",
    "возникает предположение, что модели хорошо предсказывают только небанкротсва. Посмотрим отдельно на предсказания\n",
    "каждого из статусов"
   ]
  },
  {
   "cell_type": "markdown",
   "metadata": {},
   "source": [
    "Это сделаем с помошью confusion matrix и classification report. \n",
    "Про confusion matrix читайте тут https://en.wikipedia.org/wiki/Confusion_matrix\n",
    "\n",
    "Если коротко, то в этих матрицах 2х2 в клетках 11 и 22 верно предсказанные значения, в 12 - ошибочно предсказанные банкротства, в 21 - ошибочные небанкротства"
   ]
  },
  {
   "cell_type": "code",
   "execution_count": 39,
   "metadata": {},
   "outputs": [
    {
     "name": "stdout",
     "output_type": "stream",
     "text": [
      "------------------------Logistic Regression------------------------\n",
      "[[2005    0]\n",
      " [ 147    1]]\n",
      "              precision    recall  f1-score   support\n",
      "\n",
      "           0       0.93      1.00      0.96      2005\n",
      "           1       1.00      0.01      0.01       148\n",
      "\n",
      "    accuracy                           0.93      2153\n",
      "   macro avg       0.97      0.50      0.49      2153\n",
      "weighted avg       0.94      0.93      0.90      2153\n",
      "\n",
      "------------------------Random Forest------------------------\n",
      "[[2005    0]\n",
      " [   0  148]]\n",
      "              precision    recall  f1-score   support\n",
      "\n",
      "           0       1.00      1.00      1.00      2005\n",
      "           1       1.00      1.00      1.00       148\n",
      "\n",
      "    accuracy                           1.00      2153\n",
      "   macro avg       1.00      1.00      1.00      2153\n",
      "weighted avg       1.00      1.00      1.00      2153\n",
      "\n",
      "------------------------Gradient Boosting------------------------\n",
      "[[2005    0]\n",
      " [   7  141]]\n",
      "              precision    recall  f1-score   support\n",
      "\n",
      "           0       1.00      1.00      1.00      2005\n",
      "           1       1.00      0.95      0.98       148\n",
      "\n",
      "    accuracy                           1.00      2153\n",
      "   macro avg       1.00      0.98      0.99      2153\n",
      "weighted avg       1.00      1.00      1.00      2153\n",
      "\n",
      "------------------------KNN (k = 5)------------------------\n",
      "[[1997    8]\n",
      " [ 132   16]]\n",
      "              precision    recall  f1-score   support\n",
      "\n",
      "           0       0.94      1.00      0.97      2005\n",
      "           1       0.67      0.11      0.19       148\n",
      "\n",
      "    accuracy                           0.93      2153\n",
      "   macro avg       0.80      0.55      0.58      2153\n",
      "weighted avg       0.92      0.93      0.91      2153\n",
      "\n"
     ]
    }
   ],
   "source": [
    "models = [clf1, clf2, clf3, clf4]\n",
    "for clf, lab in zip(models, labels):\n",
    "    clf.fit(X_train, y_train)\n",
    "    print('------------------------'+lab+'------------------------')\n",
    "    y_train_pred = clf.predict(X_train)\n",
    "    arg_train = {'y_true':y_train, 'y_pred':y_train_pred}\n",
    "    print(confusion_matrix(**arg_train))\n",
    "    print(classification_report(**arg_train)) "
   ]
  },
  {
   "cell_type": "markdown",
   "metadata": {},
   "source": [
    "На тренировочной выборке отлично работают модели Рандомный лес и Градиентный бустинг. Логит и КНН хорошо предсказывают\n",
    "небанкротства, с банкротствами ошибаются\n",
    "\n",
    "Проверим теперь на тестовой выборке"
   ]
  },
  {
   "cell_type": "code",
   "execution_count": 40,
   "metadata": {},
   "outputs": [
    {
     "name": "stdout",
     "output_type": "stream",
     "text": [
      "------------------------Logistic Regression------------------------\n",
      "[[870   0]\n",
      " [ 54   0]]\n",
      "              precision    recall  f1-score   support\n",
      "\n",
      "           0       0.94      1.00      0.97       870\n",
      "           1       0.00      0.00      0.00        54\n",
      "\n",
      "    accuracy                           0.94       924\n",
      "   macro avg       0.47      0.50      0.48       924\n",
      "weighted avg       0.89      0.94      0.91       924\n",
      "\n",
      "------------------------Random Forest------------------------\n",
      "[[870   0]\n",
      " [  0  54]]\n",
      "              precision    recall  f1-score   support\n",
      "\n",
      "           0       1.00      1.00      1.00       870\n",
      "           1       1.00      1.00      1.00        54\n",
      "\n",
      "    accuracy                           1.00       924\n",
      "   macro avg       1.00      1.00      1.00       924\n",
      "weighted avg       1.00      1.00      1.00       924\n",
      "\n",
      "------------------------Gradient Boosting------------------------\n",
      "[[870   0]\n",
      " [  0  54]]\n",
      "              precision    recall  f1-score   support\n",
      "\n",
      "           0       1.00      1.00      1.00       870\n",
      "           1       1.00      1.00      1.00        54\n",
      "\n",
      "    accuracy                           1.00       924\n",
      "   macro avg       1.00      1.00      1.00       924\n",
      "weighted avg       1.00      1.00      1.00       924\n",
      "\n",
      "------------------------KNN (k = 5)------------------------\n",
      "[[866   4]\n",
      " [ 46   8]]\n",
      "              precision    recall  f1-score   support\n",
      "\n",
      "           0       0.95      1.00      0.97       870\n",
      "           1       0.67      0.15      0.24        54\n",
      "\n",
      "    accuracy                           0.95       924\n",
      "   macro avg       0.81      0.57      0.61       924\n",
      "weighted avg       0.93      0.95      0.93       924\n",
      "\n"
     ]
    }
   ],
   "source": [
    "models = [clf1, clf2, clf3, clf4]\n",
    "for clf, lab in zip(models, labels):\n",
    "    clf.fit(X_test, y_test)\n",
    "    print('------------------------'+lab+'------------------------')\n",
    "    y_test_pred = clf.predict(X_test)\n",
    "    arg_test = {'y_true':y_test, 'y_pred':y_test_pred}\n",
    "    print(confusion_matrix(**arg_test))\n",
    "    print(classification_report(**arg_test)) "
   ]
  },
  {
   "cell_type": "markdown",
   "metadata": {},
   "source": [
    "Вывод тот же самый. У Рандомного леса и Градиентного бусинга никаких проблем. Эти модели - наилучшие"
   ]
  },
  {
   "cell_type": "markdown",
   "metadata": {},
   "source": [
    "Теперь прогоним модели на массиве данных high_corr_cols."
   ]
  },
  {
   "cell_type": "code",
   "execution_count": 62,
   "metadata": {},
   "outputs": [],
   "source": [
    "X = data_final\n",
    "np.random.seed(123)\n",
    "X_train, X_test, y_train, y_test = train_test_split(X, Y, random_state=0, test_size = 0.3)\n",
    "X_tr = np.array(X_train)\n",
    "y_tr = np.array(y_train)\n"
   ]
  },
  {
   "cell_type": "code",
   "execution_count": 63,
   "metadata": {},
   "outputs": [],
   "source": [
    "train = []\n",
    "test = []\n",
    "model = []"
   ]
  },
  {
   "cell_type": "code",
   "execution_count": 64,
   "metadata": {},
   "outputs": [],
   "source": [
    "clf1 = LogisticRegression(random_state=1,\n",
    "                          solver='newton-cg',\n",
    "                          multi_class='multinomial')\n",
    "clf2 = RandomForestClassifier(random_state=1, n_estimators=100)\n",
    "clf3 =  GradientBoostingClassifier(n_estimators=300)\n",
    "clf4 = KNeighborsClassifier(n_neighbors = 5)\n",
    "labels = ['Logistic Regression', 'Random Forest', 'Gradient Boosting', 'KNN (k = 5)']\n",
    "for clf, lab in zip([clf1, clf2, clf3, clf4],\n",
    "                         labels):\n",
    "    model.append(lab)\n",
    "    y_predicted_test = clf.fit(X_train, y_train).predict(X_test)\n",
    "    test.append(np.mean(y_test==y_predicted_test))\n",
    "    y_predicted_train = clf.fit(X_train, y_train).predict(X_train)\n",
    "    train.append(np.mean(y_train==y_predicted_train))"
   ]
  },
  {
   "cell_type": "code",
   "execution_count": 65,
   "metadata": {},
   "outputs": [
    {
     "data": {
      "text/html": [
       "<div>\n",
       "<style scoped>\n",
       "    .dataframe tbody tr th:only-of-type {\n",
       "        vertical-align: middle;\n",
       "    }\n",
       "\n",
       "    .dataframe tbody tr th {\n",
       "        vertical-align: top;\n",
       "    }\n",
       "\n",
       "    .dataframe thead th {\n",
       "        text-align: right;\n",
       "    }\n",
       "</style>\n",
       "<table border=\"1\" class=\"dataframe\">\n",
       "  <thead>\n",
       "    <tr style=\"text-align: right;\">\n",
       "      <th></th>\n",
       "      <th>model</th>\n",
       "      <th>Train</th>\n",
       "      <th>Test</th>\n",
       "    </tr>\n",
       "  </thead>\n",
       "  <tbody>\n",
       "    <tr>\n",
       "      <th>0</th>\n",
       "      <td>Logistic Regression</td>\n",
       "      <td>0.931259</td>\n",
       "      <td>0.941558</td>\n",
       "    </tr>\n",
       "    <tr>\n",
       "      <th>1</th>\n",
       "      <td>Random Forest</td>\n",
       "      <td>1.000000</td>\n",
       "      <td>0.953463</td>\n",
       "    </tr>\n",
       "    <tr>\n",
       "      <th>2</th>\n",
       "      <td>Gradient Boosting</td>\n",
       "      <td>0.997678</td>\n",
       "      <td>0.956710</td>\n",
       "    </tr>\n",
       "    <tr>\n",
       "      <th>3</th>\n",
       "      <td>KNN (k = 5)</td>\n",
       "      <td>0.937761</td>\n",
       "      <td>0.936147</td>\n",
       "    </tr>\n",
       "  </tbody>\n",
       "</table>\n",
       "</div>"
      ],
      "text/plain": [
       "                 model     Train      Test\n",
       "0  Logistic Regression  0.931259  0.941558\n",
       "1        Random Forest  1.000000  0.953463\n",
       "2    Gradient Boosting  0.997678  0.956710\n",
       "3          KNN (k = 5)  0.937761  0.936147"
      ]
     },
     "execution_count": 65,
     "metadata": {},
     "output_type": "execute_result"
    }
   ],
   "source": [
    "tab = {'model': model, 'Train': train , 'Test': test}\n",
    "tabl = pd.DataFrame(tab, columns = ['model','Train', 'Test'])\n",
    "tabl"
   ]
  },
  {
   "cell_type": "code",
   "execution_count": 66,
   "metadata": {},
   "outputs": [
    {
     "name": "stdout",
     "output_type": "stream",
     "text": [
      "------------------------Logistic Regression------------------------\n",
      "[[2002    3]\n",
      " [ 145    3]]\n",
      "              precision    recall  f1-score   support\n",
      "\n",
      "           0       0.93      1.00      0.96      2005\n",
      "           1       0.50      0.02      0.04       148\n",
      "\n",
      "    accuracy                           0.93      2153\n",
      "   macro avg       0.72      0.51      0.50      2153\n",
      "weighted avg       0.90      0.93      0.90      2153\n",
      "\n",
      "------------------------Random Forest------------------------\n",
      "[[2005    0]\n",
      " [   0  148]]\n",
      "              precision    recall  f1-score   support\n",
      "\n",
      "           0       1.00      1.00      1.00      2005\n",
      "           1       1.00      1.00      1.00       148\n",
      "\n",
      "    accuracy                           1.00      2153\n",
      "   macro avg       1.00      1.00      1.00      2153\n",
      "weighted avg       1.00      1.00      1.00      2153\n",
      "\n",
      "------------------------Gradient Boosting------------------------\n",
      "[[2005    0]\n",
      " [   5  143]]\n",
      "              precision    recall  f1-score   support\n",
      "\n",
      "           0       1.00      1.00      1.00      2005\n",
      "           1       1.00      0.97      0.98       148\n",
      "\n",
      "    accuracy                           1.00      2153\n",
      "   macro avg       1.00      0.98      0.99      2153\n",
      "weighted avg       1.00      1.00      1.00      2153\n",
      "\n",
      "------------------------KNN (k = 5)------------------------\n",
      "[[1985   20]\n",
      " [ 114   34]]\n",
      "              precision    recall  f1-score   support\n",
      "\n",
      "           0       0.95      0.99      0.97      2005\n",
      "           1       0.63      0.23      0.34       148\n",
      "\n",
      "    accuracy                           0.94      2153\n",
      "   macro avg       0.79      0.61      0.65      2153\n",
      "weighted avg       0.92      0.94      0.92      2153\n",
      "\n"
     ]
    }
   ],
   "source": [
    "models = [clf1, clf2, clf3, clf4]\n",
    "for clf, lab in zip(models, labels):\n",
    "    clf.fit(X_train, y_train)\n",
    "    print('------------------------'+lab+'------------------------')\n",
    "    y_train_pred = clf.predict(X_train)\n",
    "    arg_train = {'y_true':y_train, 'y_pred':y_train_pred}\n",
    "    print(confusion_matrix(**arg_train))\n",
    "    print(classification_report(**arg_train)) "
   ]
  },
  {
   "cell_type": "code",
   "execution_count": 67,
   "metadata": {},
   "outputs": [
    {
     "name": "stdout",
     "output_type": "stream",
     "text": [
      "------------------------Logistic Regression------------------------\n",
      "[[867   3]\n",
      " [ 53   1]]\n",
      "              precision    recall  f1-score   support\n",
      "\n",
      "           0       0.94      1.00      0.97       870\n",
      "           1       0.25      0.02      0.03        54\n",
      "\n",
      "    accuracy                           0.94       924\n",
      "   macro avg       0.60      0.51      0.50       924\n",
      "weighted avg       0.90      0.94      0.91       924\n",
      "\n",
      "------------------------Random Forest------------------------\n",
      "[[870   0]\n",
      " [  0  54]]\n",
      "              precision    recall  f1-score   support\n",
      "\n",
      "           0       1.00      1.00      1.00       870\n",
      "           1       1.00      1.00      1.00        54\n",
      "\n",
      "    accuracy                           1.00       924\n",
      "   macro avg       1.00      1.00      1.00       924\n",
      "weighted avg       1.00      1.00      1.00       924\n",
      "\n",
      "------------------------Gradient Boosting------------------------\n",
      "[[870   0]\n",
      " [  0  54]]\n",
      "              precision    recall  f1-score   support\n",
      "\n",
      "           0       1.00      1.00      1.00       870\n",
      "           1       1.00      1.00      1.00        54\n",
      "\n",
      "    accuracy                           1.00       924\n",
      "   macro avg       1.00      1.00      1.00       924\n",
      "weighted avg       1.00      1.00      1.00       924\n",
      "\n",
      "------------------------KNN (k = 5)------------------------\n",
      "[[867   3]\n",
      " [ 42  12]]\n",
      "              precision    recall  f1-score   support\n",
      "\n",
      "           0       0.95      1.00      0.97       870\n",
      "           1       0.80      0.22      0.35        54\n",
      "\n",
      "    accuracy                           0.95       924\n",
      "   macro avg       0.88      0.61      0.66       924\n",
      "weighted avg       0.94      0.95      0.94       924\n",
      "\n"
     ]
    }
   ],
   "source": [
    "models = [clf1, clf2, clf3, clf4]\n",
    "for clf, lab in zip(models, labels):\n",
    "    clf.fit(X_test, y_test)\n",
    "    print('------------------------'+lab+'------------------------')\n",
    "    y_test_pred = clf.predict(X_test)\n",
    "    arg_test = {'y_true':y_test, 'y_pred':y_test_pred}\n",
    "    print(confusion_matrix(**arg_test))\n",
    "    print(classification_report(**arg_test)) "
   ]
  },
  {
   "cell_type": "markdown",
   "metadata": {},
   "source": [
    "С таким массивом данных модели работают чуть лучше. Но таки или иначе точность у всех моделей примерно одинаковая"
   ]
  }
 ],
 "metadata": {
  "kernelspec": {
   "display_name": "Python 3",
   "language": "python",
   "name": "python3"
  },
  "language_info": {
   "codemirror_mode": {
    "name": "ipython",
    "version": 3
   },
   "file_extension": ".py",
   "mimetype": "text/x-python",
   "name": "python",
   "nbconvert_exporter": "python",
   "pygments_lexer": "ipython3",
   "version": "3.8.5"
  }
 },
 "nbformat": 4,
 "nbformat_minor": 4
}
